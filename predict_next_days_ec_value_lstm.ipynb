{
 "cells": [
  {
   "cell_type": "code",
   "execution_count": 1,
   "id": "71e66b7c",
   "metadata": {},
   "outputs": [],
   "source": [
    "import pandas as pd\n",
    "import numpy as np\n",
    "#from sklearn.preprocessing import LabelEncoder\n",
    "import tensorflow as tf\n",
    "from keras.utils import np_utils\n",
    "from keras.models import Sequential\n",
    "import matplotlib.pyplot as plt\n",
    "from sklearn.metrics import mean_squared_error, r2_score\n",
    "from sklearn.preprocessing import MinMaxScaler\n",
    "#import seaborn as sns\n",
    "import openpyxl\n",
    "from tensorflow.keras.layers import *\n",
    "#from tensorflow.keras.callbacks import ModelCheckpoint\n",
    "from tensorflow.keras.losses import MeanSquaredError\n",
    "from tensorflow.keras.metrics import RootMeanSquaredError\n",
    "from tensorflow.keras.optimizers import Adam\n",
    "from sklearn.preprocessing import StandardScaler\n",
    "from keras.layers import Dropout\n",
    "#import matplotlib"
   ]
  },
  {
   "cell_type": "markdown",
   "id": "05aaf4a3",
   "metadata": {},
   "source": [
    "### Read Data "
   ]
  },
  {
   "cell_type": "code",
   "execution_count": 2,
   "id": "51927ce5",
   "metadata": {},
   "outputs": [],
   "source": [
    "data=pd.read_excel('hourly_data.xlsx',header=0)"
   ]
  },
  {
   "cell_type": "code",
   "execution_count": 3,
   "id": "56a71e57",
   "metadata": {},
   "outputs": [],
   "source": [
    "data['Mean Conductivity per Hour']=data['Mean Conductivity per Hour'].round(decimals = 0)"
   ]
  },
  {
   "cell_type": "code",
   "execution_count": 4,
   "id": "54a6b95f",
   "metadata": {},
   "outputs": [],
   "source": [
    "df2_date=data['Date']"
   ]
  },
  {
   "cell_type": "markdown",
   "id": "a402d0c0",
   "metadata": {},
   "source": [
    "## Split to Training and Testing "
   ]
  },
  {
   "cell_type": "markdown",
   "id": "4e420284",
   "metadata": {},
   "source": [
    "## We will use the first 6000 rows from the other four features , to predict the EC value for the next day. So for the EC value we skip the first 24 rows( as we have hourly data) and we use the data until  row  6024, in order to gather 6000 samples in total for EC."
   ]
  },
  {
   "cell_type": "code",
   "execution_count": 5,
   "id": "629aae02",
   "metadata": {},
   "outputs": [],
   "source": [
    "df2_train=data.iloc[0:6000,1:] #training\n",
    "df2_train_dates=df2_date.iloc[24:6000+24] #Training Dates of EC"
   ]
  },
  {
   "cell_type": "code",
   "execution_count": 6,
   "id": "bf3c38aa",
   "metadata": {},
   "outputs": [
    {
     "data": {
      "text/plain": [
       "24     2021-04-07 11:00:00\n",
       "25     2021-04-07 12:00:00\n",
       "26     2021-04-07 13:00:00\n",
       "27     2021-04-07 14:00:00\n",
       "28     2021-04-07 15:00:00\n",
       "               ...        \n",
       "6019   2021-12-13 18:00:00\n",
       "6020   2021-12-13 19:00:00\n",
       "6021   2021-12-13 20:00:00\n",
       "6022   2021-12-13 21:00:00\n",
       "6023   2021-12-13 22:00:00\n",
       "Name: Date, Length: 6000, dtype: datetime64[ns]"
      ]
     },
     "execution_count": 6,
     "metadata": {},
     "output_type": "execute_result"
    }
   ],
   "source": [
    "df2_train_dates"
   ]
  },
  {
   "cell_type": "markdown",
   "id": "d394502f",
   "metadata": {},
   "source": [
    "## Scale "
   ]
  },
  {
   "cell_type": "code",
   "execution_count": 7,
   "id": "15c0f950",
   "metadata": {},
   "outputs": [],
   "source": [
    "sc=StandardScaler()\n",
    "df2_train_scaled=sc.fit_transform(df2_train[['Atm.Temperature','Mean Watertemperature per Hour','Mean Salinity per Hour','Mean Chlorofyl per Hour']])"
   ]
  },
  {
   "cell_type": "code",
   "execution_count": 8,
   "id": "b5c1209c",
   "metadata": {},
   "outputs": [],
   "source": [
    "sc2=StandardScaler()\n",
    "df2_train_scaled_y=sc2.fit_transform(data[['Mean Conductivity per Hour']].iloc[24:6024])#Training Target"
   ]
  },
  {
   "cell_type": "markdown",
   "id": "c0c3e476",
   "metadata": {},
   "source": [
    "## Resphape into steps "
   ]
  },
  {
   "cell_type": "code",
   "execution_count": 9,
   "id": "f61c2539",
   "metadata": {},
   "outputs": [],
   "source": [
    "hops=14\n",
    "\n",
    "#no_cols=4\n",
    "X_train=[]\n",
    "y_train=[]\n",
    "for i in range(14,df2_train.shape[0]):\n",
    "    X_train.append(df2_train_scaled[i-14:i])\n",
    "    y_train.append(df2_train_scaled_y[i][0])\n",
    "X_train,y_train=np.array(X_train),np.array(y_train)"
   ]
  },
  {
   "cell_type": "code",
   "execution_count": 10,
   "id": "3c60b352",
   "metadata": {},
   "outputs": [],
   "source": [
    "X_train_shape=np.reshape(X_train,(X_train.shape[0],X_train.shape[1],X_train.shape[2]))\n"
   ]
  },
  {
   "cell_type": "markdown",
   "id": "4ff84109",
   "metadata": {},
   "source": [
    "## Build Model "
   ]
  },
  {
   "cell_type": "code",
   "execution_count": 11,
   "id": "a713016b",
   "metadata": {},
   "outputs": [],
   "source": [
    "model5=Sequential()\n",
    "model5.add(LSTM(units=50,return_sequences=True,input_shape=(14,4)))\n",
    "model5.add(LSTM(units=50))\n",
    "model5.add(Dropout(0.2))\n",
    "model5.add(Dense(1))\n",
    "model5.compile(optimizer='adam',loss='mean_squared_error')"
   ]
  },
  {
   "cell_type": "markdown",
   "id": "2122f303",
   "metadata": {},
   "source": [
    "## Train the Model "
   ]
  },
  {
   "cell_type": "code",
   "execution_count": 12,
   "id": "d55a09a4",
   "metadata": {},
   "outputs": [
    {
     "name": "stdout",
     "output_type": "stream",
     "text": [
      "Epoch 1/250\n",
      "375/375 [==============================] - 2s 5ms/step - loss: 0.1406\n",
      "Epoch 2/250\n",
      "375/375 [==============================] - 2s 5ms/step - loss: 0.1029\n",
      "Epoch 3/250\n",
      "375/375 [==============================] - 2s 5ms/step - loss: 0.0916\n",
      "Epoch 4/250\n",
      "375/375 [==============================] - 2s 5ms/step - loss: 0.0878\n",
      "Epoch 5/250\n",
      "375/375 [==============================] - 2s 5ms/step - loss: 0.0799\n",
      "Epoch 6/250\n",
      "375/375 [==============================] - 2s 5ms/step - loss: 0.0716\n",
      "Epoch 7/250\n",
      "375/375 [==============================] - 2s 5ms/step - loss: 0.0724\n",
      "Epoch 8/250\n",
      "375/375 [==============================] - 2s 5ms/step - loss: 0.0718\n",
      "Epoch 9/250\n",
      "375/375 [==============================] - 2s 5ms/step - loss: 0.0653\n",
      "Epoch 10/250\n",
      "375/375 [==============================] - 2s 5ms/step - loss: 0.0630\n",
      "Epoch 11/250\n",
      "375/375 [==============================] - 2s 5ms/step - loss: 0.0616\n",
      "Epoch 12/250\n",
      "375/375 [==============================] - 2s 5ms/step - loss: 0.0591\n",
      "Epoch 13/250\n",
      "375/375 [==============================] - 2s 5ms/step - loss: 0.0582\n",
      "Epoch 14/250\n",
      "375/375 [==============================] - 2s 5ms/step - loss: 0.0552\n",
      "Epoch 15/250\n",
      "375/375 [==============================] - 2s 5ms/step - loss: 0.0587\n",
      "Epoch 16/250\n",
      "375/375 [==============================] - 2s 5ms/step - loss: 0.0522\n",
      "Epoch 17/250\n",
      "375/375 [==============================] - 2s 5ms/step - loss: 0.0517\n",
      "Epoch 18/250\n",
      "375/375 [==============================] - 2s 5ms/step - loss: 0.0512\n",
      "Epoch 19/250\n",
      "375/375 [==============================] - 2s 5ms/step - loss: 0.0526\n",
      "Epoch 20/250\n",
      "375/375 [==============================] - 2s 5ms/step - loss: 0.0494\n",
      "Epoch 21/250\n",
      "375/375 [==============================] - 2s 5ms/step - loss: 0.0472\n",
      "Epoch 22/250\n",
      "375/375 [==============================] - 2s 5ms/step - loss: 0.0471\n",
      "Epoch 23/250\n",
      "375/375 [==============================] - 2s 5ms/step - loss: 0.0446\n",
      "Epoch 24/250\n",
      "375/375 [==============================] - 2s 5ms/step - loss: 0.0451\n",
      "Epoch 25/250\n",
      "375/375 [==============================] - 2s 5ms/step - loss: 0.0438\n",
      "Epoch 26/250\n",
      "375/375 [==============================] - 2s 5ms/step - loss: 0.0434\n",
      "Epoch 27/250\n",
      "375/375 [==============================] - 2s 5ms/step - loss: 0.0415\n",
      "Epoch 28/250\n",
      "375/375 [==============================] - 2s 5ms/step - loss: 0.0402\n",
      "Epoch 29/250\n",
      "375/375 [==============================] - 2s 5ms/step - loss: 0.0417\n",
      "Epoch 30/250\n",
      "375/375 [==============================] - 2s 5ms/step - loss: 0.0399\n",
      "Epoch 31/250\n",
      "375/375 [==============================] - 2s 5ms/step - loss: 0.0393\n",
      "Epoch 32/250\n",
      "375/375 [==============================] - 2s 5ms/step - loss: 0.0386\n",
      "Epoch 33/250\n",
      "375/375 [==============================] - 2s 5ms/step - loss: 0.0367\n",
      "Epoch 34/250\n",
      "375/375 [==============================] - 2s 5ms/step - loss: 0.0372\n",
      "Epoch 35/250\n",
      "375/375 [==============================] - 2s 5ms/step - loss: 0.0363\n",
      "Epoch 36/250\n",
      "375/375 [==============================] - 2s 5ms/step - loss: 0.0358\n",
      "Epoch 37/250\n",
      "375/375 [==============================] - 2s 5ms/step - loss: 0.0352\n",
      "Epoch 38/250\n",
      "375/375 [==============================] - 2s 5ms/step - loss: 0.0343\n",
      "Epoch 39/250\n",
      "375/375 [==============================] - 2s 5ms/step - loss: 0.0334\n",
      "Epoch 40/250\n",
      "375/375 [==============================] - 2s 5ms/step - loss: 0.0315\n",
      "Epoch 41/250\n",
      "375/375 [==============================] - 2s 5ms/step - loss: 0.0318\n",
      "Epoch 42/250\n",
      "375/375 [==============================] - 2s 5ms/step - loss: 0.0305\n",
      "Epoch 43/250\n",
      "375/375 [==============================] - 2s 5ms/step - loss: 0.0317\n",
      "Epoch 44/250\n",
      "375/375 [==============================] - 2s 5ms/step - loss: 0.0302\n",
      "Epoch 45/250\n",
      "375/375 [==============================] - 2s 5ms/step - loss: 0.0297\n",
      "Epoch 46/250\n",
      "375/375 [==============================] - 2s 5ms/step - loss: 0.0297\n",
      "Epoch 47/250\n",
      "375/375 [==============================] - 2s 5ms/step - loss: 0.0292\n",
      "Epoch 48/250\n",
      "375/375 [==============================] - 2s 5ms/step - loss: 0.0298\n",
      "Epoch 49/250\n",
      "375/375 [==============================] - 2s 5ms/step - loss: 0.0279\n",
      "Epoch 50/250\n",
      "375/375 [==============================] - 2s 5ms/step - loss: 0.0282\n",
      "Epoch 51/250\n",
      "375/375 [==============================] - 2s 5ms/step - loss: 0.0269\n",
      "Epoch 52/250\n",
      "375/375 [==============================] - 2s 5ms/step - loss: 0.0256\n",
      "Epoch 53/250\n",
      "375/375 [==============================] - 2s 5ms/step - loss: 0.0286\n",
      "Epoch 54/250\n",
      "375/375 [==============================] - 2s 5ms/step - loss: 0.0256\n",
      "Epoch 55/250\n",
      "375/375 [==============================] - 2s 5ms/step - loss: 0.0277\n",
      "Epoch 56/250\n",
      "375/375 [==============================] - 2s 5ms/step - loss: 0.0259\n",
      "Epoch 57/250\n",
      "375/375 [==============================] - 2s 5ms/step - loss: 0.0239\n",
      "Epoch 58/250\n",
      "375/375 [==============================] - 2s 5ms/step - loss: 0.0246\n",
      "Epoch 59/250\n",
      "375/375 [==============================] - 2s 5ms/step - loss: 0.0240\n",
      "Epoch 60/250\n",
      "375/375 [==============================] - 2s 5ms/step - loss: 0.0236\n",
      "Epoch 61/250\n",
      "375/375 [==============================] - 2s 5ms/step - loss: 0.0239\n",
      "Epoch 62/250\n",
      "375/375 [==============================] - 2s 5ms/step - loss: 0.0250\n",
      "Epoch 63/250\n",
      "375/375 [==============================] - 2s 5ms/step - loss: 0.0227\n",
      "Epoch 64/250\n",
      "375/375 [==============================] - 2s 5ms/step - loss: 0.0256\n",
      "Epoch 65/250\n",
      "375/375 [==============================] - 2s 5ms/step - loss: 0.0220\n",
      "Epoch 66/250\n",
      "375/375 [==============================] - 2s 5ms/step - loss: 0.0226\n",
      "Epoch 67/250\n",
      "375/375 [==============================] - 2s 5ms/step - loss: 0.0228\n",
      "Epoch 68/250\n",
      "375/375 [==============================] - 2s 5ms/step - loss: 0.0225\n",
      "Epoch 69/250\n",
      "375/375 [==============================] - 2s 5ms/step - loss: 0.0211\n",
      "Epoch 70/250\n",
      "375/375 [==============================] - 2s 5ms/step - loss: 0.0210\n",
      "Epoch 71/250\n",
      "375/375 [==============================] - 2s 5ms/step - loss: 0.0208\n",
      "Epoch 72/250\n",
      "375/375 [==============================] - 2s 5ms/step - loss: 0.0205\n",
      "Epoch 73/250\n",
      "375/375 [==============================] - 2s 5ms/step - loss: 0.0227\n",
      "Epoch 74/250\n",
      "375/375 [==============================] - 2s 5ms/step - loss: 0.0203\n",
      "Epoch 75/250\n",
      "375/375 [==============================] - 2s 5ms/step - loss: 0.0188\n",
      "Epoch 76/250\n",
      "375/375 [==============================] - 2s 5ms/step - loss: 0.0197\n",
      "Epoch 77/250\n",
      "375/375 [==============================] - 2s 5ms/step - loss: 0.0198\n",
      "Epoch 78/250\n",
      "375/375 [==============================] - 2s 5ms/step - loss: 0.0170\n",
      "Epoch 79/250\n",
      "375/375 [==============================] - 2s 5ms/step - loss: 0.0186\n",
      "Epoch 80/250\n",
      "375/375 [==============================] - 2s 5ms/step - loss: 0.0189\n",
      "Epoch 81/250\n",
      "375/375 [==============================] - 2s 5ms/step - loss: 0.0180\n",
      "Epoch 82/250\n",
      "375/375 [==============================] - 2s 5ms/step - loss: 0.0194\n",
      "Epoch 83/250\n",
      "375/375 [==============================] - 2s 5ms/step - loss: 0.0205\n",
      "Epoch 84/250\n",
      "375/375 [==============================] - 2s 5ms/step - loss: 0.0207\n",
      "Epoch 85/250\n",
      "375/375 [==============================] - 2s 5ms/step - loss: 0.0178\n",
      "Epoch 86/250\n",
      "375/375 [==============================] - 2s 5ms/step - loss: 0.0170\n",
      "Epoch 87/250\n",
      "375/375 [==============================] - 2s 5ms/step - loss: 0.0172\n",
      "Epoch 88/250\n",
      "375/375 [==============================] - 2s 5ms/step - loss: 0.0197\n",
      "Epoch 89/250\n",
      "375/375 [==============================] - 2s 5ms/step - loss: 0.0169\n",
      "Epoch 90/250\n",
      "375/375 [==============================] - 2s 5ms/step - loss: 0.0169\n",
      "Epoch 91/250\n",
      "375/375 [==============================] - 2s 5ms/step - loss: 0.0168\n",
      "Epoch 92/250\n",
      "375/375 [==============================] - 2s 5ms/step - loss: 0.0161\n",
      "Epoch 93/250\n",
      "375/375 [==============================] - 2s 5ms/step - loss: 0.0179\n",
      "Epoch 94/250\n",
      "375/375 [==============================] - 2s 5ms/step - loss: 0.0160\n",
      "Epoch 95/250\n",
      "375/375 [==============================] - 2s 5ms/step - loss: 0.0163\n",
      "Epoch 96/250\n",
      "375/375 [==============================] - 2s 5ms/step - loss: 0.0173\n",
      "Epoch 97/250\n",
      "375/375 [==============================] - 2s 5ms/step - loss: 0.0166\n",
      "Epoch 98/250\n",
      "375/375 [==============================] - 2s 5ms/step - loss: 0.0168\n",
      "Epoch 99/250\n"
     ]
    },
    {
     "name": "stdout",
     "output_type": "stream",
     "text": [
      "375/375 [==============================] - 2s 5ms/step - loss: 0.0162\n",
      "Epoch 100/250\n",
      "375/375 [==============================] - 2s 5ms/step - loss: 0.0172\n",
      "Epoch 101/250\n",
      "375/375 [==============================] - 2s 5ms/step - loss: 0.0156\n",
      "Epoch 102/250\n",
      "375/375 [==============================] - 2s 5ms/step - loss: 0.0171\n",
      "Epoch 103/250\n",
      "375/375 [==============================] - 2s 5ms/step - loss: 0.0160\n",
      "Epoch 104/250\n",
      "375/375 [==============================] - 2s 5ms/step - loss: 0.0148\n",
      "Epoch 105/250\n",
      "375/375 [==============================] - 2s 5ms/step - loss: 0.0156\n",
      "Epoch 106/250\n",
      "375/375 [==============================] - 2s 5ms/step - loss: 0.0165\n",
      "Epoch 107/250\n",
      "375/375 [==============================] - 2s 5ms/step - loss: 0.0179\n",
      "Epoch 108/250\n",
      "375/375 [==============================] - 2s 5ms/step - loss: 0.0187\n",
      "Epoch 109/250\n",
      "375/375 [==============================] - 2s 5ms/step - loss: 0.0154\n",
      "Epoch 110/250\n",
      "375/375 [==============================] - 2s 5ms/step - loss: 0.0143\n",
      "Epoch 111/250\n",
      "375/375 [==============================] - 2s 5ms/step - loss: 0.0138\n",
      "Epoch 112/250\n",
      "375/375 [==============================] - 2s 5ms/step - loss: 0.0143\n",
      "Epoch 113/250\n",
      "375/375 [==============================] - 2s 5ms/step - loss: 0.0188\n",
      "Epoch 114/250\n",
      "375/375 [==============================] - 2s 5ms/step - loss: 0.0160\n",
      "Epoch 115/250\n",
      "375/375 [==============================] - 2s 5ms/step - loss: 0.0142\n",
      "Epoch 116/250\n",
      "375/375 [==============================] - 2s 5ms/step - loss: 0.0151\n",
      "Epoch 117/250\n",
      "375/375 [==============================] - 2s 5ms/step - loss: 0.0157\n",
      "Epoch 118/250\n",
      "375/375 [==============================] - 2s 5ms/step - loss: 0.0148\n",
      "Epoch 119/250\n",
      "375/375 [==============================] - 2s 5ms/step - loss: 0.0155\n",
      "Epoch 120/250\n",
      "375/375 [==============================] - 2s 5ms/step - loss: 0.0164\n",
      "Epoch 121/250\n",
      "375/375 [==============================] - 2s 6ms/step - loss: 0.0154\n",
      "Epoch 122/250\n",
      "375/375 [==============================] - 2s 6ms/step - loss: 0.0169\n",
      "Epoch 123/250\n",
      "375/375 [==============================] - 2s 7ms/step - loss: 0.0149\n",
      "Epoch 124/250\n",
      "375/375 [==============================] - 2s 6ms/step - loss: 0.0144\n",
      "Epoch 125/250\n",
      "375/375 [==============================] - 2s 5ms/step - loss: 0.0136\n",
      "Epoch 126/250\n",
      "375/375 [==============================] - 2s 6ms/step - loss: 0.0139\n",
      "Epoch 127/250\n",
      "375/375 [==============================] - 2s 6ms/step - loss: 0.0137\n",
      "Epoch 128/250\n",
      "375/375 [==============================] - 2s 6ms/step - loss: 0.0143\n",
      "Epoch 129/250\n",
      "375/375 [==============================] - 2s 5ms/step - loss: 0.0139\n",
      "Epoch 130/250\n",
      "375/375 [==============================] - 2s 5ms/step - loss: 0.0145\n",
      "Epoch 131/250\n",
      "375/375 [==============================] - 2s 5ms/step - loss: 0.0135\n",
      "Epoch 132/250\n",
      "375/375 [==============================] - 2s 5ms/step - loss: 0.0157\n",
      "Epoch 133/250\n",
      "375/375 [==============================] - 2s 5ms/step - loss: 0.0149\n",
      "Epoch 134/250\n",
      "375/375 [==============================] - 2s 5ms/step - loss: 0.0134\n",
      "Epoch 135/250\n",
      "375/375 [==============================] - 2s 5ms/step - loss: 0.0137\n",
      "Epoch 136/250\n",
      "375/375 [==============================] - 2s 5ms/step - loss: 0.0142\n",
      "Epoch 137/250\n",
      "375/375 [==============================] - 2s 5ms/step - loss: 0.0133\n",
      "Epoch 138/250\n",
      "375/375 [==============================] - 2s 5ms/step - loss: 0.0133\n",
      "Epoch 139/250\n",
      "375/375 [==============================] - 2s 5ms/step - loss: 0.0154\n",
      "Epoch 140/250\n",
      "375/375 [==============================] - 2s 5ms/step - loss: 0.0136\n",
      "Epoch 141/250\n",
      "375/375 [==============================] - 2s 6ms/step - loss: 0.0147\n",
      "Epoch 142/250\n",
      "375/375 [==============================] - 2s 5ms/step - loss: 0.0130\n",
      "Epoch 143/250\n",
      "375/375 [==============================] - 2s 5ms/step - loss: 0.0126\n",
      "Epoch 144/250\n",
      "375/375 [==============================] - 2s 5ms/step - loss: 0.0138\n",
      "Epoch 145/250\n",
      "375/375 [==============================] - 2s 5ms/step - loss: 0.0139\n",
      "Epoch 146/250\n",
      "375/375 [==============================] - 2s 5ms/step - loss: 0.0134\n",
      "Epoch 147/250\n",
      "375/375 [==============================] - 2s 5ms/step - loss: 0.0136\n",
      "Epoch 148/250\n",
      "375/375 [==============================] - 2s 5ms/step - loss: 0.0146\n",
      "Epoch 149/250\n",
      "375/375 [==============================] - 2s 5ms/step - loss: 0.0127\n",
      "Epoch 150/250\n",
      "375/375 [==============================] - 2s 5ms/step - loss: 0.0148\n",
      "Epoch 151/250\n",
      "375/375 [==============================] - 2s 5ms/step - loss: 0.0149\n",
      "Epoch 152/250\n",
      "375/375 [==============================] - 2s 5ms/step - loss: 0.0131\n",
      "Epoch 153/250\n",
      "375/375 [==============================] - 2s 5ms/step - loss: 0.0132\n",
      "Epoch 154/250\n",
      "375/375 [==============================] - 2s 5ms/step - loss: 0.0129\n",
      "Epoch 155/250\n",
      "375/375 [==============================] - 2s 5ms/step - loss: 0.0147\n",
      "Epoch 156/250\n",
      "375/375 [==============================] - 2s 5ms/step - loss: 0.0128\n",
      "Epoch 157/250\n",
      "375/375 [==============================] - 2s 5ms/step - loss: 0.0142\n",
      "Epoch 158/250\n",
      "375/375 [==============================] - 2s 5ms/step - loss: 0.0126\n",
      "Epoch 159/250\n",
      "375/375 [==============================] - 2s 5ms/step - loss: 0.0125\n",
      "Epoch 160/250\n",
      "375/375 [==============================] - 2s 5ms/step - loss: 0.0124\n",
      "Epoch 161/250\n",
      "375/375 [==============================] - 2s 5ms/step - loss: 0.0128\n",
      "Epoch 162/250\n",
      "375/375 [==============================] - 2s 5ms/step - loss: 0.0121\n",
      "Epoch 163/250\n",
      "375/375 [==============================] - 2s 5ms/step - loss: 0.0128\n",
      "Epoch 164/250\n",
      "375/375 [==============================] - 2s 5ms/step - loss: 0.0120\n",
      "Epoch 165/250\n",
      "375/375 [==============================] - 2s 5ms/step - loss: 0.0124\n",
      "Epoch 166/250\n",
      "375/375 [==============================] - 2s 5ms/step - loss: 0.0132\n",
      "Epoch 167/250\n",
      "375/375 [==============================] - 2s 5ms/step - loss: 0.0146\n",
      "Epoch 168/250\n",
      "375/375 [==============================] - 2s 5ms/step - loss: 0.0125\n",
      "Epoch 169/250\n",
      "375/375 [==============================] - 2s 5ms/step - loss: 0.0132\n",
      "Epoch 170/250\n",
      "375/375 [==============================] - 2s 5ms/step - loss: 0.0120\n",
      "Epoch 171/250\n",
      "375/375 [==============================] - 2s 5ms/step - loss: 0.0122\n",
      "Epoch 172/250\n",
      "375/375 [==============================] - 2s 5ms/step - loss: 0.0137\n",
      "Epoch 173/250\n",
      "375/375 [==============================] - 2s 5ms/step - loss: 0.0117\n",
      "Epoch 174/250\n",
      "375/375 [==============================] - 2s 5ms/step - loss: 0.0119\n",
      "Epoch 175/250\n",
      "375/375 [==============================] - 2s 5ms/step - loss: 0.0131\n",
      "Epoch 176/250\n",
      "375/375 [==============================] - 2s 5ms/step - loss: 0.0122\n",
      "Epoch 177/250\n",
      "375/375 [==============================] - 2s 5ms/step - loss: 0.0125\n",
      "Epoch 178/250\n",
      "375/375 [==============================] - 2s 5ms/step - loss: 0.0122\n",
      "Epoch 179/250\n",
      "375/375 [==============================] - 2s 5ms/step - loss: 0.0127\n",
      "Epoch 180/250\n",
      "375/375 [==============================] - 2s 5ms/step - loss: 0.0112\n",
      "Epoch 181/250\n",
      "375/375 [==============================] - 2s 5ms/step - loss: 0.0119\n",
      "Epoch 182/250\n",
      "375/375 [==============================] - 2s 5ms/step - loss: 0.0126\n",
      "Epoch 183/250\n",
      "375/375 [==============================] - 2s 5ms/step - loss: 0.0131\n",
      "Epoch 184/250\n",
      "375/375 [==============================] - 2s 5ms/step - loss: 0.0125\n",
      "Epoch 185/250\n",
      "375/375 [==============================] - 2s 5ms/step - loss: 0.0116\n",
      "Epoch 186/250\n",
      "375/375 [==============================] - 2s 5ms/step - loss: 0.0135\n",
      "Epoch 187/250\n",
      "375/375 [==============================] - 2s 5ms/step - loss: 0.0139\n",
      "Epoch 188/250\n",
      "375/375 [==============================] - 2s 5ms/step - loss: 0.0117\n",
      "Epoch 189/250\n",
      "375/375 [==============================] - 2s 5ms/step - loss: 0.0131\n",
      "Epoch 190/250\n",
      "375/375 [==============================] - 2s 5ms/step - loss: 0.0122\n",
      "Epoch 191/250\n",
      "375/375 [==============================] - 2s 5ms/step - loss: 0.0116\n",
      "Epoch 192/250\n",
      "375/375 [==============================] - 2s 5ms/step - loss: 0.0117\n",
      "Epoch 193/250\n",
      "375/375 [==============================] - 2s 5ms/step - loss: 0.0116\n",
      "Epoch 194/250\n",
      "375/375 [==============================] - 2s 5ms/step - loss: 0.0124\n",
      "Epoch 195/250\n",
      "375/375 [==============================] - 2s 5ms/step - loss: 0.0125\n",
      "Epoch 196/250\n"
     ]
    },
    {
     "name": "stdout",
     "output_type": "stream",
     "text": [
      "375/375 [==============================] - 2s 5ms/step - loss: 0.0121\n",
      "Epoch 197/250\n",
      "375/375 [==============================] - 2s 5ms/step - loss: 0.0132\n",
      "Epoch 198/250\n",
      "375/375 [==============================] - 2s 5ms/step - loss: 0.0119\n",
      "Epoch 199/250\n",
      "375/375 [==============================] - 2s 5ms/step - loss: 0.0117\n",
      "Epoch 200/250\n",
      "375/375 [==============================] - 2s 5ms/step - loss: 0.0110\n",
      "Epoch 201/250\n",
      "375/375 [==============================] - 2s 5ms/step - loss: 0.0113\n",
      "Epoch 202/250\n",
      "375/375 [==============================] - 2s 5ms/step - loss: 0.0132\n",
      "Epoch 203/250\n",
      "375/375 [==============================] - 2s 5ms/step - loss: 0.0120\n",
      "Epoch 204/250\n",
      "375/375 [==============================] - 2s 6ms/step - loss: 0.0121\n",
      "Epoch 205/250\n",
      "375/375 [==============================] - 2s 6ms/step - loss: 0.0119\n",
      "Epoch 206/250\n",
      "375/375 [==============================] - 2s 5ms/step - loss: 0.0117\n",
      "Epoch 207/250\n",
      "375/375 [==============================] - 2s 5ms/step - loss: 0.0112\n",
      "Epoch 208/250\n",
      "375/375 [==============================] - 2s 5ms/step - loss: 0.0106\n",
      "Epoch 209/250\n",
      "375/375 [==============================] - 2s 5ms/step - loss: 0.0116\n",
      "Epoch 210/250\n",
      "375/375 [==============================] - 2s 5ms/step - loss: 0.0112\n",
      "Epoch 211/250\n",
      "375/375 [==============================] - 2s 5ms/step - loss: 0.0112\n",
      "Epoch 212/250\n",
      "375/375 [==============================] - 2s 5ms/step - loss: 0.0114\n",
      "Epoch 213/250\n",
      "375/375 [==============================] - 2s 5ms/step - loss: 0.0112\n",
      "Epoch 214/250\n",
      "375/375 [==============================] - 2s 6ms/step - loss: 0.0103\n",
      "Epoch 215/250\n",
      "375/375 [==============================] - 2s 5ms/step - loss: 0.0137\n",
      "Epoch 216/250\n",
      "375/375 [==============================] - 2s 6ms/step - loss: 0.0112\n",
      "Epoch 217/250\n",
      "375/375 [==============================] - 2s 5ms/step - loss: 0.0117\n",
      "Epoch 218/250\n",
      "375/375 [==============================] - 2s 5ms/step - loss: 0.0108\n",
      "Epoch 219/250\n",
      "375/375 [==============================] - 2s 5ms/step - loss: 0.0114\n",
      "Epoch 220/250\n",
      "375/375 [==============================] - 2s 5ms/step - loss: 0.0108\n",
      "Epoch 221/250\n",
      "375/375 [==============================] - 2s 5ms/step - loss: 0.0108\n",
      "Epoch 222/250\n",
      "375/375 [==============================] - 2s 5ms/step - loss: 0.0110\n",
      "Epoch 223/250\n",
      "375/375 [==============================] - 2s 5ms/step - loss: 0.0133\n",
      "Epoch 224/250\n",
      "375/375 [==============================] - 2s 6ms/step - loss: 0.0112\n",
      "Epoch 225/250\n",
      "375/375 [==============================] - 2s 5ms/step - loss: 0.0103\n",
      "Epoch 226/250\n",
      "375/375 [==============================] - 2s 5ms/step - loss: 0.0110\n",
      "Epoch 227/250\n",
      "375/375 [==============================] - 2s 5ms/step - loss: 0.0112\n",
      "Epoch 228/250\n",
      "375/375 [==============================] - 2s 5ms/step - loss: 0.0109\n",
      "Epoch 229/250\n",
      "375/375 [==============================] - 2s 5ms/step - loss: 0.0109\n",
      "Epoch 230/250\n",
      "375/375 [==============================] - 2s 5ms/step - loss: 0.0112\n",
      "Epoch 231/250\n",
      "375/375 [==============================] - 2s 5ms/step - loss: 0.0101\n",
      "Epoch 232/250\n",
      "375/375 [==============================] - 2s 5ms/step - loss: 0.0109\n",
      "Epoch 233/250\n",
      "375/375 [==============================] - 2s 6ms/step - loss: 0.0113\n",
      "Epoch 234/250\n",
      "375/375 [==============================] - 2s 5ms/step - loss: 0.0112\n",
      "Epoch 235/250\n",
      "375/375 [==============================] - 2s 5ms/step - loss: 0.0110\n",
      "Epoch 236/250\n",
      "375/375 [==============================] - 2s 5ms/step - loss: 0.0107\n",
      "Epoch 237/250\n",
      "375/375 [==============================] - 2s 5ms/step - loss: 0.0113\n",
      "Epoch 238/250\n",
      "375/375 [==============================] - 2s 5ms/step - loss: 0.0107\n",
      "Epoch 239/250\n",
      "375/375 [==============================] - 2s 5ms/step - loss: 0.0104\n",
      "Epoch 240/250\n",
      "375/375 [==============================] - 2s 5ms/step - loss: 0.0099\n",
      "Epoch 241/250\n",
      "375/375 [==============================] - 2s 5ms/step - loss: 0.0110\n",
      "Epoch 242/250\n",
      "375/375 [==============================] - 2s 5ms/step - loss: 0.0109\n",
      "Epoch 243/250\n",
      "375/375 [==============================] - 2s 5ms/step - loss: 0.0102\n",
      "Epoch 244/250\n",
      "375/375 [==============================] - 2s 5ms/step - loss: 0.0106\n",
      "Epoch 245/250\n",
      "375/375 [==============================] - 2s 5ms/step - loss: 0.0103\n",
      "Epoch 246/250\n",
      "375/375 [==============================] - 2s 5ms/step - loss: 0.0116\n",
      "Epoch 247/250\n",
      "375/375 [==============================] - 2s 5ms/step - loss: 0.0101\n",
      "Epoch 248/250\n",
      "375/375 [==============================] - 2s 5ms/step - loss: 0.0101\n",
      "Epoch 249/250\n",
      "375/375 [==============================] - 2s 6ms/step - loss: 0.0112\n",
      "Epoch 250/250\n",
      "375/375 [==============================] - 2s 5ms/step - loss: 0.0096\n"
     ]
    },
    {
     "data": {
      "text/plain": [
       "<tensorflow.python.keras.callbacks.History at 0x228ec715670>"
      ]
     },
     "execution_count": 12,
     "metadata": {},
     "output_type": "execute_result"
    }
   ],
   "source": [
    "model5.fit(X_train_shape,y_train,epochs=250,batch_size=16)"
   ]
  },
  {
   "cell_type": "code",
   "execution_count": null,
   "id": "f4968f18",
   "metadata": {},
   "outputs": [],
   "source": []
  },
  {
   "cell_type": "markdown",
   "id": "293dc99f",
   "metadata": {},
   "source": [
    "## Create the test Dataset. For the testing dataset we will start from the index 6000, as the training dataset ended, and to get the appropriate numberfor use , we substract the 6024 records used for the EC Target from the total number of records ,which is  8665.In this way, we are left with  24 records in order to use for Forecasting."
   ]
  },
  {
   "cell_type": "code",
   "execution_count": 13,
   "id": "4abefda7",
   "metadata": {},
   "outputs": [],
   "source": [
    "df2_test=data.iloc[6000:6000+(len(data)-6024),1:]#training\n",
    "df2_test_dates=df2_date.iloc[6000:6000+(len(data)-6024)] #training dates\n",
    "df2_test.reset_index(inplace=True)"
   ]
  },
  {
   "cell_type": "code",
   "execution_count": 14,
   "id": "41b22b50",
   "metadata": {},
   "outputs": [],
   "source": [
    "df_train_last14=df2_train.iloc[-14:]\n",
    "df_test_full=df2_test.drop(columns={'index'})\n",
    "full_df=pd.concat((df_train_last14,df_test_full),axis=0)\n"
   ]
  },
  {
   "cell_type": "markdown",
   "id": "4c887b9e",
   "metadata": {},
   "source": [
    "## Scale "
   ]
  },
  {
   "cell_type": "code",
   "execution_count": 15,
   "id": "31a3ca3b",
   "metadata": {},
   "outputs": [],
   "source": [
    "full_df=full_df.drop(columns={'Mean Conductivity per Hour'})\n",
    "full_df=sc.transform(full_df)"
   ]
  },
  {
   "cell_type": "markdown",
   "id": "8dde5d8a",
   "metadata": {},
   "source": [
    "## Reshape "
   ]
  },
  {
   "cell_type": "code",
   "execution_count": 16,
   "id": "3584506d",
   "metadata": {},
   "outputs": [],
   "source": [
    "hops=14\n",
    "X_train_shape_pred=[]\n",
    "\n",
    "for i in range(14,full_df.shape[0]):\n",
    "    X_train_shape_pred.append(full_df[i-14:i])\n",
    "X_train_shape_pred=np.array(X_train_shape_pred)"
   ]
  },
  {
   "cell_type": "markdown",
   "id": "01cf2e26",
   "metadata": {},
   "source": [
    "## Predict "
   ]
  },
  {
   "cell_type": "code",
   "execution_count": 17,
   "id": "cc5cd27e",
   "metadata": {},
   "outputs": [],
   "source": [
    "ytest=model5.predict(X_train_shape_pred)"
   ]
  },
  {
   "cell_type": "markdown",
   "id": "ea363a33",
   "metadata": {},
   "source": [
    "## Inverse scaling "
   ]
  },
  {
   "cell_type": "code",
   "execution_count": 18,
   "id": "7f5aff1b",
   "metadata": {},
   "outputs": [],
   "source": [
    "y_final_pred=sc2.inverse_transform(ytest)\n"
   ]
  },
  {
   "cell_type": "markdown",
   "id": "ff55885f",
   "metadata": {},
   "source": [
    "## Preprocess "
   ]
  },
  {
   "cell_type": "code",
   "execution_count": 19,
   "id": "aadb0e76",
   "metadata": {},
   "outputs": [
    {
     "data": {
      "text/html": [
       "<div>\n",
       "<style scoped>\n",
       "    .dataframe tbody tr th:only-of-type {\n",
       "        vertical-align: middle;\n",
       "    }\n",
       "\n",
       "    .dataframe tbody tr th {\n",
       "        vertical-align: top;\n",
       "    }\n",
       "\n",
       "    .dataframe thead th {\n",
       "        text-align: right;\n",
       "    }\n",
       "</style>\n",
       "<table border=\"1\" class=\"dataframe\">\n",
       "  <thead>\n",
       "    <tr style=\"text-align: right;\">\n",
       "      <th></th>\n",
       "      <th>final_ec_pred</th>\n",
       "    </tr>\n",
       "  </thead>\n",
       "  <tbody>\n",
       "    <tr>\n",
       "      <th>0</th>\n",
       "      <td>433.276611</td>\n",
       "    </tr>\n",
       "    <tr>\n",
       "      <th>1</th>\n",
       "      <td>434.060577</td>\n",
       "    </tr>\n",
       "    <tr>\n",
       "      <th>2</th>\n",
       "      <td>433.468018</td>\n",
       "    </tr>\n",
       "    <tr>\n",
       "      <th>3</th>\n",
       "      <td>433.976044</td>\n",
       "    </tr>\n",
       "    <tr>\n",
       "      <th>4</th>\n",
       "      <td>433.100159</td>\n",
       "    </tr>\n",
       "  </tbody>\n",
       "</table>\n",
       "</div>"
      ],
      "text/plain": [
       "   final_ec_pred\n",
       "0     433.276611\n",
       "1     434.060577\n",
       "2     433.468018\n",
       "3     433.976044\n",
       "4     433.100159"
      ]
     },
     "execution_count": 19,
     "metadata": {},
     "output_type": "execute_result"
    }
   ],
   "source": [
    "final_ec_pred=pd.DataFrame(y_final_pred)\n",
    "final_ec_pred.columns=['final_ec_pred']\n",
    "final_ec_pred.head()"
   ]
  },
  {
   "cell_type": "code",
   "execution_count": 20,
   "id": "7abf0a98",
   "metadata": {},
   "outputs": [],
   "source": [
    "fully_final=pd.concat((final_ec_pred,df2_test),axis=1)\n",
    "fully_final=fully_final.drop(columns={'Mean Conductivity per Hour'})\n",
    "a=pd.DataFrame(data=data['Mean Conductivity per Hour'].iloc[6024:8665])\n",
    "a=a.reset_index(drop=True)\n",
    "fully_final=pd.concat((fully_final,a),axis=1)\n",
    "fully_final=fully_final.drop(columns={'index'})\n",
    "df2_test_dates=df2_test_dates.reset_index(drop=True)\n",
    "final=pd.concat(([fully_final,df2_test_dates]),axis=1)\n",
    "Real_EC_Dates=df2_date.loc[6024:8665]\n",
    "Real_EC_Dates=pd.DataFrame(data=Real_EC_Dates)\n",
    "Real_EC_Dates=Real_EC_Dates.reset_index(drop=True)\n",
    "Real_EC_Dates=Real_EC_Dates.rename(columns={'Date':'Real_EC_Dates'})\n",
    "final=pd.concat(([final,Real_EC_Dates]),axis=1)"
   ]
  },
  {
   "cell_type": "code",
   "execution_count": 21,
   "id": "7e7214b3",
   "metadata": {},
   "outputs": [
    {
     "data": {
      "text/html": [
       "<div>\n",
       "<style scoped>\n",
       "    .dataframe tbody tr th:only-of-type {\n",
       "        vertical-align: middle;\n",
       "    }\n",
       "\n",
       "    .dataframe tbody tr th {\n",
       "        vertical-align: top;\n",
       "    }\n",
       "\n",
       "    .dataframe thead th {\n",
       "        text-align: right;\n",
       "    }\n",
       "</style>\n",
       "<table border=\"1\" class=\"dataframe\">\n",
       "  <thead>\n",
       "    <tr style=\"text-align: right;\">\n",
       "      <th></th>\n",
       "      <th>final_ec_pred</th>\n",
       "      <th>Atm.Temperature</th>\n",
       "      <th>Mean Watertemperature per Hour</th>\n",
       "      <th>Mean Salinity per Hour</th>\n",
       "      <th>Mean Chlorofyl per Hour</th>\n",
       "      <th>Mean Conductivity per Hour</th>\n",
       "      <th>Date</th>\n",
       "      <th>Real_EC_Dates</th>\n",
       "    </tr>\n",
       "  </thead>\n",
       "  <tbody>\n",
       "    <tr>\n",
       "      <th>0</th>\n",
       "      <td>433.276611</td>\n",
       "      <td>10.1</td>\n",
       "      <td>9.5</td>\n",
       "      <td>0.36</td>\n",
       "      <td>7.450000</td>\n",
       "      <td>432.0</td>\n",
       "      <td>2021-12-12 23:00:00</td>\n",
       "      <td>2021-12-13 23:00:00</td>\n",
       "    </tr>\n",
       "    <tr>\n",
       "      <th>1</th>\n",
       "      <td>434.060577</td>\n",
       "      <td>10.2</td>\n",
       "      <td>9.5</td>\n",
       "      <td>0.36</td>\n",
       "      <td>7.725000</td>\n",
       "      <td>430.0</td>\n",
       "      <td>2021-12-13 00:00:00</td>\n",
       "      <td>2021-12-14 00:00:00</td>\n",
       "    </tr>\n",
       "    <tr>\n",
       "      <th>2</th>\n",
       "      <td>433.468018</td>\n",
       "      <td>10.1</td>\n",
       "      <td>9.5</td>\n",
       "      <td>0.36</td>\n",
       "      <td>7.575000</td>\n",
       "      <td>428.0</td>\n",
       "      <td>2021-12-13 01:00:00</td>\n",
       "      <td>2021-12-14 01:00:00</td>\n",
       "    </tr>\n",
       "    <tr>\n",
       "      <th>3</th>\n",
       "      <td>433.976044</td>\n",
       "      <td>9.9</td>\n",
       "      <td>9.5</td>\n",
       "      <td>0.36</td>\n",
       "      <td>8.108333</td>\n",
       "      <td>432.0</td>\n",
       "      <td>2021-12-13 02:00:00</td>\n",
       "      <td>2021-12-14 02:00:00</td>\n",
       "    </tr>\n",
       "    <tr>\n",
       "      <th>4</th>\n",
       "      <td>433.100159</td>\n",
       "      <td>8.0</td>\n",
       "      <td>9.5</td>\n",
       "      <td>0.36</td>\n",
       "      <td>8.116667</td>\n",
       "      <td>432.0</td>\n",
       "      <td>2021-12-13 03:00:00</td>\n",
       "      <td>2021-12-14 03:00:00</td>\n",
       "    </tr>\n",
       "  </tbody>\n",
       "</table>\n",
       "</div>"
      ],
      "text/plain": [
       "   final_ec_pred  Atm.Temperature  Mean Watertemperature per Hour  \\\n",
       "0     433.276611             10.1                             9.5   \n",
       "1     434.060577             10.2                             9.5   \n",
       "2     433.468018             10.1                             9.5   \n",
       "3     433.976044              9.9                             9.5   \n",
       "4     433.100159              8.0                             9.5   \n",
       "\n",
       "   Mean Salinity per Hour  Mean Chlorofyl per Hour  \\\n",
       "0                    0.36                 7.450000   \n",
       "1                    0.36                 7.725000   \n",
       "2                    0.36                 7.575000   \n",
       "3                    0.36                 8.108333   \n",
       "4                    0.36                 8.116667   \n",
       "\n",
       "   Mean Conductivity per Hour                Date       Real_EC_Dates  \n",
       "0                       432.0 2021-12-12 23:00:00 2021-12-13 23:00:00  \n",
       "1                       430.0 2021-12-13 00:00:00 2021-12-14 00:00:00  \n",
       "2                       428.0 2021-12-13 01:00:00 2021-12-14 01:00:00  \n",
       "3                       432.0 2021-12-13 02:00:00 2021-12-14 02:00:00  \n",
       "4                       432.0 2021-12-13 03:00:00 2021-12-14 03:00:00  "
      ]
     },
     "execution_count": 21,
     "metadata": {},
     "output_type": "execute_result"
    }
   ],
   "source": [
    "final.head()"
   ]
  },
  {
   "cell_type": "markdown",
   "id": "c43afa83",
   "metadata": {},
   "source": [
    "## Display Testing phase "
   ]
  },
  {
   "cell_type": "code",
   "execution_count": 22,
   "id": "0ad0c89f",
   "metadata": {},
   "outputs": [
    {
     "data": {
      "image/png": "[encoded data removed]",
      "text/plain": [
       "<Figure size 720x720 with 1 Axes>"
      ]
     },
     "metadata": {
      "needs_background": "light"
     },
     "output_type": "display_data"
    }
   ],
   "source": [
    "%matplotlib inline\n",
    "\n",
    "plt.figure(figsize=(10, 10))\n",
    "plt.plot(final['Date'],final['Mean Conductivity per Hour'],label='Actual',color='red')\n",
    "plt.plot(final['Date'],final['final_ec_pred'],label='Predicted',color='blue')\n",
    "\n",
    "\n",
    "plt.title(\"Electric Conductivity: Actual vs Predicted by LSTM\")\n",
    "plt.xlabel(\"Date\")\n",
    "plt.ylabel(\"EC\")\n",
    "\n",
    "\n",
    "plt.legend()\n",
    "plt.show()"
   ]
  },
  {
   "cell_type": "markdown",
   "id": "e951c184",
   "metadata": {},
   "source": [
    "## Evaluate using R2 "
   ]
  },
  {
   "cell_type": "code",
   "execution_count": 23,
   "id": "d5537e1c",
   "metadata": {},
   "outputs": [
    {
     "name": "stdout",
     "output_type": "stream",
     "text": [
      "Test R2:  0.09371529487122099\n"
     ]
    }
   ],
   "source": [
    "print(\"Test R2: \", r2_score(final['Mean Conductivity per Hour'],final['final_ec_pred'].round(decimals = 0)))"
   ]
  },
  {
   "cell_type": "markdown",
   "id": "8a9b9967",
   "metadata": {},
   "source": [
    "## For the Forecasting phase, we have the last 24 rows, from the othe four features,at our disposal "
   ]
  },
  {
   "cell_type": "code",
   "execution_count": 24,
   "id": "82446e67",
   "metadata": {},
   "outputs": [
    {
     "data": {
      "text/plain": [
       "24"
      ]
     },
     "execution_count": 24,
     "metadata": {},
     "output_type": "execute_result"
    }
   ],
   "source": [
    "len(data)-(len(df2_train)+len(df2_test))"
   ]
  },
  {
   "cell_type": "markdown",
   "id": "1b3544b9",
   "metadata": {},
   "source": [
    "## Preprocess "
   ]
  },
  {
   "cell_type": "code",
   "execution_count": 25,
   "id": "e4d03ba5",
   "metadata": {},
   "outputs": [],
   "source": [
    "for_forecasting=data.iloc[-24:]\n",
    "for_forecasting=for_forecasting[['Atm.Temperature','Mean Watertemperature per Hour','Mean Salinity per Hour','Mean Chlorofyl per Hour']]"
   ]
  },
  {
   "cell_type": "code",
   "execution_count": null,
   "id": "dd3cbab1",
   "metadata": {},
   "outputs": [],
   "source": []
  },
  {
   "cell_type": "markdown",
   "id": "d5d09a12",
   "metadata": {},
   "source": [
    "## Create Date Labels "
   ]
  },
  {
   "cell_type": "code",
   "execution_count": 26,
   "id": "69282248",
   "metadata": {},
   "outputs": [],
   "source": [
    "dates=pd.to_datetime(data['Date'].iloc[-1])\n",
    "n_days_for_prediction=25  #Predict the next 60 days using the previous 90\n",
    "\n",
    "predict_period_dates = pd.date_range(dates, periods=n_days_for_prediction, freq='h').tolist()\n",
    "for_forecasting_dates=pd.DataFrame(data=predict_period_dates, columns=['Date']).iloc[-10:]"
   ]
  },
  {
   "cell_type": "markdown",
   "id": "1be33b90",
   "metadata": {},
   "source": [
    "## Scale "
   ]
  },
  {
   "cell_type": "code",
   "execution_count": 27,
   "id": "08ec4df7",
   "metadata": {},
   "outputs": [],
   "source": [
    "for_forecasting_scaled=sc.transform(for_forecasting)"
   ]
  },
  {
   "cell_type": "markdown",
   "id": "7cd84844",
   "metadata": {},
   "source": [
    "## Reshape "
   ]
  },
  {
   "cell_type": "code",
   "execution_count": 28,
   "id": "f99f5305",
   "metadata": {},
   "outputs": [],
   "source": [
    "hops=14\n",
    "for_forecasting_pred=[]\n",
    "\n",
    "for i in range(14,for_forecasting_scaled.shape[0]):\n",
    "    for_forecasting_pred.append(for_forecasting_scaled[i-14:i])\n",
    "for_forecasting_pred=np.array(for_forecasting_pred)"
   ]
  },
  {
   "cell_type": "markdown",
   "id": "4faab3b3",
   "metadata": {},
   "source": [
    "## Forecast "
   ]
  },
  {
   "cell_type": "code",
   "execution_count": 29,
   "id": "4313f6c3",
   "metadata": {},
   "outputs": [],
   "source": [
    "forecast=model5.predict(for_forecasting_pred)"
   ]
  },
  {
   "cell_type": "markdown",
   "id": "e39c8a9d",
   "metadata": {},
   "source": [
    "## Inverse Scale "
   ]
  },
  {
   "cell_type": "code",
   "execution_count": 30,
   "id": "92df5765",
   "metadata": {},
   "outputs": [],
   "source": [
    "forecast_final_pred=sc2.inverse_transform(forecast)"
   ]
  },
  {
   "cell_type": "markdown",
   "id": "6b4460a8",
   "metadata": {},
   "source": [
    "## Preprocess"
   ]
  },
  {
   "cell_type": "code",
   "execution_count": 31,
   "id": "0dddf9cb",
   "metadata": {},
   "outputs": [],
   "source": [
    "forecast_final_pred=pd.DataFrame(data=forecast_final_pred,columns=['EC Forecasted'])\n",
    "forecast_final=pd.concat((forecast_final_pred,for_forecasting_dates.reset_index(drop=True)),axis=1)"
   ]
  },
  {
   "cell_type": "code",
   "execution_count": 32,
   "id": "0affdddd",
   "metadata": {},
   "outputs": [
    {
     "data": {
      "text/html": [
       "<div>\n",
       "<style scoped>\n",
       "    .dataframe tbody tr th:only-of-type {\n",
       "        vertical-align: middle;\n",
       "    }\n",
       "\n",
       "    .dataframe tbody tr th {\n",
       "        vertical-align: top;\n",
       "    }\n",
       "\n",
       "    .dataframe thead th {\n",
       "        text-align: right;\n",
       "    }\n",
       "</style>\n",
       "<table border=\"1\" class=\"dataframe\">\n",
       "  <thead>\n",
       "    <tr style=\"text-align: right;\">\n",
       "      <th></th>\n",
       "      <th>EC Forecasted</th>\n",
       "      <th>Date</th>\n",
       "    </tr>\n",
       "  </thead>\n",
       "  <tbody>\n",
       "    <tr>\n",
       "      <th>0</th>\n",
       "      <td>695.825562</td>\n",
       "      <td>2022-04-03 15:00:00</td>\n",
       "    </tr>\n",
       "    <tr>\n",
       "      <th>1</th>\n",
       "      <td>691.106262</td>\n",
       "      <td>2022-04-03 16:00:00</td>\n",
       "    </tr>\n",
       "    <tr>\n",
       "      <th>2</th>\n",
       "      <td>693.705688</td>\n",
       "      <td>2022-04-03 17:00:00</td>\n",
       "    </tr>\n",
       "    <tr>\n",
       "      <th>3</th>\n",
       "      <td>690.837219</td>\n",
       "      <td>2022-04-03 18:00:00</td>\n",
       "    </tr>\n",
       "    <tr>\n",
       "      <th>4</th>\n",
       "      <td>682.913818</td>\n",
       "      <td>2022-04-03 19:00:00</td>\n",
       "    </tr>\n",
       "    <tr>\n",
       "      <th>5</th>\n",
       "      <td>676.067078</td>\n",
       "      <td>2022-04-03 20:00:00</td>\n",
       "    </tr>\n",
       "    <tr>\n",
       "      <th>6</th>\n",
       "      <td>672.252136</td>\n",
       "      <td>2022-04-03 21:00:00</td>\n",
       "    </tr>\n",
       "    <tr>\n",
       "      <th>7</th>\n",
       "      <td>676.758728</td>\n",
       "      <td>2022-04-03 22:00:00</td>\n",
       "    </tr>\n",
       "    <tr>\n",
       "      <th>8</th>\n",
       "      <td>671.359802</td>\n",
       "      <td>2022-04-03 23:00:00</td>\n",
       "    </tr>\n",
       "    <tr>\n",
       "      <th>9</th>\n",
       "      <td>666.211487</td>\n",
       "      <td>2022-04-04 00:00:00</td>\n",
       "    </tr>\n",
       "  </tbody>\n",
       "</table>\n",
       "</div>"
      ],
      "text/plain": [
       "   EC Forecasted                Date\n",
       "0     695.825562 2022-04-03 15:00:00\n",
       "1     691.106262 2022-04-03 16:00:00\n",
       "2     693.705688 2022-04-03 17:00:00\n",
       "3     690.837219 2022-04-03 18:00:00\n",
       "4     682.913818 2022-04-03 19:00:00\n",
       "5     676.067078 2022-04-03 20:00:00\n",
       "6     672.252136 2022-04-03 21:00:00\n",
       "7     676.758728 2022-04-03 22:00:00\n",
       "8     671.359802 2022-04-03 23:00:00\n",
       "9     666.211487 2022-04-04 00:00:00"
      ]
     },
     "execution_count": 32,
     "metadata": {},
     "output_type": "execute_result"
    }
   ],
   "source": [
    "forecast_final"
   ]
  },
  {
   "cell_type": "markdown",
   "id": "e90e446a",
   "metadata": {},
   "source": [
    "## Display "
   ]
  },
  {
   "cell_type": "code",
   "execution_count": 33,
   "id": "71ea2207",
   "metadata": {},
   "outputs": [],
   "source": [
    "for_display=pd.concat((final[-10:],forecast_final),axis=0)\n",
    "for_display['Real_EC_Dates']=for_display['Real_EC_Dates'].fillna(for_display['Date'])"
   ]
  },
  {
   "cell_type": "code",
   "execution_count": 34,
   "id": "f84b5f75",
   "metadata": {},
   "outputs": [
    {
     "data": {
      "image/png": "[encoded data removed]",
      "text/plain": [
       "<Figure size 720x720 with 1 Axes>"
      ]
     },
     "metadata": {
      "needs_background": "light"
     },
     "output_type": "display_data"
    }
   ],
   "source": [
    "plt.figure(figsize=(10, 10))\n",
    "plt.plot(for_display['Real_EC_Dates'],for_display['Mean Conductivity per Hour'],label='Actual',color='red')\n",
    "plt.plot(for_display['Real_EC_Dates'],for_display['final_ec_pred'],label='Predicted',color='blue')\n",
    "plt.plot(for_display['Real_EC_Dates'],for_display['EC Forecasted'],label='Forecasted',color='green')\n",
    "plt.title(\"Electric Conductivity: Actual vs Predicted & Next Hour Forecast by LSTM\")\n",
    "plt.xlabel(\"Date\")\n",
    "plt.ylabel(\"EC\")\n",
    "plt.legend()\n",
    "plt.show()"
   ]
  },
  {
   "cell_type": "code",
   "execution_count": null,
   "id": "f7f5a0eb",
   "metadata": {},
   "outputs": [],
   "source": []
  }
 ],
 "metadata": {
  "kernelspec": {
   "display_name": "Python 3",
   "language": "python",
   "name": "python3"
  },
  "language_info": {
   "codemirror_mode": {
    "name": "ipython",
    "version": 3
   },
   "file_extension": ".py",
   "mimetype": "text/x-python",
   "name": "python",
   "nbconvert_exporter": "python",
   "pygments_lexer": "ipython3",
   "version": "3.8.10"
  }
 },
 "nbformat": 4,
 "nbformat_minor": 5
}
