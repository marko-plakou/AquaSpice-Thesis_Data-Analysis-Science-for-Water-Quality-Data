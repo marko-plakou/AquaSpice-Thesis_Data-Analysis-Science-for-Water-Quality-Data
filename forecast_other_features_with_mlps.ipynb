{
 "cells": [
  {
   "cell_type": "code",
   "execution_count": 1,
   "id": "91523575",
   "metadata": {},
   "outputs": [],
   "source": [
    "import pandas as pd\n",
    "import numpy as np\n",
    "#from sklearn.preprocessing import LabelEncoder\n",
    "import tensorflow as tf\n",
    "from keras.utils import np_utils\n",
    "from keras.models import Sequential\n",
    "import matplotlib.pyplot as plt\n",
    "from sklearn.metrics import mean_squared_error, r2_score\n",
    "from sklearn.preprocessing import MinMaxScaler\n",
    "#import seaborn as sns\n",
    "import openpyxl\n",
    "from tensorflow.keras.layers import *\n",
    "#from tensorflow.keras.callbacks import ModelCheckpoint\n",
    "from tensorflow.keras.losses import MeanSquaredError\n",
    "from tensorflow.keras.metrics import RootMeanSquaredError\n",
    "from tensorflow.keras.optimizers import Adam\n",
    "from sklearn.preprocessing import StandardScaler\n",
    "from keras.layers import Dropout"
   ]
  },
  {
   "cell_type": "code",
   "execution_count": 2,
   "id": "df2aab2e",
   "metadata": {},
   "outputs": [],
   "source": [
    "data=pd.read_excel('hourly_data.xlsx',header=0)"
   ]
  },
  {
   "cell_type": "code",
   "execution_count": 3,
   "id": "231a00f6",
   "metadata": {},
   "outputs": [],
   "source": [
    "def timeseries_to_supervised(df, n_in, n_out):\n",
    "   agg = pd.DataFrame()\n",
    "\n",
    "   for i in range(n_in, 0, -1):\n",
    "      df_shifted = df.shift(i).copy()\n",
    "      df_shifted.rename(columns=lambda x: ('%s(t-%d)' % (x, i)), inplace=True)\n",
    "      agg = pd.concat([agg, df_shifted], axis=1)\n",
    "\n",
    "   for i in range(0, n_out):\n",
    "      df_shifted = df.shift(-i).copy()\n",
    "      if i == 0:\n",
    "         df_shifted.rename(columns=lambda x: ('%s(t)' % (x)), inplace=True)\n",
    "      else:\n",
    "         df_shifted.rename(columns=lambda x: ('%s(t+%d)' % (x, i)), inplace=True)\n",
    "      agg = pd.concat([agg, df_shifted], axis=1)\n",
    "   agg.dropna(inplace=True)\n",
    "   return agg"
   ]
  },
  {
   "cell_type": "code",
   "execution_count": 4,
   "id": "98b3fb5b",
   "metadata": {},
   "outputs": [],
   "source": [
    "only_atm_temperature=data['Atm.Temperature'].round(decimals = 2).to_frame(name='Atm.Temperature')"
   ]
  },
  {
   "cell_type": "code",
   "execution_count": 5,
   "id": "ff631e62",
   "metadata": {},
   "outputs": [
    {
     "name": "stdout",
     "output_type": "stream",
     "text": [
      "Data size: 8650\n",
      "Train  data size: 6055\n",
      "Test data size: 2595\n",
      "(6055, 15) (6055,)\n",
      "(2595, 15) (2595,)\n"
     ]
    }
   ],
   "source": [
    "df= only_atm_temperature.copy()\n",
    "min_max_scaler = MinMaxScaler(feature_range=(0, 1))\n",
    "df_scaled  = min_max_scaler.fit_transform(np.reshape(df['Atm.Temperature'].values, (df.shape[0], 1)))\n",
    "df_scaled  = pd.DataFrame(data=df_scaled , columns=['Atm.Temperature'])\n",
    "n_in = 15 #Timeseries consists of 90 input steps.\n",
    "n_out = 1\n",
    "sdf = timeseries_to_supervised(df_scaled, n_in, n_out)\n",
    "X, y = sdf[[('Atm.Temperature(t-%d)' % i) for i in range(15, 0, -1)]].values, sdf['Atm.Temperature(t)'].values\n",
    "len_data = X.shape[0]\n",
    "print(\"Data size: %d\" % len_data)\n",
    "train_size = int(len_data * .7)# 70% for training and 30% for testing\n",
    "print (\"Train  data size: %d\" % train_size)\n",
    "print (\"Test data size: %d\" % (len_data - train_size))\n",
    "\n",
    "xtr, ytr = X[:train_size, :], y[:train_size]\n",
    "xte, yte = X[train_size:, :], y[train_size:]\n",
    "test_dates=data[train_size:].iloc[15:].Date #Keep the dates of the test dataset for display purposes\n",
    "print(xtr.shape, ytr.shape)\n",
    "print(xte.shape, yte.shape)"
   ]
  },
  {
   "cell_type": "code",
   "execution_count": 6,
   "id": "4c49e1c8",
   "metadata": {},
   "outputs": [
    {
     "name": "stdout",
     "output_type": "stream",
     "text": [
      "Model: \"sequential\"\n",
      "_________________________________________________________________\n",
      "Layer (type)                 Output Shape              Param #   \n",
      "=================================================================\n",
      "dense (Dense)                (None, 50)                800       \n",
      "_________________________________________________________________\n",
      "dense_1 (Dense)              (None, 50)                2550      \n",
      "_________________________________________________________________\n",
      "dropout (Dropout)            (None, 50)                0         \n",
      "_________________________________________________________________\n",
      "dense_2 (Dense)              (None, 1)                 51        \n",
      "=================================================================\n",
      "Total params: 3,401\n",
      "Trainable params: 3,401\n",
      "Non-trainable params: 0\n",
      "_________________________________________________________________\n"
     ]
    }
   ],
   "source": [
    "batch_size = 1 #1\n",
    "model0 = Sequential()\n",
    "\n",
    "model0.add(Dense(units=50, input_dim=xtr.shape[1], activation=\"relu\"))#input dim is 4 as the timeseries steps.\n",
    "model0.add(Dense(50, activation=\"relu\"))# linear activation functios was used as well\n",
    "model0.add(Dropout(0.2))\n",
    "model0.add(Dense(1))\n",
    "model0.compile(loss='mean_squared_error', optimizer='adam')\n",
    "model0.summary()"
   ]
  },
  {
   "cell_type": "code",
   "execution_count": 7,
   "id": "63a1090d",
   "metadata": {},
   "outputs": [
    {
     "name": "stdout",
     "output_type": "stream",
     "text": [
      "Epoch 1/10\n",
      "6055/6055 - 2s - loss: 0.0059\n",
      "Epoch 2/10\n",
      "6055/6055 - 2s - loss: 0.0023\n",
      "Epoch 3/10\n",
      "6055/6055 - 2s - loss: 0.0019\n",
      "Epoch 4/10\n",
      "6055/6055 - 2s - loss: 0.0018\n",
      "Epoch 5/10\n",
      "6055/6055 - 2s - loss: 0.0017\n",
      "Epoch 6/10\n",
      "6055/6055 - 2s - loss: 0.0017\n",
      "Epoch 7/10\n",
      "6055/6055 - 2s - loss: 0.0017\n",
      "Epoch 8/10\n",
      "6055/6055 - 2s - loss: 0.0017\n",
      "Epoch 9/10\n",
      "6055/6055 - 2s - loss: 0.0016\n",
      "Epoch 10/10\n",
      "6055/6055 - 3s - loss: 0.0016\n"
     ]
    },
    {
     "data": {
      "text/plain": [
       "<tensorflow.python.keras.callbacks.History at 0x1c6b3122cd0>"
      ]
     },
     "execution_count": 7,
     "metadata": {},
     "output_type": "execute_result"
    }
   ],
   "source": [
    "model0.fit(xtr,ytr, epochs=10, batch_size=batch_size, verbose=2)"
   ]
  },
  {
   "cell_type": "code",
   "execution_count": 8,
   "id": "cfa95e6a",
   "metadata": {},
   "outputs": [],
   "source": [
    "testPredict = model0.predict(xte, batch_size=batch_size)"
   ]
  },
  {
   "cell_type": "code",
   "execution_count": 9,
   "id": "927de026",
   "metadata": {},
   "outputs": [
    {
     "name": "stdout",
     "output_type": "stream",
     "text": [
      "Test MSE:  1.1526993068816531\n",
      "Test MAE:  [0.75012925]\n",
      "Test R2:  0.9338360865256815\n"
     ]
    }
   ],
   "source": [
    "\n",
    "yte2d = np.reshape(yte, (yte.shape[0], 1)) \n",
    "testPredict = min_max_scaler.inverse_transform(testPredict)\n",
    "testY = min_max_scaler.inverse_transform(yte2d)\n",
    "print(\"Test MSE: \", mean_squared_error(testY, testPredict))\n",
    "print(\"Test MAE: \", sum(abs(testY-testPredict))/testY.shape[0])\n",
    "print(\"Test R2: \", r2_score(testY, testPredict))\n",
    "forecast=df_scaled[-15:]\n",
    "forecast=forecast.to_numpy()\n",
    "forecast=forecast.reshape(1,15)\n",
    "n_past = 15\n",
    "n_days_for_testing_prediction=16  #predict the next hour\n",
    "predict_period_dates = pd.date_range(list(test_dates)[-n_past], periods=n_days_for_testing_prediction,freq='h').tolist()\n",
    "predict_period_dates=predict_period_dates[-1:]\n"
   ]
  },
  {
   "cell_type": "code",
   "execution_count": 10,
   "id": "0f03b7a0",
   "metadata": {},
   "outputs": [],
   "source": [
    "forecast = model0.predict(forecast, batch_size=batch_size)#predict"
   ]
  },
  {
   "cell_type": "code",
   "execution_count": 11,
   "id": "4d3a2f09",
   "metadata": {},
   "outputs": [],
   "source": [
    "forecast = min_max_scaler.inverse_transform(forecast)#inverse\n",
    "forecast=np.squeeze(forecast)#reshape\n",
    "forecast_dates = []\n",
    "for time_i in predict_period_dates:\n",
    "    forecast_dates.append(time_i)"
   ]
  },
  {
   "cell_type": "code",
   "execution_count": 12,
   "id": "d6341817",
   "metadata": {},
   "outputs": [],
   "source": [
    "df_forecast_atm_temperature = pd.DataFrame({'Date':np.array(forecast_dates), 'Atm.Temperature Forecasted':forecast})"
   ]
  },
  {
   "cell_type": "code",
   "execution_count": null,
   "id": "017b220d",
   "metadata": {},
   "outputs": [],
   "source": []
  },
  {
   "cell_type": "code",
   "execution_count": null,
   "id": "480ae0d3",
   "metadata": {},
   "outputs": [],
   "source": []
  },
  {
   "cell_type": "code",
   "execution_count": null,
   "id": "a21ae0e1",
   "metadata": {},
   "outputs": [],
   "source": []
  },
  {
   "cell_type": "code",
   "execution_count": 13,
   "id": "4a49f71f",
   "metadata": {},
   "outputs": [],
   "source": [
    "only_water_temperature=data['Mean Watertemperature per Hour'].round(decimals = 1).to_frame(name='Mean Watertemperature per Hour')"
   ]
  },
  {
   "cell_type": "code",
   "execution_count": 14,
   "id": "d175a16c",
   "metadata": {},
   "outputs": [
    {
     "name": "stdout",
     "output_type": "stream",
     "text": [
      "Data size: 8650\n",
      "Train  data size: 6055\n",
      "Test data size: 2595\n",
      "(6055, 15) (6055,)\n",
      "(2595, 15) (2595,)\n"
     ]
    }
   ],
   "source": [
    "df= only_water_temperature.copy()\n",
    "min_max_scaler = MinMaxScaler(feature_range=(0, 1))\n",
    "df_scaled  = min_max_scaler.fit_transform(np.reshape(df['Mean Watertemperature per Hour'].values, (df.shape[0], 1)))\n",
    "df_scaled  = pd.DataFrame(data=df_scaled , columns=['Mean Watertemperature per Hour'])\n",
    "n_in = 15 #Timeseries consists of 90 input steps.\n",
    "n_out = 1\n",
    "sdf = timeseries_to_supervised(df_scaled, n_in, n_out)\n",
    "X, y = sdf[[('Mean Watertemperature per Hour(t-%d)' % i) for i in range(15, 0, -1)]].values, sdf['Mean Watertemperature per Hour(t)'].values\n",
    "len_data = X.shape[0]\n",
    "print(\"Data size: %d\" % len_data)\n",
    "train_size = int(len_data * .7)# 70% for training and 30% for testing\n",
    "print (\"Train  data size: %d\" % train_size)\n",
    "print (\"Test data size: %d\" % (len_data - train_size))\n",
    "\n",
    "xtr, ytr = X[:train_size, :], y[:train_size]\n",
    "xte, yte = X[train_size:, :], y[train_size:]\n",
    "test_dates=data[train_size:].iloc[15:].Date #Keep the dates of the test dataset for display purposes\n",
    "print(xtr.shape, ytr.shape)\n",
    "print(xte.shape, yte.shape)"
   ]
  },
  {
   "cell_type": "code",
   "execution_count": 44,
   "id": "823da5fb",
   "metadata": {},
   "outputs": [
    {
     "name": "stdout",
     "output_type": "stream",
     "text": [
      "Model: \"sequential_4\"\n",
      "_________________________________________________________________\n",
      "Layer (type)                 Output Shape              Param #   \n",
      "=================================================================\n",
      "dense_12 (Dense)             (None, 50)                800       \n",
      "_________________________________________________________________\n",
      "dense_13 (Dense)             (None, 50)                2550      \n",
      "_________________________________________________________________\n",
      "dense_14 (Dense)             (None, 1)                 51        \n",
      "=================================================================\n",
      "Total params: 3,401\n",
      "Trainable params: 3,401\n",
      "Non-trainable params: 0\n",
      "_________________________________________________________________\n"
     ]
    }
   ],
   "source": [
    "batch_size = 1 #1\n",
    "model1 = Sequential()\n",
    "\n",
    "model1.add(Dense(units=50, input_dim=xtr.shape[1], activation=\"relu\"))#input dim is 4 as the timeseries steps.\n",
    "model1.add(Dense(50, activation=\"relu\"))# linear activation functios was used as well\n",
    "model1.add(Dense(1))\n",
    "model1.compile(loss='mean_squared_error', optimizer='adam')\n",
    "model1.summary()"
   ]
  },
  {
   "cell_type": "code",
   "execution_count": 45,
   "id": "6bb50950",
   "metadata": {},
   "outputs": [
    {
     "name": "stdout",
     "output_type": "stream",
     "text": [
      "Epoch 1/10\n",
      "6055/6055 - 2s - loss: 5.0185e-04\n",
      "Epoch 2/10\n",
      "6055/6055 - 2s - loss: 3.1159e-04\n",
      "Epoch 3/10\n",
      "6055/6055 - 2s - loss: 2.8112e-04\n",
      "Epoch 4/10\n",
      "6055/6055 - 2s - loss: 2.4815e-04\n",
      "Epoch 5/10\n",
      "6055/6055 - 2s - loss: 2.4579e-04\n",
      "Epoch 6/10\n",
      "6055/6055 - 2s - loss: 2.2688e-04\n",
      "Epoch 7/10\n",
      "6055/6055 - 2s - loss: 2.1629e-04\n",
      "Epoch 8/10\n",
      "6055/6055 - 2s - loss: 2.2946e-04\n",
      "Epoch 9/10\n",
      "6055/6055 - 2s - loss: 2.0540e-04\n",
      "Epoch 10/10\n",
      "6055/6055 - 2s - loss: 1.9720e-04\n"
     ]
    },
    {
     "data": {
      "text/plain": [
       "<tensorflow.python.keras.callbacks.History at 0x1c6b5beaa90>"
      ]
     },
     "execution_count": 45,
     "metadata": {},
     "output_type": "execute_result"
    }
   ],
   "source": [
    "model1.fit(xtr,ytr, epochs=10, batch_size=batch_size, verbose=2)"
   ]
  },
  {
   "cell_type": "code",
   "execution_count": 46,
   "id": "bc0bd06f",
   "metadata": {},
   "outputs": [],
   "source": [
    "testPredict = model1.predict(xte, batch_size=batch_size)"
   ]
  },
  {
   "cell_type": "code",
   "execution_count": 47,
   "id": "08fa3909",
   "metadata": {},
   "outputs": [
    {
     "name": "stdout",
     "output_type": "stream",
     "text": [
      "Test MSE:  0.436794805803773\n",
      "Test MAE:  [0.47646218]\n",
      "Test R2:  0.9006157383404192\n"
     ]
    }
   ],
   "source": [
    "yte2d = np.reshape(yte, (yte.shape[0], 1)) \n",
    "testPredict = min_max_scaler.inverse_transform(testPredict)\n",
    "testY = min_max_scaler.inverse_transform(yte2d)\n",
    "print(\"Test MSE: \", mean_squared_error(testY, testPredict))\n",
    "print(\"Test MAE: \", sum(abs(testY-testPredict))/testY.shape[0])\n",
    "print(\"Test R2: \", r2_score(testY, testPredict))\n",
    "forecast=df_scaled[-15:]\n",
    "forecast=forecast.to_numpy()\n",
    "forecast=forecast.reshape(1,15)\n",
    "n_past = 15\n",
    "n_days_for_testing_prediction=16  #predict the next hour\n",
    "predict_period_dates = pd.date_range(list(test_dates)[-n_past], periods=n_days_for_testing_prediction,freq='h').tolist()\n",
    "predict_period_dates=predict_period_dates[-1:]"
   ]
  },
  {
   "cell_type": "code",
   "execution_count": 19,
   "id": "ffeef611",
   "metadata": {},
   "outputs": [],
   "source": [
    "forecast = model1.predict(forecast, batch_size=batch_size)#predict"
   ]
  },
  {
   "cell_type": "code",
   "execution_count": 20,
   "id": "d468e49b",
   "metadata": {},
   "outputs": [],
   "source": [
    "forecast = min_max_scaler.inverse_transform(forecast)#inverse\n",
    "forecast=np.squeeze(forecast)#reshape\n",
    "forecast_dates = []\n",
    "for time_i in predict_period_dates:\n",
    "    forecast_dates.append(time_i)"
   ]
  },
  {
   "cell_type": "code",
   "execution_count": 21,
   "id": "90d20041",
   "metadata": {},
   "outputs": [],
   "source": [
    "df_forecast_water_temperature = pd.DataFrame({'Date':np.array(forecast_dates), 'Mean Watertemperature per Hour Forecasted':forecast})"
   ]
  },
  {
   "cell_type": "code",
   "execution_count": 22,
   "id": "fae1e4dc",
   "metadata": {},
   "outputs": [
    {
     "data": {
      "text/html": [
       "<div>\n",
       "<style scoped>\n",
       "    .dataframe tbody tr th:only-of-type {\n",
       "        vertical-align: middle;\n",
       "    }\n",
       "\n",
       "    .dataframe tbody tr th {\n",
       "        vertical-align: top;\n",
       "    }\n",
       "\n",
       "    .dataframe thead th {\n",
       "        text-align: right;\n",
       "    }\n",
       "</style>\n",
       "<table border=\"1\" class=\"dataframe\">\n",
       "  <thead>\n",
       "    <tr style=\"text-align: right;\">\n",
       "      <th></th>\n",
       "      <th>Date</th>\n",
       "      <th>Atm.Temperature</th>\n",
       "      <th>Mean Watertemperature per Hour</th>\n",
       "      <th>Mean Salinity per Hour</th>\n",
       "      <th>Mean Conductivity per Hour</th>\n",
       "      <th>Mean Chlorofyl per Hour</th>\n",
       "    </tr>\n",
       "  </thead>\n",
       "  <tbody>\n",
       "    <tr>\n",
       "      <th>0</th>\n",
       "      <td>2021-04-06 11:00:00</td>\n",
       "      <td>4.9</td>\n",
       "      <td>9.900000</td>\n",
       "      <td>0.473333</td>\n",
       "      <td>680.166667</td>\n",
       "      <td>4.466667</td>\n",
       "    </tr>\n",
       "    <tr>\n",
       "      <th>1</th>\n",
       "      <td>2021-04-06 12:00:00</td>\n",
       "      <td>5.5</td>\n",
       "      <td>9.900000</td>\n",
       "      <td>0.470000</td>\n",
       "      <td>676.666667</td>\n",
       "      <td>5.000000</td>\n",
       "    </tr>\n",
       "    <tr>\n",
       "      <th>2</th>\n",
       "      <td>2021-04-06 13:00:00</td>\n",
       "      <td>4.5</td>\n",
       "      <td>9.916667</td>\n",
       "      <td>0.475000</td>\n",
       "      <td>681.833333</td>\n",
       "      <td>6.066667</td>\n",
       "    </tr>\n",
       "    <tr>\n",
       "      <th>3</th>\n",
       "      <td>2021-04-06 14:00:00</td>\n",
       "      <td>1.8</td>\n",
       "      <td>9.891667</td>\n",
       "      <td>0.475000</td>\n",
       "      <td>682.000000</td>\n",
       "      <td>7.108333</td>\n",
       "    </tr>\n",
       "    <tr>\n",
       "      <th>4</th>\n",
       "      <td>2021-04-06 15:00:00</td>\n",
       "      <td>2.2</td>\n",
       "      <td>9.800000</td>\n",
       "      <td>0.477500</td>\n",
       "      <td>682.750000</td>\n",
       "      <td>7.375000</td>\n",
       "    </tr>\n",
       "    <tr>\n",
       "      <th>...</th>\n",
       "      <td>...</td>\n",
       "      <td>...</td>\n",
       "      <td>...</td>\n",
       "      <td>...</td>\n",
       "      <td>...</td>\n",
       "      <td>...</td>\n",
       "    </tr>\n",
       "    <tr>\n",
       "      <th>8660</th>\n",
       "      <td>2022-04-02 20:00:00</td>\n",
       "      <td>1.4</td>\n",
       "      <td>10.200000</td>\n",
       "      <td>0.500000</td>\n",
       "      <td>723.166667</td>\n",
       "      <td>10.233333</td>\n",
       "    </tr>\n",
       "    <tr>\n",
       "      <th>8661</th>\n",
       "      <td>2022-04-02 21:00:00</td>\n",
       "      <td>1.2</td>\n",
       "      <td>10.125000</td>\n",
       "      <td>0.498333</td>\n",
       "      <td>717.416667</td>\n",
       "      <td>9.558333</td>\n",
       "    </tr>\n",
       "    <tr>\n",
       "      <th>8662</th>\n",
       "      <td>2022-04-02 22:00:00</td>\n",
       "      <td>0.9</td>\n",
       "      <td>10.100000</td>\n",
       "      <td>0.505833</td>\n",
       "      <td>726.833333</td>\n",
       "      <td>9.908333</td>\n",
       "    </tr>\n",
       "    <tr>\n",
       "      <th>8663</th>\n",
       "      <td>2022-04-02 23:00:00</td>\n",
       "      <td>-0.2</td>\n",
       "      <td>10.075000</td>\n",
       "      <td>0.510000</td>\n",
       "      <td>734.833333</td>\n",
       "      <td>9.791667</td>\n",
       "    </tr>\n",
       "    <tr>\n",
       "      <th>8664</th>\n",
       "      <td>2022-04-03 00:00:00</td>\n",
       "      <td>-0.4</td>\n",
       "      <td>9.975000</td>\n",
       "      <td>0.518333</td>\n",
       "      <td>741.083333</td>\n",
       "      <td>9.483333</td>\n",
       "    </tr>\n",
       "  </tbody>\n",
       "</table>\n",
       "<p>8665 rows × 6 columns</p>\n",
       "</div>"
      ],
      "text/plain": [
       "                    Date  Atm.Temperature  Mean Watertemperature per Hour  \\\n",
       "0    2021-04-06 11:00:00              4.9                        9.900000   \n",
       "1    2021-04-06 12:00:00              5.5                        9.900000   \n",
       "2    2021-04-06 13:00:00              4.5                        9.916667   \n",
       "3    2021-04-06 14:00:00              1.8                        9.891667   \n",
       "4    2021-04-06 15:00:00              2.2                        9.800000   \n",
       "...                  ...              ...                             ...   \n",
       "8660 2022-04-02 20:00:00              1.4                       10.200000   \n",
       "8661 2022-04-02 21:00:00              1.2                       10.125000   \n",
       "8662 2022-04-02 22:00:00              0.9                       10.100000   \n",
       "8663 2022-04-02 23:00:00             -0.2                       10.075000   \n",
       "8664 2022-04-03 00:00:00             -0.4                        9.975000   \n",
       "\n",
       "      Mean Salinity per Hour  Mean Conductivity per Hour  \\\n",
       "0                   0.473333                  680.166667   \n",
       "1                   0.470000                  676.666667   \n",
       "2                   0.475000                  681.833333   \n",
       "3                   0.475000                  682.000000   \n",
       "4                   0.477500                  682.750000   \n",
       "...                      ...                         ...   \n",
       "8660                0.500000                  723.166667   \n",
       "8661                0.498333                  717.416667   \n",
       "8662                0.505833                  726.833333   \n",
       "8663                0.510000                  734.833333   \n",
       "8664                0.518333                  741.083333   \n",
       "\n",
       "      Mean Chlorofyl per Hour  \n",
       "0                    4.466667  \n",
       "1                    5.000000  \n",
       "2                    6.066667  \n",
       "3                    7.108333  \n",
       "4                    7.375000  \n",
       "...                       ...  \n",
       "8660                10.233333  \n",
       "8661                 9.558333  \n",
       "8662                 9.908333  \n",
       "8663                 9.791667  \n",
       "8664                 9.483333  \n",
       "\n",
       "[8665 rows x 6 columns]"
      ]
     },
     "execution_count": 22,
     "metadata": {},
     "output_type": "execute_result"
    }
   ],
   "source": [
    "data"
   ]
  },
  {
   "cell_type": "code",
   "execution_count": null,
   "id": "dec235d0",
   "metadata": {},
   "outputs": [],
   "source": []
  },
  {
   "cell_type": "code",
   "execution_count": 23,
   "id": "f906e99d",
   "metadata": {},
   "outputs": [],
   "source": [
    "only_salinity=data['Mean Salinity per Hour'].round(decimals = 1).to_frame(name='Mean Salinity per Hour')"
   ]
  },
  {
   "cell_type": "code",
   "execution_count": 24,
   "id": "47c47d6f",
   "metadata": {},
   "outputs": [
    {
     "name": "stdout",
     "output_type": "stream",
     "text": [
      "Data size: 8650\n",
      "Train  data size: 6055\n",
      "Test data size: 2595\n",
      "(6055, 15) (6055,)\n",
      "(2595, 15) (2595,)\n"
     ]
    }
   ],
   "source": [
    "df= only_salinity.copy()\n",
    "min_max_scaler = MinMaxScaler(feature_range=(0, 1))\n",
    "df_scaled  = min_max_scaler.fit_transform(np.reshape(df['Mean Salinity per Hour'].values, (df.shape[0], 1)))\n",
    "df_scaled  = pd.DataFrame(data=df_scaled , columns=['Mean Salinity per Hour'])\n",
    "n_in = 15 #Timeseries consists of 90 input steps.\n",
    "n_out = 1\n",
    "sdf = timeseries_to_supervised(df_scaled, n_in, n_out)\n",
    "X, y = sdf[[('Mean Salinity per Hour(t-%d)' % i) for i in range(15, 0, -1)]].values, sdf['Mean Salinity per Hour(t)'].values\n",
    "len_data = X.shape[0]\n",
    "print(\"Data size: %d\" % len_data)\n",
    "train_size = int(len_data * .7)# 70% for training and 30% for testing\n",
    "print (\"Train  data size: %d\" % train_size)\n",
    "print (\"Test data size: %d\" % (len_data - train_size))\n",
    "\n",
    "xtr, ytr = X[:train_size, :], y[:train_size]\n",
    "xte, yte = X[train_size:, :], y[train_size:]\n",
    "test_dates=data[train_size:].iloc[15:].Date #Keep the dates of the test dataset for display purposes\n",
    "print(xtr.shape, ytr.shape)\n",
    "print(xte.shape, yte.shape)"
   ]
  },
  {
   "cell_type": "code",
   "execution_count": 25,
   "id": "bc643397",
   "metadata": {},
   "outputs": [
    {
     "name": "stdout",
     "output_type": "stream",
     "text": [
      "Model: \"sequential_2\"\n",
      "_________________________________________________________________\n",
      "Layer (type)                 Output Shape              Param #   \n",
      "=================================================================\n",
      "dense_6 (Dense)              (None, 50)                800       \n",
      "_________________________________________________________________\n",
      "dense_7 (Dense)              (None, 50)                2550      \n",
      "_________________________________________________________________\n",
      "dense_8 (Dense)              (None, 1)                 51        \n",
      "=================================================================\n",
      "Total params: 3,401\n",
      "Trainable params: 3,401\n",
      "Non-trainable params: 0\n",
      "_________________________________________________________________\n"
     ]
    }
   ],
   "source": [
    "batch_size = 1 #1\n",
    "model2 = Sequential()\n",
    "\n",
    "model2.add(Dense(units=50, input_dim=xtr.shape[1], activation=\"relu\"))#input dim is 4 as the timeseries steps.\n",
    "model2.add(Dense(50, activation=\"relu\"))# linear activation functios was used as well\n",
    "model2.add(Dense(1))\n",
    "model2.compile(loss='mean_squared_error', optimizer='adam')\n",
    "model2.summary()"
   ]
  },
  {
   "cell_type": "code",
   "execution_count": 26,
   "id": "e9af5461",
   "metadata": {},
   "outputs": [
    {
     "name": "stdout",
     "output_type": "stream",
     "text": [
      "Epoch 1/10\n",
      "6055/6055 - 2s - loss: 0.0120\n",
      "Epoch 2/10\n",
      "6055/6055 - 2s - loss: 0.0085\n",
      "Epoch 3/10\n",
      "6055/6055 - 2s - loss: 0.0082\n",
      "Epoch 4/10\n",
      "6055/6055 - 2s - loss: 0.0079\n",
      "Epoch 5/10\n",
      "6055/6055 - 2s - loss: 0.0079\n",
      "Epoch 6/10\n",
      "6055/6055 - 2s - loss: 0.0079\n",
      "Epoch 7/10\n",
      "6055/6055 - 2s - loss: 0.0078\n",
      "Epoch 8/10\n",
      "6055/6055 - 2s - loss: 0.0076\n",
      "Epoch 9/10\n",
      "6055/6055 - 2s - loss: 0.0077\n",
      "Epoch 10/10\n",
      "6055/6055 - 2s - loss: 0.0076\n"
     ]
    },
    {
     "data": {
      "text/plain": [
       "<tensorflow.python.keras.callbacks.History at 0x1c6b33cddc0>"
      ]
     },
     "execution_count": 26,
     "metadata": {},
     "output_type": "execute_result"
    }
   ],
   "source": [
    "model2.fit(xtr,ytr, epochs=10, batch_size=batch_size, verbose=2)"
   ]
  },
  {
   "cell_type": "code",
   "execution_count": 27,
   "id": "2124ac01",
   "metadata": {},
   "outputs": [],
   "source": [
    "testPredict = model2.predict(xte, batch_size=batch_size)"
   ]
  },
  {
   "cell_type": "code",
   "execution_count": 28,
   "id": "0b9749eb",
   "metadata": {},
   "outputs": [
    {
     "name": "stdout",
     "output_type": "stream",
     "text": [
      "Test MSE:  0.00027556191043417945\n",
      "Test MAE:  [0.00649373]\n",
      "Test R2:  0.9273381671455003\n"
     ]
    }
   ],
   "source": [
    "yte2d = np.reshape(yte, (yte.shape[0], 1)) \n",
    "testPredict = min_max_scaler.inverse_transform(testPredict)\n",
    "testY = min_max_scaler.inverse_transform(yte2d)\n",
    "print(\"Test MSE: \", mean_squared_error(testY, testPredict))\n",
    "print(\"Test MAE: \", sum(abs(testY-testPredict))/testY.shape[0])\n",
    "print(\"Test R2: \", r2_score(testY, testPredict))\n",
    "forecast=df_scaled[-15:]\n",
    "forecast=forecast.to_numpy()\n",
    "forecast=forecast.reshape(1,15)\n",
    "n_past = 15\n",
    "n_days_for_testing_prediction=16  #predict the next hour\n",
    "predict_period_dates = pd.date_range(list(test_dates)[-n_past], periods=n_days_for_testing_prediction,freq='h').tolist()\n",
    "predict_period_dates=predict_period_dates[-1:]"
   ]
  },
  {
   "cell_type": "code",
   "execution_count": 29,
   "id": "832c9420",
   "metadata": {},
   "outputs": [],
   "source": [
    "forecast = model2.predict(forecast, batch_size=batch_size)#predict"
   ]
  },
  {
   "cell_type": "code",
   "execution_count": 30,
   "id": "28aab943",
   "metadata": {},
   "outputs": [],
   "source": [
    "forecast = min_max_scaler.inverse_transform(forecast)#inverse\n",
    "forecast=np.squeeze(forecast)#reshape\n",
    "forecast_dates = []\n",
    "for time_i in predict_period_dates:\n",
    "    forecast_dates.append(time_i)"
   ]
  },
  {
   "cell_type": "code",
   "execution_count": 31,
   "id": "f9350719",
   "metadata": {},
   "outputs": [],
   "source": [
    "df_forecast_salinity = pd.DataFrame({'Date':np.array(forecast_dates), 'Salinity Forecasted':forecast})"
   ]
  },
  {
   "cell_type": "code",
   "execution_count": null,
   "id": "3533024f",
   "metadata": {},
   "outputs": [],
   "source": []
  },
  {
   "cell_type": "code",
   "execution_count": 32,
   "id": "85123015",
   "metadata": {},
   "outputs": [],
   "source": [
    "only_chlorofyl=data['Mean Chlorofyl per Hour'].round(decimals = 2).to_frame(name='Mean Chlorofyl per Hour')"
   ]
  },
  {
   "cell_type": "code",
   "execution_count": 33,
   "id": "151fcc7b",
   "metadata": {},
   "outputs": [
    {
     "name": "stdout",
     "output_type": "stream",
     "text": [
      "Data size: 8650\n",
      "Train  data size: 6055\n",
      "Test data size: 2595\n",
      "(6055, 15) (6055,)\n",
      "(2595, 15) (2595,)\n"
     ]
    }
   ],
   "source": [
    "df= only_chlorofyl.copy()\n",
    "min_max_scaler = MinMaxScaler(feature_range=(0, 1))\n",
    "df_scaled  = min_max_scaler.fit_transform(np.reshape(df['Mean Chlorofyl per Hour'].values, (df.shape[0], 1)))\n",
    "df_scaled  = pd.DataFrame(data=df_scaled , columns=['Mean Chlorofyl per Hour'])\n",
    "n_in = 15 #Timeseries consists of 90 input steps.\n",
    "n_out = 1\n",
    "sdf = timeseries_to_supervised(df_scaled, n_in, n_out)\n",
    "X, y = sdf[[('Mean Chlorofyl per Hour(t-%d)' % i) for i in range(15, 0, -1)]].values, sdf['Mean Chlorofyl per Hour(t)'].values\n",
    "len_data = X.shape[0]\n",
    "print(\"Data size: %d\" % len_data)\n",
    "train_size = int(len_data * .7)# 70% for training and 30% for testing\n",
    "print (\"Train  data size: %d\" % train_size)\n",
    "print (\"Test data size: %d\" % (len_data - train_size))\n",
    "\n",
    "xtr, ytr = X[:train_size, :], y[:train_size]\n",
    "xte, yte = X[train_size:, :], y[train_size:]\n",
    "test_dates=data[train_size:].iloc[15:].Date #Keep the dates of the test dataset for display purposes\n",
    "print(xtr.shape, ytr.shape)\n",
    "print(xte.shape, yte.shape)"
   ]
  },
  {
   "cell_type": "code",
   "execution_count": 34,
   "id": "81b8d3df",
   "metadata": {},
   "outputs": [
    {
     "name": "stdout",
     "output_type": "stream",
     "text": [
      "Model: \"sequential_3\"\n",
      "_________________________________________________________________\n",
      "Layer (type)                 Output Shape              Param #   \n",
      "=================================================================\n",
      "dense_9 (Dense)              (None, 50)                800       \n",
      "_________________________________________________________________\n",
      "dense_10 (Dense)             (None, 50)                2550      \n",
      "_________________________________________________________________\n",
      "dropout_1 (Dropout)          (None, 50)                0         \n",
      "_________________________________________________________________\n",
      "dense_11 (Dense)             (None, 1)                 51        \n",
      "=================================================================\n",
      "Total params: 3,401\n",
      "Trainable params: 3,401\n",
      "Non-trainable params: 0\n",
      "_________________________________________________________________\n"
     ]
    }
   ],
   "source": [
    "batch_size = 1 #1\n",
    "model3 = Sequential()\n",
    "\n",
    "model3.add(Dense(units=50, input_dim=xtr.shape[1], activation=\"relu\"))#input dim is 4 as the timeseries steps.\n",
    "model3.add(Dense(50, activation=\"relu\"))# linear activation functios was used as well\n",
    "model3.add(Dropout(0.2))\n",
    "model3.add(Dense(1))\n",
    "model3.compile(loss='mean_squared_error', optimizer='adam')\n",
    "model3.summary()"
   ]
  },
  {
   "cell_type": "code",
   "execution_count": 51,
   "id": "d504a3aa",
   "metadata": {},
   "outputs": [
    {
     "name": "stdout",
     "output_type": "stream",
     "text": [
      "Epoch 1/10\n",
      "6055/6055 - 2s - loss: 3.0141e-04\n",
      "Epoch 2/10\n",
      "6055/6055 - 2s - loss: 2.9396e-04\n",
      "Epoch 3/10\n",
      "6055/6055 - 2s - loss: 2.5294e-04\n",
      "Epoch 4/10\n",
      "6055/6055 - 2s - loss: 3.1740e-04\n",
      "Epoch 5/10\n",
      "6055/6055 - 2s - loss: 2.4301e-04\n",
      "Epoch 6/10\n",
      "6055/6055 - 2s - loss: 2.8037e-04\n",
      "Epoch 7/10\n",
      "6055/6055 - 2s - loss: 3.0866e-04\n",
      "Epoch 8/10\n",
      "6055/6055 - 2s - loss: 3.0818e-04\n",
      "Epoch 9/10\n",
      "6055/6055 - 2s - loss: 2.9615e-04\n",
      "Epoch 10/10\n",
      "6055/6055 - 2s - loss: 2.5028e-04\n"
     ]
    },
    {
     "data": {
      "text/plain": [
       "<tensorflow.python.keras.callbacks.History at 0x1c6b3122490>"
      ]
     },
     "execution_count": 51,
     "metadata": {},
     "output_type": "execute_result"
    }
   ],
   "source": [
    "model3.fit(xtr,ytr, epochs=10, batch_size=batch_size, verbose=2)"
   ]
  },
  {
   "cell_type": "code",
   "execution_count": 52,
   "id": "91ccca07",
   "metadata": {},
   "outputs": [],
   "source": [
    "testPredict = model3.predict(xte, batch_size=batch_size)"
   ]
  },
  {
   "cell_type": "code",
   "execution_count": 53,
   "id": "35290bc1",
   "metadata": {},
   "outputs": [
    {
     "name": "stdout",
     "output_type": "stream",
     "text": [
      "Test MSE:  0.6747034511334794\n",
      "Test MAE:  [0.71616062]\n",
      "Test R2:  0.8464841993560797\n"
     ]
    }
   ],
   "source": [
    "yte2d = np.reshape(yte, (yte.shape[0], 1)) \n",
    "testPredict = min_max_scaler.inverse_transform(testPredict)\n",
    "testY = min_max_scaler.inverse_transform(yte2d)\n",
    "print(\"Test MSE: \", mean_squared_error(testY, testPredict))\n",
    "print(\"Test MAE: \", sum(abs(testY-testPredict))/testY.shape[0])\n",
    "print(\"Test R2: \", r2_score(testY, testPredict))\n",
    "forecast=df_scaled[-15:]\n",
    "forecast=forecast.to_numpy()\n",
    "forecast=forecast.reshape(1,15)\n",
    "n_past = 15\n",
    "n_days_for_testing_prediction=16  #predict the next hour\n",
    "predict_period_dates = pd.date_range(list(test_dates)[-n_past], periods=n_days_for_testing_prediction,freq='h').tolist()\n",
    "predict_period_dates=predict_period_dates[-1:]"
   ]
  },
  {
   "cell_type": "code",
   "execution_count": 38,
   "id": "7de63ae2",
   "metadata": {},
   "outputs": [],
   "source": [
    "forecast = model3.predict(forecast, batch_size=batch_size)#predict"
   ]
  },
  {
   "cell_type": "code",
   "execution_count": 39,
   "id": "5812cb88",
   "metadata": {},
   "outputs": [],
   "source": [
    "forecast = min_max_scaler.inverse_transform(forecast)#inverse\n",
    "forecast=np.squeeze(forecast)#reshape\n",
    "forecast_dates = []\n",
    "for time_i in predict_period_dates:\n",
    "    forecast_dates.append(time_i)"
   ]
  },
  {
   "cell_type": "code",
   "execution_count": 40,
   "id": "d9225d9a",
   "metadata": {},
   "outputs": [],
   "source": [
    "df_forecast_chlorofyl = pd.DataFrame({'Date':np.array(forecast_dates), 'Chlorofyl Forecasted':forecast})"
   ]
  },
  {
   "cell_type": "code",
   "execution_count": null,
   "id": "01df6569",
   "metadata": {},
   "outputs": [],
   "source": []
  },
  {
   "cell_type": "code",
   "execution_count": 41,
   "id": "4660f8f1",
   "metadata": {},
   "outputs": [],
   "source": [
    "forecasts=pd.concat((df_forecast_atm_temperature,df_forecast_water_temperature['Mean Watertemperature per Hour Forecasted'],df_forecast_salinity['Salinity Forecasted'],df_forecast_chlorofyl['Chlorofyl Forecasted']),axis=1)"
   ]
  },
  {
   "cell_type": "code",
   "execution_count": 42,
   "id": "5a460f42",
   "metadata": {},
   "outputs": [
    {
     "data": {
      "text/html": [
       "<div>\n",
       "<style scoped>\n",
       "    .dataframe tbody tr th:only-of-type {\n",
       "        vertical-align: middle;\n",
       "    }\n",
       "\n",
       "    .dataframe tbody tr th {\n",
       "        vertical-align: top;\n",
       "    }\n",
       "\n",
       "    .dataframe thead th {\n",
       "        text-align: right;\n",
       "    }\n",
       "</style>\n",
       "<table border=\"1\" class=\"dataframe\">\n",
       "  <thead>\n",
       "    <tr style=\"text-align: right;\">\n",
       "      <th></th>\n",
       "      <th>Date</th>\n",
       "      <th>Atm.Temperature Forecasted</th>\n",
       "      <th>Mean Watertemperature per Hour Forecasted</th>\n",
       "      <th>Salinity Forecasted</th>\n",
       "      <th>Chlorofyl Forecasted</th>\n",
       "    </tr>\n",
       "  </thead>\n",
       "  <tbody>\n",
       "    <tr>\n",
       "      <th>0</th>\n",
       "      <td>2022-04-03 01:00:00</td>\n",
       "      <td>0.864817</td>\n",
       "      <td>10.0221</td>\n",
       "      <td>0.495026</td>\n",
       "      <td>11.253048</td>\n",
       "    </tr>\n",
       "  </tbody>\n",
       "</table>\n",
       "</div>"
      ],
      "text/plain": [
       "                 Date  Atm.Temperature Forecasted  \\\n",
       "0 2022-04-03 01:00:00                    0.864817   \n",
       "\n",
       "   Mean Watertemperature per Hour Forecasted  Salinity Forecasted  \\\n",
       "0                                    10.0221             0.495026   \n",
       "\n",
       "   Chlorofyl Forecasted  \n",
       "0             11.253048  "
      ]
     },
     "execution_count": 42,
     "metadata": {},
     "output_type": "execute_result"
    }
   ],
   "source": [
    "forecasts"
   ]
  },
  {
   "cell_type": "code",
   "execution_count": 43,
   "id": "ecb65bd4",
   "metadata": {},
   "outputs": [],
   "source": [
    "#forecasts.to_excel(r'forecasted_by_mlps.xlsx',header=True, index=False)"
   ]
  },
  {
   "cell_type": "code",
   "execution_count": 55,
   "id": "ca485882",
   "metadata": {},
   "outputs": [
    {
     "name": "stdout",
     "output_type": "stream",
     "text": [
      "INFO:tensorflow:Assets written to: atm_temp\\assets\n",
      "INFO:tensorflow:Assets written to: water_temp\\assets\n",
      "INFO:tensorflow:Assets written to: salinity\\assets\n",
      "INFO:tensorflow:Assets written to: chlorofyl\\assets\n"
     ]
    }
   ],
   "source": [
    "model0.save('atm_temp')\n",
    "model1.save('water_temp')\n",
    "model2.save('salinity')\n",
    "model3.save('chlorofyl')"
   ]
  },
  {
   "cell_type": "code",
   "execution_count": 58,
   "id": "2517709f",
   "metadata": {},
   "outputs": [],
   "source": [
    "forecasts=forecasts.rename(columns={'Atm.Temperature Forecasted':'Atm.Temperature','Mean Watertemperature per Hour Forecasted':'Mean Watertemperature per Hour','Salinity Forecasted':'Mean Salinity per Hour','Chlorofyl Forecasted':'Mean Chlorofyl per Hour'})\n",
    "                          "
   ]
  },
  {
   "cell_type": "code",
   "execution_count": 67,
   "id": "29f7f099",
   "metadata": {},
   "outputs": [],
   "source": [
    "new_df=pd.concat((data[-14:],forecasts),axis=0)"
   ]
  },
  {
   "cell_type": "code",
   "execution_count": 68,
   "id": "f0525162",
   "metadata": {},
   "outputs": [],
   "source": [
    "new_df=new_df.reset_index()"
   ]
  },
  {
   "cell_type": "code",
   "execution_count": 70,
   "id": "18352fe2",
   "metadata": {},
   "outputs": [
    {
     "data": {
      "text/html": [
       "<div>\n",
       "<style scoped>\n",
       "    .dataframe tbody tr th:only-of-type {\n",
       "        vertical-align: middle;\n",
       "    }\n",
       "\n",
       "    .dataframe tbody tr th {\n",
       "        vertical-align: top;\n",
       "    }\n",
       "\n",
       "    .dataframe thead th {\n",
       "        text-align: right;\n",
       "    }\n",
       "</style>\n",
       "<table border=\"1\" class=\"dataframe\">\n",
       "  <thead>\n",
       "    <tr style=\"text-align: right;\">\n",
       "      <th></th>\n",
       "      <th>index</th>\n",
       "      <th>Date</th>\n",
       "      <th>Atm.Temperature</th>\n",
       "      <th>Mean Watertemperature per Hour</th>\n",
       "      <th>Mean Salinity per Hour</th>\n",
       "      <th>Mean Conductivity per Hour</th>\n",
       "      <th>Mean Chlorofyl per Hour</th>\n",
       "    </tr>\n",
       "  </thead>\n",
       "  <tbody>\n",
       "    <tr>\n",
       "      <th>0</th>\n",
       "      <td>8651</td>\n",
       "      <td>2022-04-02 11:00:00</td>\n",
       "      <td>6.700000</td>\n",
       "      <td>10.100000</td>\n",
       "      <td>0.500000</td>\n",
       "      <td>717.750000</td>\n",
       "      <td>9.458333</td>\n",
       "    </tr>\n",
       "    <tr>\n",
       "      <th>1</th>\n",
       "      <td>8652</td>\n",
       "      <td>2022-04-02 12:00:00</td>\n",
       "      <td>7.300000</td>\n",
       "      <td>10.175000</td>\n",
       "      <td>0.500833</td>\n",
       "      <td>725.250000</td>\n",
       "      <td>9.641667</td>\n",
       "    </tr>\n",
       "    <tr>\n",
       "      <th>2</th>\n",
       "      <td>8653</td>\n",
       "      <td>2022-04-02 13:00:00</td>\n",
       "      <td>7.300000</td>\n",
       "      <td>10.258333</td>\n",
       "      <td>0.505000</td>\n",
       "      <td>731.833333</td>\n",
       "      <td>10.750000</td>\n",
       "    </tr>\n",
       "    <tr>\n",
       "      <th>3</th>\n",
       "      <td>8654</td>\n",
       "      <td>2022-04-02 14:00:00</td>\n",
       "      <td>6.600000</td>\n",
       "      <td>10.200000</td>\n",
       "      <td>0.506667</td>\n",
       "      <td>729.166667</td>\n",
       "      <td>8.658333</td>\n",
       "    </tr>\n",
       "    <tr>\n",
       "      <th>4</th>\n",
       "      <td>8655</td>\n",
       "      <td>2022-04-02 15:00:00</td>\n",
       "      <td>6.400000</td>\n",
       "      <td>10.200000</td>\n",
       "      <td>0.500833</td>\n",
       "      <td>724.083333</td>\n",
       "      <td>9.841667</td>\n",
       "    </tr>\n",
       "    <tr>\n",
       "      <th>5</th>\n",
       "      <td>8656</td>\n",
       "      <td>2022-04-02 16:00:00</td>\n",
       "      <td>6.300000</td>\n",
       "      <td>10.200000</td>\n",
       "      <td>0.507500</td>\n",
       "      <td>733.666667</td>\n",
       "      <td>9.725000</td>\n",
       "    </tr>\n",
       "    <tr>\n",
       "      <th>6</th>\n",
       "      <td>8657</td>\n",
       "      <td>2022-04-02 17:00:00</td>\n",
       "      <td>5.200000</td>\n",
       "      <td>10.191667</td>\n",
       "      <td>0.515000</td>\n",
       "      <td>741.000000</td>\n",
       "      <td>11.033333</td>\n",
       "    </tr>\n",
       "    <tr>\n",
       "      <th>7</th>\n",
       "      <td>8658</td>\n",
       "      <td>2022-04-02 18:00:00</td>\n",
       "      <td>4.300000</td>\n",
       "      <td>10.116667</td>\n",
       "      <td>0.506667</td>\n",
       "      <td>729.916667</td>\n",
       "      <td>10.741667</td>\n",
       "    </tr>\n",
       "    <tr>\n",
       "      <th>8</th>\n",
       "      <td>8659</td>\n",
       "      <td>2022-04-02 19:00:00</td>\n",
       "      <td>3.100000</td>\n",
       "      <td>10.166667</td>\n",
       "      <td>0.509167</td>\n",
       "      <td>731.916667</td>\n",
       "      <td>9.608333</td>\n",
       "    </tr>\n",
       "    <tr>\n",
       "      <th>9</th>\n",
       "      <td>8660</td>\n",
       "      <td>2022-04-02 20:00:00</td>\n",
       "      <td>1.400000</td>\n",
       "      <td>10.200000</td>\n",
       "      <td>0.500000</td>\n",
       "      <td>723.166667</td>\n",
       "      <td>10.233333</td>\n",
       "    </tr>\n",
       "    <tr>\n",
       "      <th>10</th>\n",
       "      <td>8661</td>\n",
       "      <td>2022-04-02 21:00:00</td>\n",
       "      <td>1.200000</td>\n",
       "      <td>10.125000</td>\n",
       "      <td>0.498333</td>\n",
       "      <td>717.416667</td>\n",
       "      <td>9.558333</td>\n",
       "    </tr>\n",
       "    <tr>\n",
       "      <th>11</th>\n",
       "      <td>8662</td>\n",
       "      <td>2022-04-02 22:00:00</td>\n",
       "      <td>0.900000</td>\n",
       "      <td>10.100000</td>\n",
       "      <td>0.505833</td>\n",
       "      <td>726.833333</td>\n",
       "      <td>9.908333</td>\n",
       "    </tr>\n",
       "    <tr>\n",
       "      <th>12</th>\n",
       "      <td>8663</td>\n",
       "      <td>2022-04-02 23:00:00</td>\n",
       "      <td>-0.200000</td>\n",
       "      <td>10.075000</td>\n",
       "      <td>0.510000</td>\n",
       "      <td>734.833333</td>\n",
       "      <td>9.791667</td>\n",
       "    </tr>\n",
       "    <tr>\n",
       "      <th>13</th>\n",
       "      <td>8664</td>\n",
       "      <td>2022-04-03 00:00:00</td>\n",
       "      <td>-0.400000</td>\n",
       "      <td>9.975000</td>\n",
       "      <td>0.518333</td>\n",
       "      <td>741.083333</td>\n",
       "      <td>9.483333</td>\n",
       "    </tr>\n",
       "    <tr>\n",
       "      <th>14</th>\n",
       "      <td>0</td>\n",
       "      <td>2022-04-03 01:00:00</td>\n",
       "      <td>0.864817</td>\n",
       "      <td>10.022100</td>\n",
       "      <td>0.495026</td>\n",
       "      <td>NaN</td>\n",
       "      <td>11.253048</td>\n",
       "    </tr>\n",
       "  </tbody>\n",
       "</table>\n",
       "</div>"
      ],
      "text/plain": [
       "    index                Date  Atm.Temperature  \\\n",
       "0    8651 2022-04-02 11:00:00         6.700000   \n",
       "1    8652 2022-04-02 12:00:00         7.300000   \n",
       "2    8653 2022-04-02 13:00:00         7.300000   \n",
       "3    8654 2022-04-02 14:00:00         6.600000   \n",
       "4    8655 2022-04-02 15:00:00         6.400000   \n",
       "5    8656 2022-04-02 16:00:00         6.300000   \n",
       "6    8657 2022-04-02 17:00:00         5.200000   \n",
       "7    8658 2022-04-02 18:00:00         4.300000   \n",
       "8    8659 2022-04-02 19:00:00         3.100000   \n",
       "9    8660 2022-04-02 20:00:00         1.400000   \n",
       "10   8661 2022-04-02 21:00:00         1.200000   \n",
       "11   8662 2022-04-02 22:00:00         0.900000   \n",
       "12   8663 2022-04-02 23:00:00        -0.200000   \n",
       "13   8664 2022-04-03 00:00:00        -0.400000   \n",
       "14      0 2022-04-03 01:00:00         0.864817   \n",
       "\n",
       "    Mean Watertemperature per Hour  Mean Salinity per Hour  \\\n",
       "0                        10.100000                0.500000   \n",
       "1                        10.175000                0.500833   \n",
       "2                        10.258333                0.505000   \n",
       "3                        10.200000                0.506667   \n",
       "4                        10.200000                0.500833   \n",
       "5                        10.200000                0.507500   \n",
       "6                        10.191667                0.515000   \n",
       "7                        10.116667                0.506667   \n",
       "8                        10.166667                0.509167   \n",
       "9                        10.200000                0.500000   \n",
       "10                       10.125000                0.498333   \n",
       "11                       10.100000                0.505833   \n",
       "12                       10.075000                0.510000   \n",
       "13                        9.975000                0.518333   \n",
       "14                       10.022100                0.495026   \n",
       "\n",
       "    Mean Conductivity per Hour  Mean Chlorofyl per Hour  \n",
       "0                   717.750000                 9.458333  \n",
       "1                   725.250000                 9.641667  \n",
       "2                   731.833333                10.750000  \n",
       "3                   729.166667                 8.658333  \n",
       "4                   724.083333                 9.841667  \n",
       "5                   733.666667                 9.725000  \n",
       "6                   741.000000                11.033333  \n",
       "7                   729.916667                10.741667  \n",
       "8                   731.916667                 9.608333  \n",
       "9                   723.166667                10.233333  \n",
       "10                  717.416667                 9.558333  \n",
       "11                  726.833333                 9.908333  \n",
       "12                  734.833333                 9.791667  \n",
       "13                  741.083333                 9.483333  \n",
       "14                         NaN                11.253048  "
      ]
     },
     "execution_count": 70,
     "metadata": {},
     "output_type": "execute_result"
    }
   ],
   "source": [
    "new_df"
   ]
  },
  {
   "cell_type": "code",
   "execution_count": 135,
   "id": "53e96566",
   "metadata": {},
   "outputs": [],
   "source": [
    "atm_temp=new_df[['Atm.Temperature']]"
   ]
  },
  {
   "cell_type": "code",
   "execution_count": 142,
   "id": "c8db5d97",
   "metadata": {},
   "outputs": [],
   "source": [
    "water_temp=new_df[['Mean Watertemperature per Hour']]"
   ]
  },
  {
   "cell_type": "code",
   "execution_count": 137,
   "id": "d1d9d720",
   "metadata": {},
   "outputs": [],
   "source": [
    "salinity=new_df[['Mean Salinity per Hour']]"
   ]
  },
  {
   "cell_type": "code",
   "execution_count": 138,
   "id": "4d8227de",
   "metadata": {},
   "outputs": [],
   "source": [
    "chlorofyl=new_df[['Mean Chlorofyl per Hour']]"
   ]
  },
  {
   "cell_type": "code",
   "execution_count": 139,
   "id": "4158db51",
   "metadata": {},
   "outputs": [],
   "source": [
    "i=0\n",
    "while i<14:\n",
    "    forecasts=atm_temp.iloc[-15:]\n",
    "    forecasts_scaled=min_max_scaler.fit_transform(np.reshape(forecasts['Atm.Temperature'].values, (15, 1)))\n",
    "    forecasts=forecasts_scaled.reshape(1,15)\n",
    "    forecasts = model0.predict(forecasts, batch_size=batch_size)#predict\n",
    "    forecasts=min_max_scaler.inverse_transform(forecasts)\n",
    "    forecasts=pd.DataFrame(data=forecasts,columns=['Atm.Temperature'])\n",
    "    atm_temp=pd.concat((atm_temp,forecasts),axis=0)\n",
    "    i=i+1"
   ]
  },
  {
   "cell_type": "code",
   "execution_count": 143,
   "id": "793fc67d",
   "metadata": {},
   "outputs": [],
   "source": [
    "i=0\n",
    "while i<14:\n",
    "    forecasts=water_temp.iloc[-15:]\n",
    "    forecasts_scaled=min_max_scaler.fit_transform(np.reshape(forecasts['Mean Watertemperature per Hour'].values, (15, 1)))\n",
    "    #forecasts=forecasts_scaled.to_numpy()\n",
    "    forecasts=forecasts_scaled.reshape(1,15)\n",
    "    forecasts = model1.predict(forecasts, batch_size=batch_size)#predict\n",
    "    forecasts=min_max_scaler.inverse_transform(forecasts)\n",
    "    forecasts=pd.DataFrame(data=forecasts,columns=['Mean Watertemperature per Hour'])\n",
    "    water_temp=pd.concat((water_temp,forecasts),axis=0)\n",
    "    i=i+1"
   ]
  },
  {
   "cell_type": "code",
   "execution_count": 145,
   "id": "d16bc22d",
   "metadata": {},
   "outputs": [],
   "source": [
    "i=0\n",
    "while i<14:\n",
    "    forecasts=salinity.iloc[-15:]\n",
    "    forecasts_scaled=min_max_scaler.fit_transform(np.reshape(forecasts['Mean Salinity per Hour'].values, (15, 1)))\n",
    "    #forecasts=forecasts_scaled.to_numpy()\n",
    "    forecasts=forecasts_scaled.reshape(1,15)\n",
    "    forecasts = model2.predict(forecasts, batch_size=batch_size)#predict\n",
    "    forecasts=min_max_scaler.inverse_transform(forecasts)\n",
    "    forecasts=pd.DataFrame(data=forecasts,columns=['Mean Salinity per Hour'])\n",
    "    salinity=pd.concat((salinity,forecasts),axis=0)\n",
    "    i=i+1"
   ]
  },
  {
   "cell_type": "code",
   "execution_count": 147,
   "id": "ff3fda49",
   "metadata": {},
   "outputs": [],
   "source": [
    "i=0\n",
    "while i<14:\n",
    "    forecasts=chlorofyl.iloc[-15:]\n",
    "    forecasts_scaled=min_max_scaler.fit_transform(np.reshape(forecasts['Mean Chlorofyl per Hour'].values, (15, 1)))\n",
    "    #forecasts=forecasts_scaled.to_numpy()\n",
    "    forecasts=forecasts_scaled.reshape(1,15)\n",
    "    forecasts = model3.predict(forecasts, batch_size=batch_size)#predict\n",
    "    forecasts=min_max_scaler.inverse_transform(forecasts)\n",
    "    forecasts=pd.DataFrame(data=forecasts,columns=['Mean Chlorofyl per Hour'])\n",
    "    chlorofyl=pd.concat((chlorofyl,forecasts),axis=0)\n",
    "    i=i+1"
   ]
  },
  {
   "cell_type": "code",
   "execution_count": 149,
   "id": "978c69e1",
   "metadata": {},
   "outputs": [],
   "source": [
    "atm_temp=atm_temp.reset_index()"
   ]
  },
  {
   "cell_type": "code",
   "execution_count": 150,
   "id": "0a342ca8",
   "metadata": {},
   "outputs": [],
   "source": [
    "water_temp=water_temp.reset_index()"
   ]
  },
  {
   "cell_type": "code",
   "execution_count": 151,
   "id": "d4139038",
   "metadata": {},
   "outputs": [],
   "source": [
    "salinity=salinity.reset_index()"
   ]
  },
  {
   "cell_type": "code",
   "execution_count": 152,
   "id": "91182b28",
   "metadata": {},
   "outputs": [],
   "source": [
    "chlorofyl=chlorofyl.reset_index()"
   ]
  },
  {
   "cell_type": "code",
   "execution_count": null,
   "id": "578a2be0",
   "metadata": {},
   "outputs": [],
   "source": []
  },
  {
   "cell_type": "code",
   "execution_count": 155,
   "id": "6cb14d7f",
   "metadata": {},
   "outputs": [],
   "source": [
    "final=pd.concat((atm_temp,water_temp,salinity,chlorofyl),axis=1)"
   ]
  },
  {
   "cell_type": "code",
   "execution_count": 157,
   "id": "7f9a937e",
   "metadata": {},
   "outputs": [],
   "source": [
    "final=final.drop(columns={'index'})"
   ]
  },
  {
   "cell_type": "code",
   "execution_count": 159,
   "id": "028cdcf6",
   "metadata": {},
   "outputs": [],
   "source": [
    "final=final.iloc[-14:]"
   ]
  },
  {
   "cell_type": "code",
   "execution_count": 160,
   "id": "3a4ac9c9",
   "metadata": {},
   "outputs": [
    {
     "data": {
      "text/html": [
       "<div>\n",
       "<style scoped>\n",
       "    .dataframe tbody tr th:only-of-type {\n",
       "        vertical-align: middle;\n",
       "    }\n",
       "\n",
       "    .dataframe tbody tr th {\n",
       "        vertical-align: top;\n",
       "    }\n",
       "\n",
       "    .dataframe thead th {\n",
       "        text-align: right;\n",
       "    }\n",
       "</style>\n",
       "<table border=\"1\" class=\"dataframe\">\n",
       "  <thead>\n",
       "    <tr style=\"text-align: right;\">\n",
       "      <th></th>\n",
       "      <th>Atm.Temperature</th>\n",
       "      <th>Mean Watertemperature per Hour</th>\n",
       "      <th>Mean Salinity per Hour</th>\n",
       "      <th>Mean Chlorofyl per Hour</th>\n",
       "    </tr>\n",
       "  </thead>\n",
       "  <tbody>\n",
       "    <tr>\n",
       "      <th>15</th>\n",
       "      <td>1.123779</td>\n",
       "      <td>10.033001</td>\n",
       "      <td>0.502815</td>\n",
       "      <td>11.150275</td>\n",
       "    </tr>\n",
       "    <tr>\n",
       "      <th>16</th>\n",
       "      <td>1.635482</td>\n",
       "      <td>10.028564</td>\n",
       "      <td>0.503048</td>\n",
       "      <td>10.831940</td>\n",
       "    </tr>\n",
       "    <tr>\n",
       "      <th>17</th>\n",
       "      <td>2.138935</td>\n",
       "      <td>10.036883</td>\n",
       "      <td>0.505099</td>\n",
       "      <td>10.777822</td>\n",
       "    </tr>\n",
       "    <tr>\n",
       "      <th>18</th>\n",
       "      <td>2.702619</td>\n",
       "      <td>10.044598</td>\n",
       "      <td>0.505340</td>\n",
       "      <td>10.390002</td>\n",
       "    </tr>\n",
       "    <tr>\n",
       "      <th>19</th>\n",
       "      <td>3.545437</td>\n",
       "      <td>10.048436</td>\n",
       "      <td>0.506910</td>\n",
       "      <td>10.141741</td>\n",
       "    </tr>\n",
       "    <tr>\n",
       "      <th>20</th>\n",
       "      <td>4.232475</td>\n",
       "      <td>10.047326</td>\n",
       "      <td>0.504868</td>\n",
       "      <td>9.852780</td>\n",
       "    </tr>\n",
       "    <tr>\n",
       "      <th>21</th>\n",
       "      <td>4.705771</td>\n",
       "      <td>10.048590</td>\n",
       "      <td>0.505936</td>\n",
       "      <td>9.729282</td>\n",
       "    </tr>\n",
       "    <tr>\n",
       "      <th>22</th>\n",
       "      <td>5.024044</td>\n",
       "      <td>10.036609</td>\n",
       "      <td>0.504162</td>\n",
       "      <td>9.704208</td>\n",
       "    </tr>\n",
       "    <tr>\n",
       "      <th>23</th>\n",
       "      <td>4.953002</td>\n",
       "      <td>10.017195</td>\n",
       "      <td>0.505593</td>\n",
       "      <td>9.606123</td>\n",
       "    </tr>\n",
       "    <tr>\n",
       "      <th>24</th>\n",
       "      <td>4.698179</td>\n",
       "      <td>10.010398</td>\n",
       "      <td>0.506449</td>\n",
       "      <td>9.667429</td>\n",
       "    </tr>\n",
       "    <tr>\n",
       "      <th>25</th>\n",
       "      <td>4.560241</td>\n",
       "      <td>9.998824</td>\n",
       "      <td>0.505753</td>\n",
       "      <td>9.677311</td>\n",
       "    </tr>\n",
       "    <tr>\n",
       "      <th>26</th>\n",
       "      <td>4.282622</td>\n",
       "      <td>9.993645</td>\n",
       "      <td>0.504910</td>\n",
       "      <td>9.962768</td>\n",
       "    </tr>\n",
       "    <tr>\n",
       "      <th>27</th>\n",
       "      <td>3.840334</td>\n",
       "      <td>9.999818</td>\n",
       "      <td>0.503801</td>\n",
       "      <td>10.309100</td>\n",
       "    </tr>\n",
       "    <tr>\n",
       "      <th>28</th>\n",
       "      <td>3.250701</td>\n",
       "      <td>10.001286</td>\n",
       "      <td>0.504238</td>\n",
       "      <td>10.277063</td>\n",
       "    </tr>\n",
       "  </tbody>\n",
       "</table>\n",
       "</div>"
      ],
      "text/plain": [
       "    Atm.Temperature  Mean Watertemperature per Hour  Mean Salinity per Hour  \\\n",
       "15         1.123779                       10.033001                0.502815   \n",
       "16         1.635482                       10.028564                0.503048   \n",
       "17         2.138935                       10.036883                0.505099   \n",
       "18         2.702619                       10.044598                0.505340   \n",
       "19         3.545437                       10.048436                0.506910   \n",
       "20         4.232475                       10.047326                0.504868   \n",
       "21         4.705771                       10.048590                0.505936   \n",
       "22         5.024044                       10.036609                0.504162   \n",
       "23         4.953002                       10.017195                0.505593   \n",
       "24         4.698179                       10.010398                0.506449   \n",
       "25         4.560241                        9.998824                0.505753   \n",
       "26         4.282622                        9.993645                0.504910   \n",
       "27         3.840334                        9.999818                0.503801   \n",
       "28         3.250701                       10.001286                0.504238   \n",
       "\n",
       "    Mean Chlorofyl per Hour  \n",
       "15                11.150275  \n",
       "16                10.831940  \n",
       "17                10.777822  \n",
       "18                10.390002  \n",
       "19                10.141741  \n",
       "20                 9.852780  \n",
       "21                 9.729282  \n",
       "22                 9.704208  \n",
       "23                 9.606123  \n",
       "24                 9.667429  \n",
       "25                 9.677311  \n",
       "26                 9.962768  \n",
       "27                10.309100  \n",
       "28                10.277063  "
      ]
     },
     "execution_count": 160,
     "metadata": {},
     "output_type": "execute_result"
    }
   ],
   "source": [
    "final"
   ]
  },
  {
   "cell_type": "code",
   "execution_count": 179,
   "id": "dfb9c87a",
   "metadata": {},
   "outputs": [],
   "source": [
    "n_past =14\n",
    "n_days_for_testing_prediction=28  #predict the next hour\n",
    "predict_period_dates = pd.date_range(list(test_dates)[-n_past], periods=n_days_for_testing_prediction,freq='h').tolist()\n",
    "predict_period_dates=predict_period_dates[-14:]"
   ]
  },
  {
   "cell_type": "code",
   "execution_count": 181,
   "id": "2ec05dd9",
   "metadata": {},
   "outputs": [],
   "source": [
    "forecast_dates = []\n",
    "for time_i in predict_period_dates:\n",
    "    forecast_dates.append(time_i)"
   ]
  },
  {
   "cell_type": "code",
   "execution_count": 183,
   "id": "24dd05f1",
   "metadata": {},
   "outputs": [],
   "source": [
    "forecast_dates = pd.DataFrame({'Date':np.array(forecast_dates)})"
   ]
  },
  {
   "cell_type": "code",
   "execution_count": 186,
   "id": "12ea7857",
   "metadata": {},
   "outputs": [],
   "source": [
    "final=final.reset_index(drop=True)"
   ]
  },
  {
   "cell_type": "code",
   "execution_count": 187,
   "id": "0715924d",
   "metadata": {},
   "outputs": [
    {
     "data": {
      "text/html": [
       "<div>\n",
       "<style scoped>\n",
       "    .dataframe tbody tr th:only-of-type {\n",
       "        vertical-align: middle;\n",
       "    }\n",
       "\n",
       "    .dataframe tbody tr th {\n",
       "        vertical-align: top;\n",
       "    }\n",
       "\n",
       "    .dataframe thead th {\n",
       "        text-align: right;\n",
       "    }\n",
       "</style>\n",
       "<table border=\"1\" class=\"dataframe\">\n",
       "  <thead>\n",
       "    <tr style=\"text-align: right;\">\n",
       "      <th></th>\n",
       "      <th>Atm.Temperature</th>\n",
       "      <th>Mean Watertemperature per Hour</th>\n",
       "      <th>Mean Salinity per Hour</th>\n",
       "      <th>Mean Chlorofyl per Hour</th>\n",
       "    </tr>\n",
       "  </thead>\n",
       "  <tbody>\n",
       "    <tr>\n",
       "      <th>0</th>\n",
       "      <td>1.123779</td>\n",
       "      <td>10.033001</td>\n",
       "      <td>0.502815</td>\n",
       "      <td>11.150275</td>\n",
       "    </tr>\n",
       "    <tr>\n",
       "      <th>1</th>\n",
       "      <td>1.635482</td>\n",
       "      <td>10.028564</td>\n",
       "      <td>0.503048</td>\n",
       "      <td>10.831940</td>\n",
       "    </tr>\n",
       "    <tr>\n",
       "      <th>2</th>\n",
       "      <td>2.138935</td>\n",
       "      <td>10.036883</td>\n",
       "      <td>0.505099</td>\n",
       "      <td>10.777822</td>\n",
       "    </tr>\n",
       "    <tr>\n",
       "      <th>3</th>\n",
       "      <td>2.702619</td>\n",
       "      <td>10.044598</td>\n",
       "      <td>0.505340</td>\n",
       "      <td>10.390002</td>\n",
       "    </tr>\n",
       "    <tr>\n",
       "      <th>4</th>\n",
       "      <td>3.545437</td>\n",
       "      <td>10.048436</td>\n",
       "      <td>0.506910</td>\n",
       "      <td>10.141741</td>\n",
       "    </tr>\n",
       "    <tr>\n",
       "      <th>5</th>\n",
       "      <td>4.232475</td>\n",
       "      <td>10.047326</td>\n",
       "      <td>0.504868</td>\n",
       "      <td>9.852780</td>\n",
       "    </tr>\n",
       "    <tr>\n",
       "      <th>6</th>\n",
       "      <td>4.705771</td>\n",
       "      <td>10.048590</td>\n",
       "      <td>0.505936</td>\n",
       "      <td>9.729282</td>\n",
       "    </tr>\n",
       "    <tr>\n",
       "      <th>7</th>\n",
       "      <td>5.024044</td>\n",
       "      <td>10.036609</td>\n",
       "      <td>0.504162</td>\n",
       "      <td>9.704208</td>\n",
       "    </tr>\n",
       "    <tr>\n",
       "      <th>8</th>\n",
       "      <td>4.953002</td>\n",
       "      <td>10.017195</td>\n",
       "      <td>0.505593</td>\n",
       "      <td>9.606123</td>\n",
       "    </tr>\n",
       "    <tr>\n",
       "      <th>9</th>\n",
       "      <td>4.698179</td>\n",
       "      <td>10.010398</td>\n",
       "      <td>0.506449</td>\n",
       "      <td>9.667429</td>\n",
       "    </tr>\n",
       "    <tr>\n",
       "      <th>10</th>\n",
       "      <td>4.560241</td>\n",
       "      <td>9.998824</td>\n",
       "      <td>0.505753</td>\n",
       "      <td>9.677311</td>\n",
       "    </tr>\n",
       "    <tr>\n",
       "      <th>11</th>\n",
       "      <td>4.282622</td>\n",
       "      <td>9.993645</td>\n",
       "      <td>0.504910</td>\n",
       "      <td>9.962768</td>\n",
       "    </tr>\n",
       "    <tr>\n",
       "      <th>12</th>\n",
       "      <td>3.840334</td>\n",
       "      <td>9.999818</td>\n",
       "      <td>0.503801</td>\n",
       "      <td>10.309100</td>\n",
       "    </tr>\n",
       "    <tr>\n",
       "      <th>13</th>\n",
       "      <td>3.250701</td>\n",
       "      <td>10.001286</td>\n",
       "      <td>0.504238</td>\n",
       "      <td>10.277063</td>\n",
       "    </tr>\n",
       "  </tbody>\n",
       "</table>\n",
       "</div>"
      ],
      "text/plain": [
       "    Atm.Temperature  Mean Watertemperature per Hour  Mean Salinity per Hour  \\\n",
       "0          1.123779                       10.033001                0.502815   \n",
       "1          1.635482                       10.028564                0.503048   \n",
       "2          2.138935                       10.036883                0.505099   \n",
       "3          2.702619                       10.044598                0.505340   \n",
       "4          3.545437                       10.048436                0.506910   \n",
       "5          4.232475                       10.047326                0.504868   \n",
       "6          4.705771                       10.048590                0.505936   \n",
       "7          5.024044                       10.036609                0.504162   \n",
       "8          4.953002                       10.017195                0.505593   \n",
       "9          4.698179                       10.010398                0.506449   \n",
       "10         4.560241                        9.998824                0.505753   \n",
       "11         4.282622                        9.993645                0.504910   \n",
       "12         3.840334                        9.999818                0.503801   \n",
       "13         3.250701                       10.001286                0.504238   \n",
       "\n",
       "    Mean Chlorofyl per Hour  \n",
       "0                 11.150275  \n",
       "1                 10.831940  \n",
       "2                 10.777822  \n",
       "3                 10.390002  \n",
       "4                 10.141741  \n",
       "5                  9.852780  \n",
       "6                  9.729282  \n",
       "7                  9.704208  \n",
       "8                  9.606123  \n",
       "9                  9.667429  \n",
       "10                 9.677311  \n",
       "11                 9.962768  \n",
       "12                10.309100  \n",
       "13                10.277063  "
      ]
     },
     "execution_count": 187,
     "metadata": {},
     "output_type": "execute_result"
    }
   ],
   "source": [
    "final"
   ]
  },
  {
   "cell_type": "code",
   "execution_count": 188,
   "id": "2e9f9da6",
   "metadata": {},
   "outputs": [],
   "source": [
    "final=pd.concat((final,forecast_dates),axis=1)"
   ]
  },
  {
   "cell_type": "code",
   "execution_count": 189,
   "id": "70ceed96",
   "metadata": {},
   "outputs": [
    {
     "data": {
      "text/html": [
       "<div>\n",
       "<style scoped>\n",
       "    .dataframe tbody tr th:only-of-type {\n",
       "        vertical-align: middle;\n",
       "    }\n",
       "\n",
       "    .dataframe tbody tr th {\n",
       "        vertical-align: top;\n",
       "    }\n",
       "\n",
       "    .dataframe thead th {\n",
       "        text-align: right;\n",
       "    }\n",
       "</style>\n",
       "<table border=\"1\" class=\"dataframe\">\n",
       "  <thead>\n",
       "    <tr style=\"text-align: right;\">\n",
       "      <th></th>\n",
       "      <th>Atm.Temperature</th>\n",
       "      <th>Mean Watertemperature per Hour</th>\n",
       "      <th>Mean Salinity per Hour</th>\n",
       "      <th>Mean Chlorofyl per Hour</th>\n",
       "      <th>Date</th>\n",
       "    </tr>\n",
       "  </thead>\n",
       "  <tbody>\n",
       "    <tr>\n",
       "      <th>0</th>\n",
       "      <td>1.123779</td>\n",
       "      <td>10.033001</td>\n",
       "      <td>0.502815</td>\n",
       "      <td>11.150275</td>\n",
       "      <td>2022-04-03 01:00:00</td>\n",
       "    </tr>\n",
       "    <tr>\n",
       "      <th>1</th>\n",
       "      <td>1.635482</td>\n",
       "      <td>10.028564</td>\n",
       "      <td>0.503048</td>\n",
       "      <td>10.831940</td>\n",
       "      <td>2022-04-03 02:00:00</td>\n",
       "    </tr>\n",
       "    <tr>\n",
       "      <th>2</th>\n",
       "      <td>2.138935</td>\n",
       "      <td>10.036883</td>\n",
       "      <td>0.505099</td>\n",
       "      <td>10.777822</td>\n",
       "      <td>2022-04-03 03:00:00</td>\n",
       "    </tr>\n",
       "    <tr>\n",
       "      <th>3</th>\n",
       "      <td>2.702619</td>\n",
       "      <td>10.044598</td>\n",
       "      <td>0.505340</td>\n",
       "      <td>10.390002</td>\n",
       "      <td>2022-04-03 04:00:00</td>\n",
       "    </tr>\n",
       "    <tr>\n",
       "      <th>4</th>\n",
       "      <td>3.545437</td>\n",
       "      <td>10.048436</td>\n",
       "      <td>0.506910</td>\n",
       "      <td>10.141741</td>\n",
       "      <td>2022-04-03 05:00:00</td>\n",
       "    </tr>\n",
       "    <tr>\n",
       "      <th>5</th>\n",
       "      <td>4.232475</td>\n",
       "      <td>10.047326</td>\n",
       "      <td>0.504868</td>\n",
       "      <td>9.852780</td>\n",
       "      <td>2022-04-03 06:00:00</td>\n",
       "    </tr>\n",
       "    <tr>\n",
       "      <th>6</th>\n",
       "      <td>4.705771</td>\n",
       "      <td>10.048590</td>\n",
       "      <td>0.505936</td>\n",
       "      <td>9.729282</td>\n",
       "      <td>2022-04-03 07:00:00</td>\n",
       "    </tr>\n",
       "    <tr>\n",
       "      <th>7</th>\n",
       "      <td>5.024044</td>\n",
       "      <td>10.036609</td>\n",
       "      <td>0.504162</td>\n",
       "      <td>9.704208</td>\n",
       "      <td>2022-04-03 08:00:00</td>\n",
       "    </tr>\n",
       "    <tr>\n",
       "      <th>8</th>\n",
       "      <td>4.953002</td>\n",
       "      <td>10.017195</td>\n",
       "      <td>0.505593</td>\n",
       "      <td>9.606123</td>\n",
       "      <td>2022-04-03 09:00:00</td>\n",
       "    </tr>\n",
       "    <tr>\n",
       "      <th>9</th>\n",
       "      <td>4.698179</td>\n",
       "      <td>10.010398</td>\n",
       "      <td>0.506449</td>\n",
       "      <td>9.667429</td>\n",
       "      <td>2022-04-03 10:00:00</td>\n",
       "    </tr>\n",
       "    <tr>\n",
       "      <th>10</th>\n",
       "      <td>4.560241</td>\n",
       "      <td>9.998824</td>\n",
       "      <td>0.505753</td>\n",
       "      <td>9.677311</td>\n",
       "      <td>2022-04-03 11:00:00</td>\n",
       "    </tr>\n",
       "    <tr>\n",
       "      <th>11</th>\n",
       "      <td>4.282622</td>\n",
       "      <td>9.993645</td>\n",
       "      <td>0.504910</td>\n",
       "      <td>9.962768</td>\n",
       "      <td>2022-04-03 12:00:00</td>\n",
       "    </tr>\n",
       "    <tr>\n",
       "      <th>12</th>\n",
       "      <td>3.840334</td>\n",
       "      <td>9.999818</td>\n",
       "      <td>0.503801</td>\n",
       "      <td>10.309100</td>\n",
       "      <td>2022-04-03 13:00:00</td>\n",
       "    </tr>\n",
       "    <tr>\n",
       "      <th>13</th>\n",
       "      <td>3.250701</td>\n",
       "      <td>10.001286</td>\n",
       "      <td>0.504238</td>\n",
       "      <td>10.277063</td>\n",
       "      <td>2022-04-03 14:00:00</td>\n",
       "    </tr>\n",
       "  </tbody>\n",
       "</table>\n",
       "</div>"
      ],
      "text/plain": [
       "    Atm.Temperature  Mean Watertemperature per Hour  Mean Salinity per Hour  \\\n",
       "0          1.123779                       10.033001                0.502815   \n",
       "1          1.635482                       10.028564                0.503048   \n",
       "2          2.138935                       10.036883                0.505099   \n",
       "3          2.702619                       10.044598                0.505340   \n",
       "4          3.545437                       10.048436                0.506910   \n",
       "5          4.232475                       10.047326                0.504868   \n",
       "6          4.705771                       10.048590                0.505936   \n",
       "7          5.024044                       10.036609                0.504162   \n",
       "8          4.953002                       10.017195                0.505593   \n",
       "9          4.698179                       10.010398                0.506449   \n",
       "10         4.560241                        9.998824                0.505753   \n",
       "11         4.282622                        9.993645                0.504910   \n",
       "12         3.840334                        9.999818                0.503801   \n",
       "13         3.250701                       10.001286                0.504238   \n",
       "\n",
       "    Mean Chlorofyl per Hour                Date  \n",
       "0                 11.150275 2022-04-03 01:00:00  \n",
       "1                 10.831940 2022-04-03 02:00:00  \n",
       "2                 10.777822 2022-04-03 03:00:00  \n",
       "3                 10.390002 2022-04-03 04:00:00  \n",
       "4                 10.141741 2022-04-03 05:00:00  \n",
       "5                  9.852780 2022-04-03 06:00:00  \n",
       "6                  9.729282 2022-04-03 07:00:00  \n",
       "7                  9.704208 2022-04-03 08:00:00  \n",
       "8                  9.606123 2022-04-03 09:00:00  \n",
       "9                  9.667429 2022-04-03 10:00:00  \n",
       "10                 9.677311 2022-04-03 11:00:00  \n",
       "11                 9.962768 2022-04-03 12:00:00  \n",
       "12                10.309100 2022-04-03 13:00:00  \n",
       "13                10.277063 2022-04-03 14:00:00  "
      ]
     },
     "execution_count": 189,
     "metadata": {},
     "output_type": "execute_result"
    }
   ],
   "source": [
    "final"
   ]
  },
  {
   "cell_type": "code",
   "execution_count": 190,
   "id": "3b15300b",
   "metadata": {},
   "outputs": [],
   "source": [
    "final.to_excel(r'forecasted_by_mlps.xlsx',header=True, index=False)"
   ]
  },
  {
   "cell_type": "code",
   "execution_count": null,
   "id": "60965999",
   "metadata": {},
   "outputs": [],
   "source": []
  }
 ],
 "metadata": {
  "kernelspec": {
   "display_name": "Python 3",
   "language": "python",
   "name": "python3"
  },
  "language_info": {
   "codemirror_mode": {
    "name": "ipython",
    "version": 3
   },
   "file_extension": ".py",
   "mimetype": "text/x-python",
   "name": "python",
   "nbconvert_exporter": "python",
   "pygments_lexer": "ipython3",
   "version": "3.8.10"
  }
 },
 "nbformat": 4,
 "nbformat_minor": 5
}
