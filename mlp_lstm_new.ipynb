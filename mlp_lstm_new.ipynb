{
 "cells": [
  {
   "cell_type": "code",
   "execution_count": 1,
   "id": "7e352314",
   "metadata": {},
   "outputs": [],
   "source": [
    "import pandas as pd\n",
    "import numpy as np\n",
    "#from sklearn.preprocessing import LabelEncoder\n",
    "import tensorflow as tf\n",
    "from keras.utils import np_utils\n",
    "from keras.models import Sequential\n",
    "import matplotlib.pyplot as plt\n",
    "from sklearn.metrics import mean_squared_error, r2_score\n",
    "from sklearn.preprocessing import MinMaxScaler\n",
    "#import seaborn as sns\n",
    "import openpyxl\n",
    "from tensorflow.keras.layers import *\n",
    "#from tensorflow.keras.callbacks import ModelCheckpoint\n",
    "from tensorflow.keras.losses import MeanSquaredError\n",
    "from tensorflow.keras.metrics import RootMeanSquaredError\n",
    "from tensorflow.keras.optimizers import Adam\n",
    "from sklearn.preprocessing import StandardScaler\n",
    "from keras.layers import Dropout\n",
    "#import matplotlib"
   ]
  },
  {
   "cell_type": "markdown",
   "id": "0c3f0cd4",
   "metadata": {},
   "source": [
    "# Approach #1: Using a MLP for the Prediction of EC, after we convert the dataset to Supervised. "
   ]
  },
  {
   "cell_type": "markdown",
   "id": "fdd1b515",
   "metadata": {},
   "source": [
    "## Read the dataset "
   ]
  },
  {
   "cell_type": "code",
   "execution_count": 2,
   "id": "efb73c70",
   "metadata": {},
   "outputs": [],
   "source": [
    "data=pd.read_excel('hourly_data.xlsx',header=0)"
   ]
  },
  {
   "cell_type": "code",
   "execution_count": 3,
   "id": "7b85bc1d",
   "metadata": {},
   "outputs": [],
   "source": [
    "data['Mean Conductivity per Hour']=data['Mean Conductivity per Hour'].round(decimals = 0)"
   ]
  },
  {
   "cell_type": "code",
   "execution_count": 4,
   "id": "de38089f",
   "metadata": {},
   "outputs": [],
   "source": [
    "#data=data.set_index('Date')"
   ]
  },
  {
   "cell_type": "code",
   "execution_count": 5,
   "id": "39f5a46f",
   "metadata": {},
   "outputs": [
    {
     "data": {
      "text/html": [
       "<div>\n",
       "<style scoped>\n",
       "    .dataframe tbody tr th:only-of-type {\n",
       "        vertical-align: middle;\n",
       "    }\n",
       "\n",
       "    .dataframe tbody tr th {\n",
       "        vertical-align: top;\n",
       "    }\n",
       "\n",
       "    .dataframe thead th {\n",
       "        text-align: right;\n",
       "    }\n",
       "</style>\n",
       "<table border=\"1\" class=\"dataframe\">\n",
       "  <thead>\n",
       "    <tr style=\"text-align: right;\">\n",
       "      <th></th>\n",
       "      <th>Date</th>\n",
       "      <th>Atm.Temperature</th>\n",
       "      <th>Mean Watertemperature per Hour</th>\n",
       "      <th>Mean Salinity per Hour</th>\n",
       "      <th>Mean Conductivity per Hour</th>\n",
       "      <th>Mean Chlorofyl per Hour</th>\n",
       "    </tr>\n",
       "  </thead>\n",
       "  <tbody>\n",
       "    <tr>\n",
       "      <th>0</th>\n",
       "      <td>2021-04-06 11:00:00</td>\n",
       "      <td>4.9</td>\n",
       "      <td>9.900000</td>\n",
       "      <td>0.473333</td>\n",
       "      <td>680.0</td>\n",
       "      <td>4.466667</td>\n",
       "    </tr>\n",
       "    <tr>\n",
       "      <th>1</th>\n",
       "      <td>2021-04-06 12:00:00</td>\n",
       "      <td>5.5</td>\n",
       "      <td>9.900000</td>\n",
       "      <td>0.470000</td>\n",
       "      <td>677.0</td>\n",
       "      <td>5.000000</td>\n",
       "    </tr>\n",
       "    <tr>\n",
       "      <th>2</th>\n",
       "      <td>2021-04-06 13:00:00</td>\n",
       "      <td>4.5</td>\n",
       "      <td>9.916667</td>\n",
       "      <td>0.475000</td>\n",
       "      <td>682.0</td>\n",
       "      <td>6.066667</td>\n",
       "    </tr>\n",
       "    <tr>\n",
       "      <th>3</th>\n",
       "      <td>2021-04-06 14:00:00</td>\n",
       "      <td>1.8</td>\n",
       "      <td>9.891667</td>\n",
       "      <td>0.475000</td>\n",
       "      <td>682.0</td>\n",
       "      <td>7.108333</td>\n",
       "    </tr>\n",
       "    <tr>\n",
       "      <th>4</th>\n",
       "      <td>2021-04-06 15:00:00</td>\n",
       "      <td>2.2</td>\n",
       "      <td>9.800000</td>\n",
       "      <td>0.477500</td>\n",
       "      <td>683.0</td>\n",
       "      <td>7.375000</td>\n",
       "    </tr>\n",
       "    <tr>\n",
       "      <th>...</th>\n",
       "      <td>...</td>\n",
       "      <td>...</td>\n",
       "      <td>...</td>\n",
       "      <td>...</td>\n",
       "      <td>...</td>\n",
       "      <td>...</td>\n",
       "    </tr>\n",
       "    <tr>\n",
       "      <th>8660</th>\n",
       "      <td>2022-04-02 20:00:00</td>\n",
       "      <td>1.4</td>\n",
       "      <td>10.200000</td>\n",
       "      <td>0.500000</td>\n",
       "      <td>723.0</td>\n",
       "      <td>10.233333</td>\n",
       "    </tr>\n",
       "    <tr>\n",
       "      <th>8661</th>\n",
       "      <td>2022-04-02 21:00:00</td>\n",
       "      <td>1.2</td>\n",
       "      <td>10.125000</td>\n",
       "      <td>0.498333</td>\n",
       "      <td>717.0</td>\n",
       "      <td>9.558333</td>\n",
       "    </tr>\n",
       "    <tr>\n",
       "      <th>8662</th>\n",
       "      <td>2022-04-02 22:00:00</td>\n",
       "      <td>0.9</td>\n",
       "      <td>10.100000</td>\n",
       "      <td>0.505833</td>\n",
       "      <td>727.0</td>\n",
       "      <td>9.908333</td>\n",
       "    </tr>\n",
       "    <tr>\n",
       "      <th>8663</th>\n",
       "      <td>2022-04-02 23:00:00</td>\n",
       "      <td>-0.2</td>\n",
       "      <td>10.075000</td>\n",
       "      <td>0.510000</td>\n",
       "      <td>735.0</td>\n",
       "      <td>9.791667</td>\n",
       "    </tr>\n",
       "    <tr>\n",
       "      <th>8664</th>\n",
       "      <td>2022-04-03 00:00:00</td>\n",
       "      <td>-0.4</td>\n",
       "      <td>9.975000</td>\n",
       "      <td>0.518333</td>\n",
       "      <td>741.0</td>\n",
       "      <td>9.483333</td>\n",
       "    </tr>\n",
       "  </tbody>\n",
       "</table>\n",
       "<p>8665 rows × 6 columns</p>\n",
       "</div>"
      ],
      "text/plain": [
       "                    Date  Atm.Temperature  Mean Watertemperature per Hour  \\\n",
       "0    2021-04-06 11:00:00              4.9                        9.900000   \n",
       "1    2021-04-06 12:00:00              5.5                        9.900000   \n",
       "2    2021-04-06 13:00:00              4.5                        9.916667   \n",
       "3    2021-04-06 14:00:00              1.8                        9.891667   \n",
       "4    2021-04-06 15:00:00              2.2                        9.800000   \n",
       "...                  ...              ...                             ...   \n",
       "8660 2022-04-02 20:00:00              1.4                       10.200000   \n",
       "8661 2022-04-02 21:00:00              1.2                       10.125000   \n",
       "8662 2022-04-02 22:00:00              0.9                       10.100000   \n",
       "8663 2022-04-02 23:00:00             -0.2                       10.075000   \n",
       "8664 2022-04-03 00:00:00             -0.4                        9.975000   \n",
       "\n",
       "      Mean Salinity per Hour  Mean Conductivity per Hour  \\\n",
       "0                   0.473333                       680.0   \n",
       "1                   0.470000                       677.0   \n",
       "2                   0.475000                       682.0   \n",
       "3                   0.475000                       682.0   \n",
       "4                   0.477500                       683.0   \n",
       "...                      ...                         ...   \n",
       "8660                0.500000                       723.0   \n",
       "8661                0.498333                       717.0   \n",
       "8662                0.505833                       727.0   \n",
       "8663                0.510000                       735.0   \n",
       "8664                0.518333                       741.0   \n",
       "\n",
       "      Mean Chlorofyl per Hour  \n",
       "0                    4.466667  \n",
       "1                    5.000000  \n",
       "2                    6.066667  \n",
       "3                    7.108333  \n",
       "4                    7.375000  \n",
       "...                       ...  \n",
       "8660                10.233333  \n",
       "8661                 9.558333  \n",
       "8662                 9.908333  \n",
       "8663                 9.791667  \n",
       "8664                 9.483333  \n",
       "\n",
       "[8665 rows x 6 columns]"
      ]
     },
     "execution_count": 5,
     "metadata": {},
     "output_type": "execute_result"
    }
   ],
   "source": [
    "data"
   ]
  },
  {
   "cell_type": "markdown",
   "id": "ce8a0b0e",
   "metadata": {},
   "source": [
    "## Isolate Mean Conductivity per Hour which is the mean EC value recorded for each hour. "
   ]
  },
  {
   "cell_type": "code",
   "execution_count": 6,
   "id": "ca2a07d3",
   "metadata": {},
   "outputs": [],
   "source": [
    "only_mean_conductivity=data['Mean Conductivity per Hour'].to_frame(name='Mean Conductivity per Hour')"
   ]
  },
  {
   "cell_type": "markdown",
   "id": "4078b5fc",
   "metadata": {},
   "source": [
    "## Standarization using MinMax Scaler "
   ]
  },
  {
   "cell_type": "code",
   "execution_count": 7,
   "id": "967d8476",
   "metadata": {},
   "outputs": [],
   "source": [
    "df= only_mean_conductivity.copy()\n",
    "min_max_scaler = MinMaxScaler(feature_range=(0, 1))\n",
    "df_scaled  = min_max_scaler.fit_transform(np.reshape(df['Mean Conductivity per Hour'].values, (df.shape[0], 1)))\n",
    "df_scaled  = pd.DataFrame(data=df_scaled , columns=['Mean Conductivity per Hour'])"
   ]
  },
  {
   "cell_type": "code",
   "execution_count": 8,
   "id": "62fe2a99",
   "metadata": {},
   "outputs": [
    {
     "data": {
      "text/html": [
       "<div>\n",
       "<style scoped>\n",
       "    .dataframe tbody tr th:only-of-type {\n",
       "        vertical-align: middle;\n",
       "    }\n",
       "\n",
       "    .dataframe tbody tr th {\n",
       "        vertical-align: top;\n",
       "    }\n",
       "\n",
       "    .dataframe thead th {\n",
       "        text-align: right;\n",
       "    }\n",
       "</style>\n",
       "<table border=\"1\" class=\"dataframe\">\n",
       "  <thead>\n",
       "    <tr style=\"text-align: right;\">\n",
       "      <th></th>\n",
       "      <th>Mean Conductivity per Hour</th>\n",
       "    </tr>\n",
       "  </thead>\n",
       "  <tbody>\n",
       "    <tr>\n",
       "      <th>8660</th>\n",
       "      <td>0.629752</td>\n",
       "    </tr>\n",
       "    <tr>\n",
       "      <th>8661</th>\n",
       "      <td>0.619835</td>\n",
       "    </tr>\n",
       "    <tr>\n",
       "      <th>8662</th>\n",
       "      <td>0.636364</td>\n",
       "    </tr>\n",
       "    <tr>\n",
       "      <th>8663</th>\n",
       "      <td>0.649587</td>\n",
       "    </tr>\n",
       "    <tr>\n",
       "      <th>8664</th>\n",
       "      <td>0.659504</td>\n",
       "    </tr>\n",
       "  </tbody>\n",
       "</table>\n",
       "</div>"
      ],
      "text/plain": [
       "      Mean Conductivity per Hour\n",
       "8660                    0.629752\n",
       "8661                    0.619835\n",
       "8662                    0.636364\n",
       "8663                    0.649587\n",
       "8664                    0.659504"
      ]
     },
     "execution_count": 8,
     "metadata": {},
     "output_type": "execute_result"
    }
   ],
   "source": [
    "df_scaled.tail()"
   ]
  },
  {
   "cell_type": "markdown",
   "id": "4da96808",
   "metadata": {},
   "source": [
    "## Convert Dataframe to Supervised in order to be fitted in the model. "
   ]
  },
  {
   "cell_type": "code",
   "execution_count": 9,
   "id": "2751d278",
   "metadata": {},
   "outputs": [],
   "source": [
    "def timeseries_to_supervised(df, n_in, n_out):\n",
    "   agg = pd.DataFrame()\n",
    "\n",
    "   for i in range(n_in, 0, -1):\n",
    "      df_shifted = df.shift(i).copy()\n",
    "      df_shifted.rename(columns=lambda x: ('%s(t-%d)' % (x, i)), inplace=True)\n",
    "      agg = pd.concat([agg, df_shifted], axis=1)\n",
    "\n",
    "   for i in range(0, n_out):\n",
    "      df_shifted = df.shift(-i).copy()\n",
    "      if i == 0:\n",
    "         df_shifted.rename(columns=lambda x: ('%s(t)' % (x)), inplace=True)\n",
    "      else:\n",
    "         df_shifted.rename(columns=lambda x: ('%s(t+%d)' % (x, i)), inplace=True)\n",
    "      agg = pd.concat([agg, df_shifted], axis=1)\n",
    "   agg.dropna(inplace=True)\n",
    "   return agg"
   ]
  },
  {
   "cell_type": "markdown",
   "id": "25dc4f28",
   "metadata": {},
   "source": [
    "## We are using an input step of 15. That means that our model will use the previous 15 values (hours )in order to predict the next one. "
   ]
  },
  {
   "cell_type": "code",
   "execution_count": 10,
   "id": "d57c332d",
   "metadata": {},
   "outputs": [],
   "source": [
    "n_in = 15 #Timeseries consists of 90 input steps.\n",
    "n_out = 1\n",
    "sdf = timeseries_to_supervised(df_scaled, n_in, n_out)"
   ]
  },
  {
   "cell_type": "code",
   "execution_count": 11,
   "id": "c00eab18",
   "metadata": {},
   "outputs": [
    {
     "data": {
      "text/html": [
       "<div>\n",
       "<style scoped>\n",
       "    .dataframe tbody tr th:only-of-type {\n",
       "        vertical-align: middle;\n",
       "    }\n",
       "\n",
       "    .dataframe tbody tr th {\n",
       "        vertical-align: top;\n",
       "    }\n",
       "\n",
       "    .dataframe thead th {\n",
       "        text-align: right;\n",
       "    }\n",
       "</style>\n",
       "<table border=\"1\" class=\"dataframe\">\n",
       "  <thead>\n",
       "    <tr style=\"text-align: right;\">\n",
       "      <th></th>\n",
       "      <th>Mean Conductivity per Hour(t-15)</th>\n",
       "      <th>Mean Conductivity per Hour(t-14)</th>\n",
       "      <th>Mean Conductivity per Hour(t-13)</th>\n",
       "      <th>Mean Conductivity per Hour(t-12)</th>\n",
       "      <th>Mean Conductivity per Hour(t-11)</th>\n",
       "      <th>Mean Conductivity per Hour(t-10)</th>\n",
       "      <th>Mean Conductivity per Hour(t-9)</th>\n",
       "      <th>Mean Conductivity per Hour(t-8)</th>\n",
       "      <th>Mean Conductivity per Hour(t-7)</th>\n",
       "      <th>Mean Conductivity per Hour(t-6)</th>\n",
       "      <th>Mean Conductivity per Hour(t-5)</th>\n",
       "      <th>Mean Conductivity per Hour(t-4)</th>\n",
       "      <th>Mean Conductivity per Hour(t-3)</th>\n",
       "      <th>Mean Conductivity per Hour(t-2)</th>\n",
       "      <th>Mean Conductivity per Hour(t-1)</th>\n",
       "      <th>Mean Conductivity per Hour(t)</th>\n",
       "    </tr>\n",
       "  </thead>\n",
       "  <tbody>\n",
       "    <tr>\n",
       "      <th>15</th>\n",
       "      <td>0.558678</td>\n",
       "      <td>0.553719</td>\n",
       "      <td>0.561983</td>\n",
       "      <td>0.561983</td>\n",
       "      <td>0.563636</td>\n",
       "      <td>0.543802</td>\n",
       "      <td>0.550413</td>\n",
       "      <td>0.550413</td>\n",
       "      <td>0.553719</td>\n",
       "      <td>0.553719</td>\n",
       "      <td>0.558678</td>\n",
       "      <td>0.563636</td>\n",
       "      <td>0.537190</td>\n",
       "      <td>0.523967</td>\n",
       "      <td>0.532231</td>\n",
       "      <td>0.510744</td>\n",
       "    </tr>\n",
       "    <tr>\n",
       "      <th>16</th>\n",
       "      <td>0.553719</td>\n",
       "      <td>0.561983</td>\n",
       "      <td>0.561983</td>\n",
       "      <td>0.563636</td>\n",
       "      <td>0.543802</td>\n",
       "      <td>0.550413</td>\n",
       "      <td>0.550413</td>\n",
       "      <td>0.553719</td>\n",
       "      <td>0.553719</td>\n",
       "      <td>0.558678</td>\n",
       "      <td>0.563636</td>\n",
       "      <td>0.537190</td>\n",
       "      <td>0.523967</td>\n",
       "      <td>0.532231</td>\n",
       "      <td>0.510744</td>\n",
       "      <td>0.502479</td>\n",
       "    </tr>\n",
       "    <tr>\n",
       "      <th>17</th>\n",
       "      <td>0.561983</td>\n",
       "      <td>0.561983</td>\n",
       "      <td>0.563636</td>\n",
       "      <td>0.543802</td>\n",
       "      <td>0.550413</td>\n",
       "      <td>0.550413</td>\n",
       "      <td>0.553719</td>\n",
       "      <td>0.553719</td>\n",
       "      <td>0.558678</td>\n",
       "      <td>0.563636</td>\n",
       "      <td>0.537190</td>\n",
       "      <td>0.523967</td>\n",
       "      <td>0.532231</td>\n",
       "      <td>0.510744</td>\n",
       "      <td>0.502479</td>\n",
       "      <td>0.520661</td>\n",
       "    </tr>\n",
       "    <tr>\n",
       "      <th>18</th>\n",
       "      <td>0.561983</td>\n",
       "      <td>0.563636</td>\n",
       "      <td>0.543802</td>\n",
       "      <td>0.550413</td>\n",
       "      <td>0.550413</td>\n",
       "      <td>0.553719</td>\n",
       "      <td>0.553719</td>\n",
       "      <td>0.558678</td>\n",
       "      <td>0.563636</td>\n",
       "      <td>0.537190</td>\n",
       "      <td>0.523967</td>\n",
       "      <td>0.532231</td>\n",
       "      <td>0.510744</td>\n",
       "      <td>0.502479</td>\n",
       "      <td>0.520661</td>\n",
       "      <td>0.510744</td>\n",
       "    </tr>\n",
       "    <tr>\n",
       "      <th>19</th>\n",
       "      <td>0.563636</td>\n",
       "      <td>0.543802</td>\n",
       "      <td>0.550413</td>\n",
       "      <td>0.550413</td>\n",
       "      <td>0.553719</td>\n",
       "      <td>0.553719</td>\n",
       "      <td>0.558678</td>\n",
       "      <td>0.563636</td>\n",
       "      <td>0.537190</td>\n",
       "      <td>0.523967</td>\n",
       "      <td>0.532231</td>\n",
       "      <td>0.510744</td>\n",
       "      <td>0.502479</td>\n",
       "      <td>0.520661</td>\n",
       "      <td>0.510744</td>\n",
       "      <td>0.497521</td>\n",
       "    </tr>\n",
       "  </tbody>\n",
       "</table>\n",
       "</div>"
      ],
      "text/plain": [
       "    Mean Conductivity per Hour(t-15)  Mean Conductivity per Hour(t-14)  \\\n",
       "15                          0.558678                          0.553719   \n",
       "16                          0.553719                          0.561983   \n",
       "17                          0.561983                          0.561983   \n",
       "18                          0.561983                          0.563636   \n",
       "19                          0.563636                          0.543802   \n",
       "\n",
       "    Mean Conductivity per Hour(t-13)  Mean Conductivity per Hour(t-12)  \\\n",
       "15                          0.561983                          0.561983   \n",
       "16                          0.561983                          0.563636   \n",
       "17                          0.563636                          0.543802   \n",
       "18                          0.543802                          0.550413   \n",
       "19                          0.550413                          0.550413   \n",
       "\n",
       "    Mean Conductivity per Hour(t-11)  Mean Conductivity per Hour(t-10)  \\\n",
       "15                          0.563636                          0.543802   \n",
       "16                          0.543802                          0.550413   \n",
       "17                          0.550413                          0.550413   \n",
       "18                          0.550413                          0.553719   \n",
       "19                          0.553719                          0.553719   \n",
       "\n",
       "    Mean Conductivity per Hour(t-9)  Mean Conductivity per Hour(t-8)  \\\n",
       "15                         0.550413                         0.550413   \n",
       "16                         0.550413                         0.553719   \n",
       "17                         0.553719                         0.553719   \n",
       "18                         0.553719                         0.558678   \n",
       "19                         0.558678                         0.563636   \n",
       "\n",
       "    Mean Conductivity per Hour(t-7)  Mean Conductivity per Hour(t-6)  \\\n",
       "15                         0.553719                         0.553719   \n",
       "16                         0.553719                         0.558678   \n",
       "17                         0.558678                         0.563636   \n",
       "18                         0.563636                         0.537190   \n",
       "19                         0.537190                         0.523967   \n",
       "\n",
       "    Mean Conductivity per Hour(t-5)  Mean Conductivity per Hour(t-4)  \\\n",
       "15                         0.558678                         0.563636   \n",
       "16                         0.563636                         0.537190   \n",
       "17                         0.537190                         0.523967   \n",
       "18                         0.523967                         0.532231   \n",
       "19                         0.532231                         0.510744   \n",
       "\n",
       "    Mean Conductivity per Hour(t-3)  Mean Conductivity per Hour(t-2)  \\\n",
       "15                         0.537190                         0.523967   \n",
       "16                         0.523967                         0.532231   \n",
       "17                         0.532231                         0.510744   \n",
       "18                         0.510744                         0.502479   \n",
       "19                         0.502479                         0.520661   \n",
       "\n",
       "    Mean Conductivity per Hour(t-1)  Mean Conductivity per Hour(t)  \n",
       "15                         0.532231                       0.510744  \n",
       "16                         0.510744                       0.502479  \n",
       "17                         0.502479                       0.520661  \n",
       "18                         0.520661                       0.510744  \n",
       "19                         0.510744                       0.497521  "
      ]
     },
     "execution_count": 11,
     "metadata": {},
     "output_type": "execute_result"
    }
   ],
   "source": [
    "sdf.head()"
   ]
  },
  {
   "cell_type": "code",
   "execution_count": 12,
   "id": "cfdda2ae",
   "metadata": {},
   "outputs": [],
   "source": [
    "X, y = sdf[[('Mean Conductivity per Hour(t-%d)' % i) for i in range(15, 0, -1)]].values, sdf['Mean Conductivity per Hour(t)'].values"
   ]
  },
  {
   "cell_type": "markdown",
   "id": "0b86e4ca",
   "metadata": {},
   "source": [
    "## Seperate Dataset for Training and Testing "
   ]
  },
  {
   "cell_type": "code",
   "execution_count": 13,
   "id": "047297ef",
   "metadata": {},
   "outputs": [
    {
     "name": "stdout",
     "output_type": "stream",
     "text": [
      "Data size: 8650\n",
      "Train  data size: 6055\n",
      "Test data size: 2595\n",
      "(6055, 15) (6055,)\n",
      "(2595, 15) (2595,)\n"
     ]
    }
   ],
   "source": [
    "len_data = X.shape[0]\n",
    "print(\"Data size: %d\" % len_data)\n",
    "train_size = int(len_data * .7)# 70% for training and 30% for testing\n",
    "print (\"Train  data size: %d\" % train_size)\n",
    "print (\"Test data size: %d\" % (len_data - train_size))\n",
    "\n",
    "xtr, ytr = X[:train_size, :], y[:train_size]\n",
    "xte, yte = X[train_size:, :], y[train_size:]\n",
    "test_dates=data[train_size:].iloc[15:].Date #Keep the dates of the test dataset for display purposes\n",
    "print(xtr.shape, ytr.shape)\n",
    "print(xte.shape, yte.shape)"
   ]
  },
  {
   "cell_type": "code",
   "execution_count": 14,
   "id": "ed23b6ff",
   "metadata": {},
   "outputs": [
    {
     "data": {
      "text/plain": [
       "(2595, 15)"
      ]
     },
     "execution_count": 14,
     "metadata": {},
     "output_type": "execute_result"
    }
   ],
   "source": [
    "xte.shape"
   ]
  },
  {
   "cell_type": "markdown",
   "id": "6f57cdbf",
   "metadata": {},
   "source": [
    "## Build the MLP Model "
   ]
  },
  {
   "cell_type": "code",
   "execution_count": 15,
   "id": "ebc4ab22",
   "metadata": {},
   "outputs": [
    {
     "name": "stdout",
     "output_type": "stream",
     "text": [
      "Model: \"sequential\"\n",
      "_________________________________________________________________\n",
      "Layer (type)                 Output Shape              Param #   \n",
      "=================================================================\n",
      "dense (Dense)                (None, 50)                800       \n",
      "_________________________________________________________________\n",
      "dense_1 (Dense)              (None, 50)                2550      \n",
      "_________________________________________________________________\n",
      "dropout (Dropout)            (None, 50)                0         \n",
      "_________________________________________________________________\n",
      "dense_2 (Dense)              (None, 1)                 51        \n",
      "=================================================================\n",
      "Total params: 3,401\n",
      "Trainable params: 3,401\n",
      "Non-trainable params: 0\n",
      "_________________________________________________________________\n"
     ]
    }
   ],
   "source": [
    "batch_size = 1 #1\n",
    "model = Sequential()\n",
    "\n",
    "model.add(Dense(units=50, input_dim=xtr.shape[1], activation=\"relu\"))#input dim is 4 as the timeseries steps.\n",
    "model.add(Dense(50, activation=\"relu\"))# linear activation functios was used as well\n",
    "model.add(Dropout(0.2))\n",
    "model.add(Dense(1))\n",
    "model.compile(loss='mean_squared_error', optimizer='adam')\n",
    "model.summary()"
   ]
  },
  {
   "cell_type": "markdown",
   "id": "07657694",
   "metadata": {},
   "source": [
    "## Time for training "
   ]
  },
  {
   "cell_type": "code",
   "execution_count": 16,
   "id": "292bc98d",
   "metadata": {},
   "outputs": [
    {
     "name": "stdout",
     "output_type": "stream",
     "text": [
      "Epoch 1/10\n",
      "6055/6055 - 2s - loss: 0.0058\n",
      "Epoch 2/10\n",
      "6055/6055 - 2s - loss: 0.0018\n",
      "Epoch 3/10\n",
      "6055/6055 - 2s - loss: 0.0013\n",
      "Epoch 4/10\n",
      "6055/6055 - 2s - loss: 0.0012\n",
      "Epoch 5/10\n",
      "6055/6055 - 2s - loss: 0.0012\n",
      "Epoch 6/10\n",
      "6055/6055 - 2s - loss: 0.0012\n",
      "Epoch 7/10\n",
      "6055/6055 - 2s - loss: 0.0012\n",
      "Epoch 8/10\n",
      "6055/6055 - 2s - loss: 0.0011\n",
      "Epoch 9/10\n",
      "6055/6055 - 2s - loss: 0.0011\n",
      "Epoch 10/10\n",
      "6055/6055 - 2s - loss: 0.0011\n"
     ]
    },
    {
     "data": {
      "text/plain": [
       "<tensorflow.python.keras.callbacks.History at 0x2751e6ea5b0>"
      ]
     },
     "execution_count": 16,
     "metadata": {},
     "output_type": "execute_result"
    }
   ],
   "source": [
    "model.fit(xtr,ytr, epochs=10, batch_size=batch_size, verbose=2)"
   ]
  },
  {
   "cell_type": "markdown",
   "id": "6c9da8b4",
   "metadata": {},
   "source": [
    "## Time for Testing "
   ]
  },
  {
   "cell_type": "code",
   "execution_count": 17,
   "id": "f8bdf7c9",
   "metadata": {},
   "outputs": [],
   "source": [
    "#trainPredict = model.predict(xtr, batch_size=batch_size)\n",
    "testPredict = model.predict(xte, batch_size=batch_size)"
   ]
  },
  {
   "cell_type": "code",
   "execution_count": 18,
   "id": "4e119c71",
   "metadata": {},
   "outputs": [],
   "source": [
    "#ytr2d = np.reshape(ytr, (ytr.shape[0], 1))\n",
    "yte2d = np.reshape(yte, (yte.shape[0], 1)) # reshape data"
   ]
  },
  {
   "cell_type": "markdown",
   "id": "ab63ba02",
   "metadata": {},
   "source": [
    "## Inverse Scaling in order to get the true predictions "
   ]
  },
  {
   "cell_type": "code",
   "execution_count": 19,
   "id": "4013bbeb",
   "metadata": {},
   "outputs": [],
   "source": [
    "#trainPredict = min_max_scaler.inverse_transform(trainPredict)\n",
    "#trainY = min_max_scaler.inverse_transform(ytr2d)\n",
    "testPredict = min_max_scaler.inverse_transform(testPredict)\n",
    "testY = min_max_scaler.inverse_transform(yte2d)"
   ]
  },
  {
   "cell_type": "markdown",
   "id": "aca39a41",
   "metadata": {},
   "source": [
    "## Evaluate using MSE, MAE and R2 "
   ]
  },
  {
   "cell_type": "code",
   "execution_count": 20,
   "id": "af327f47",
   "metadata": {},
   "outputs": [
    {
     "name": "stdout",
     "output_type": "stream",
     "text": [
      "Test MSE:  108.1000322520277\n",
      "Test MAE:  [7.99869734]\n",
      "Test R2:  0.9868641638727512\n"
     ]
    }
   ],
   "source": [
    "print(\"Test MSE: \", mean_squared_error(testY, testPredict))\n",
    "print(\"Test MAE: \", sum(abs(testY-testPredict))/testY.shape[0])\n",
    "print(\"Test R2: \", r2_score(testY, testPredict))"
   ]
  },
  {
   "cell_type": "markdown",
   "id": "0a4cfd0c",
   "metadata": {},
   "source": [
    "## The model seems to do a pretty good job by the measures. Let's Display the testing phase in a plot in order to view it. "
   ]
  },
  {
   "cell_type": "markdown",
   "id": "fa8fc657",
   "metadata": {},
   "source": [
    "## Preprocess in order to create the dataframe for the plot diagram."
   ]
  },
  {
   "cell_type": "code",
   "execution_count": 21,
   "id": "bed24a9b",
   "metadata": {},
   "outputs": [],
   "source": [
    "predictions=pd.DataFrame(testPredict)\n",
    "test_data=pd.DataFrame(testY)\n",
    "test_dates=test_dates.reset_index(drop=True)\n",
    "predictions=pd.concat((test_dates,predictions),axis=1)\n",
    "predictions=predictions.rename(columns={0:'EC Predicted'})\n",
    "predictions=pd.concat((predictions,test_data),axis=1)\n",
    "predictions=predictions.rename(columns={0:'EC Original'})"
   ]
  },
  {
   "cell_type": "code",
   "execution_count": 22,
   "id": "51b6ffee",
   "metadata": {},
   "outputs": [
    {
     "data": {
      "text/html": [
       "<div>\n",
       "<style scoped>\n",
       "    .dataframe tbody tr th:only-of-type {\n",
       "        vertical-align: middle;\n",
       "    }\n",
       "\n",
       "    .dataframe tbody tr th {\n",
       "        vertical-align: top;\n",
       "    }\n",
       "\n",
       "    .dataframe thead th {\n",
       "        text-align: right;\n",
       "    }\n",
       "</style>\n",
       "<table border=\"1\" class=\"dataframe\">\n",
       "  <thead>\n",
       "    <tr style=\"text-align: right;\">\n",
       "      <th></th>\n",
       "      <th>Date</th>\n",
       "      <th>EC Predicted</th>\n",
       "      <th>EC Original</th>\n",
       "    </tr>\n",
       "  </thead>\n",
       "  <tbody>\n",
       "    <tr>\n",
       "      <th>2590</th>\n",
       "      <td>2022-04-02 20:00:00</td>\n",
       "      <td>718.070740</td>\n",
       "      <td>723.0</td>\n",
       "    </tr>\n",
       "    <tr>\n",
       "      <th>2591</th>\n",
       "      <td>2022-04-02 21:00:00</td>\n",
       "      <td>712.795776</td>\n",
       "      <td>717.0</td>\n",
       "    </tr>\n",
       "    <tr>\n",
       "      <th>2592</th>\n",
       "      <td>2022-04-02 22:00:00</td>\n",
       "      <td>710.097778</td>\n",
       "      <td>727.0</td>\n",
       "    </tr>\n",
       "    <tr>\n",
       "      <th>2593</th>\n",
       "      <td>2022-04-02 23:00:00</td>\n",
       "      <td>714.398926</td>\n",
       "      <td>735.0</td>\n",
       "    </tr>\n",
       "    <tr>\n",
       "      <th>2594</th>\n",
       "      <td>2022-04-03 00:00:00</td>\n",
       "      <td>722.114014</td>\n",
       "      <td>741.0</td>\n",
       "    </tr>\n",
       "  </tbody>\n",
       "</table>\n",
       "</div>"
      ],
      "text/plain": [
       "                    Date  EC Predicted  EC Original\n",
       "2590 2022-04-02 20:00:00    718.070740        723.0\n",
       "2591 2022-04-02 21:00:00    712.795776        717.0\n",
       "2592 2022-04-02 22:00:00    710.097778        727.0\n",
       "2593 2022-04-02 23:00:00    714.398926        735.0\n",
       "2594 2022-04-03 00:00:00    722.114014        741.0"
      ]
     },
     "execution_count": 22,
     "metadata": {},
     "output_type": "execute_result"
    }
   ],
   "source": [
    "predictions.tail()"
   ]
  },
  {
   "cell_type": "markdown",
   "id": "77dcbb4b",
   "metadata": {},
   "source": [
    "## Display in a Plot "
   ]
  },
  {
   "cell_type": "code",
   "execution_count": 23,
   "id": "15aa2d83",
   "metadata": {},
   "outputs": [
    {
     "data": {
      "image/png": "[encoded data removed]",
      "text/plain": [
       "<Figure size 1000x800 with 1 Axes>"
      ]
     },
     "metadata": {},
     "output_type": "display_data"
    }
   ],
   "source": [
    "\n",
    "plt.figure(figsize=(10, 8))\n",
    "plt.plot(predictions['Date'],predictions['EC Original'],label='Actual',color='green')\n",
    "plt.plot(predictions['Date'],predictions['EC Predicted'],label='Predicted',color='red')\n",
    "plt.title(\"Electric Conductivity: Actual vs Predicted\")\n",
    "plt.xlabel(\"Date\")\n",
    "plt.ylabel(\"EC\")\n",
    "plt.gcf().autofmt_xdate()\n",
    "plt.legend()\n",
    "plt.show()"
   ]
  },
  {
   "cell_type": "markdown",
   "id": "4bc13029",
   "metadata": {},
   "source": [
    "## Forecast the next Hour "
   ]
  },
  {
   "cell_type": "markdown",
   "id": "6c070bbe",
   "metadata": {},
   "source": [
    "### Create the dataset for the forecast. We keep the last fifteen values of our dataset and we forecast the next one, in our case next Hour"
   ]
  },
  {
   "cell_type": "code",
   "execution_count": 24,
   "id": "45f6c0d7",
   "metadata": {},
   "outputs": [],
   "source": [
    "forecast=df_scaled[-15:]\n",
    "forecast=forecast.to_numpy()\n",
    "forecast=forecast.reshape(1,15)"
   ]
  },
  {
   "cell_type": "code",
   "execution_count": 25,
   "id": "fa2953b9",
   "metadata": {},
   "outputs": [],
   "source": [
    "#create date labels\n",
    "n_past = 15\n",
    "n_days_for_testing_prediction=16  #predict the next hour\n",
    "predict_period_dates = pd.date_range(list(test_dates)[-n_past], periods=n_days_for_testing_prediction,freq='h').tolist()\n",
    "predict_period_dates=predict_period_dates[-1:]"
   ]
  },
  {
   "cell_type": "markdown",
   "id": "cf66ee0b",
   "metadata": {},
   "source": [
    "### The datetime the model will predict is the next hour from our known dataset "
   ]
  },
  {
   "cell_type": "code",
   "execution_count": 26,
   "id": "97e0f888",
   "metadata": {},
   "outputs": [
    {
     "data": {
      "text/plain": [
       "[Timestamp('2022-04-03 01:00:00', freq='H')]"
      ]
     },
     "execution_count": 26,
     "metadata": {},
     "output_type": "execute_result"
    }
   ],
   "source": [
    "predict_period_dates"
   ]
  },
  {
   "cell_type": "markdown",
   "id": "76c77451",
   "metadata": {},
   "source": [
    "## Actual Forecast"
   ]
  },
  {
   "cell_type": "code",
   "execution_count": 27,
   "id": "b205e699",
   "metadata": {},
   "outputs": [],
   "source": [
    "forecast = model.predict(forecast, batch_size=batch_size)#predict"
   ]
  },
  {
   "cell_type": "markdown",
   "id": "7f148885",
   "metadata": {},
   "source": [
    "## Inverse Scaling "
   ]
  },
  {
   "cell_type": "code",
   "execution_count": 28,
   "id": "97ded534",
   "metadata": {},
   "outputs": [],
   "source": [
    "forecast = min_max_scaler.inverse_transform(forecast)#inverse"
   ]
  },
  {
   "cell_type": "code",
   "execution_count": 29,
   "id": "52464da8",
   "metadata": {},
   "outputs": [],
   "source": [
    "forecast=np.squeeze(forecast)#reshape"
   ]
  },
  {
   "cell_type": "code",
   "execution_count": 30,
   "id": "193e9a78",
   "metadata": {},
   "outputs": [],
   "source": [
    "#give the right Date labels\n",
    "forecast_dates = []\n",
    "for time_i in predict_period_dates:\n",
    "    forecast_dates.append(time_i)\n",
    "    \n",
    "df_forecast = pd.DataFrame({'Date':np.array(forecast_dates), 'Mean Conductivity Forecasted':forecast})"
   ]
  },
  {
   "cell_type": "markdown",
   "id": "8ef2c5b9",
   "metadata": {},
   "source": [
    "### The forecasted values for the next hour is:"
   ]
  },
  {
   "cell_type": "code",
   "execution_count": 31,
   "id": "a2884f29",
   "metadata": {},
   "outputs": [
    {
     "data": {
      "text/html": [
       "<div>\n",
       "<style scoped>\n",
       "    .dataframe tbody tr th:only-of-type {\n",
       "        vertical-align: middle;\n",
       "    }\n",
       "\n",
       "    .dataframe tbody tr th {\n",
       "        vertical-align: top;\n",
       "    }\n",
       "\n",
       "    .dataframe thead th {\n",
       "        text-align: right;\n",
       "    }\n",
       "</style>\n",
       "<table border=\"1\" class=\"dataframe\">\n",
       "  <thead>\n",
       "    <tr style=\"text-align: right;\">\n",
       "      <th></th>\n",
       "      <th>Date</th>\n",
       "      <th>Mean Conductivity Forecasted</th>\n",
       "    </tr>\n",
       "  </thead>\n",
       "  <tbody>\n",
       "    <tr>\n",
       "      <th>0</th>\n",
       "      <td>2022-04-03 01:00:00</td>\n",
       "      <td>728.587158</td>\n",
       "    </tr>\n",
       "  </tbody>\n",
       "</table>\n",
       "</div>"
      ],
      "text/plain": [
       "                 Date  Mean Conductivity Forecasted\n",
       "0 2022-04-03 01:00:00                    728.587158"
      ]
     },
     "execution_count": 31,
     "metadata": {},
     "output_type": "execute_result"
    }
   ],
   "source": [
    "df_forecast"
   ]
  },
  {
   "cell_type": "markdown",
   "id": "d9a8802f",
   "metadata": {},
   "source": [
    "## Preprocess for demonstration purposes "
   ]
  },
  {
   "cell_type": "code",
   "execution_count": 32,
   "id": "c8371198",
   "metadata": {},
   "outputs": [],
   "source": [
    "forecast=pd.concat([data.iloc[-15:].reset_index(),df_forecast])"
   ]
  },
  {
   "cell_type": "code",
   "execution_count": 33,
   "id": "aa59cafc",
   "metadata": {},
   "outputs": [
    {
     "data": {
      "text/html": [
       "<div>\n",
       "<style scoped>\n",
       "    .dataframe tbody tr th:only-of-type {\n",
       "        vertical-align: middle;\n",
       "    }\n",
       "\n",
       "    .dataframe tbody tr th {\n",
       "        vertical-align: top;\n",
       "    }\n",
       "\n",
       "    .dataframe thead th {\n",
       "        text-align: right;\n",
       "    }\n",
       "</style>\n",
       "<table border=\"1\" class=\"dataframe\">\n",
       "  <thead>\n",
       "    <tr style=\"text-align: right;\">\n",
       "      <th></th>\n",
       "      <th>index</th>\n",
       "      <th>Date</th>\n",
       "      <th>Atm.Temperature</th>\n",
       "      <th>Mean Watertemperature per Hour</th>\n",
       "      <th>Mean Salinity per Hour</th>\n",
       "      <th>Mean Conductivity per Hour</th>\n",
       "      <th>Mean Chlorofyl per Hour</th>\n",
       "      <th>Mean Conductivity Forecasted</th>\n",
       "    </tr>\n",
       "  </thead>\n",
       "  <tbody>\n",
       "    <tr>\n",
       "      <th>11</th>\n",
       "      <td>8661.0</td>\n",
       "      <td>2022-04-02 21:00:00</td>\n",
       "      <td>1.2</td>\n",
       "      <td>10.125</td>\n",
       "      <td>0.498333</td>\n",
       "      <td>717.0</td>\n",
       "      <td>9.558333</td>\n",
       "      <td>NaN</td>\n",
       "    </tr>\n",
       "    <tr>\n",
       "      <th>12</th>\n",
       "      <td>8662.0</td>\n",
       "      <td>2022-04-02 22:00:00</td>\n",
       "      <td>0.9</td>\n",
       "      <td>10.100</td>\n",
       "      <td>0.505833</td>\n",
       "      <td>727.0</td>\n",
       "      <td>9.908333</td>\n",
       "      <td>NaN</td>\n",
       "    </tr>\n",
       "    <tr>\n",
       "      <th>13</th>\n",
       "      <td>8663.0</td>\n",
       "      <td>2022-04-02 23:00:00</td>\n",
       "      <td>-0.2</td>\n",
       "      <td>10.075</td>\n",
       "      <td>0.510000</td>\n",
       "      <td>735.0</td>\n",
       "      <td>9.791667</td>\n",
       "      <td>NaN</td>\n",
       "    </tr>\n",
       "    <tr>\n",
       "      <th>14</th>\n",
       "      <td>8664.0</td>\n",
       "      <td>2022-04-03 00:00:00</td>\n",
       "      <td>-0.4</td>\n",
       "      <td>9.975</td>\n",
       "      <td>0.518333</td>\n",
       "      <td>741.0</td>\n",
       "      <td>9.483333</td>\n",
       "      <td>NaN</td>\n",
       "    </tr>\n",
       "    <tr>\n",
       "      <th>0</th>\n",
       "      <td>NaN</td>\n",
       "      <td>2022-04-03 01:00:00</td>\n",
       "      <td>NaN</td>\n",
       "      <td>NaN</td>\n",
       "      <td>NaN</td>\n",
       "      <td>NaN</td>\n",
       "      <td>NaN</td>\n",
       "      <td>728.587158</td>\n",
       "    </tr>\n",
       "  </tbody>\n",
       "</table>\n",
       "</div>"
      ],
      "text/plain": [
       "     index                Date  Atm.Temperature  \\\n",
       "11  8661.0 2022-04-02 21:00:00              1.2   \n",
       "12  8662.0 2022-04-02 22:00:00              0.9   \n",
       "13  8663.0 2022-04-02 23:00:00             -0.2   \n",
       "14  8664.0 2022-04-03 00:00:00             -0.4   \n",
       "0      NaN 2022-04-03 01:00:00              NaN   \n",
       "\n",
       "    Mean Watertemperature per Hour  Mean Salinity per Hour  \\\n",
       "11                          10.125                0.498333   \n",
       "12                          10.100                0.505833   \n",
       "13                          10.075                0.510000   \n",
       "14                           9.975                0.518333   \n",
       "0                              NaN                     NaN   \n",
       "\n",
       "    Mean Conductivity per Hour  Mean Chlorofyl per Hour  \\\n",
       "11                       717.0                 9.558333   \n",
       "12                       727.0                 9.908333   \n",
       "13                       735.0                 9.791667   \n",
       "14                       741.0                 9.483333   \n",
       "0                          NaN                      NaN   \n",
       "\n",
       "    Mean Conductivity Forecasted  \n",
       "11                           NaN  \n",
       "12                           NaN  \n",
       "13                           NaN  \n",
       "14                           NaN  \n",
       "0                     728.587158  "
      ]
     },
     "execution_count": 33,
     "metadata": {},
     "output_type": "execute_result"
    }
   ],
   "source": [
    "forecast.tail()"
   ]
  },
  {
   "cell_type": "code",
   "execution_count": 34,
   "id": "6f9f3770",
   "metadata": {},
   "outputs": [],
   "source": [
    "forecast['Date']=pd.to_datetime(forecast['Date'])"
   ]
  },
  {
   "cell_type": "markdown",
   "id": "303a1318",
   "metadata": {},
   "source": [
    "## The blue dot is the forecasted value of EC in the next unknown hour "
   ]
  },
  {
   "cell_type": "code",
   "execution_count": 35,
   "id": "41c595d1",
   "metadata": {},
   "outputs": [
    {
     "data": {
      "image/png": "[encoded data removed]",
      "text/plain": [
       "<Figure size 1000x1000 with 1 Axes>"
      ]
     },
     "metadata": {},
     "output_type": "display_data"
    }
   ],
   "source": [
    "\n",
    "plt.figure(figsize=(10, 10))\n",
    "plt.plot(forecast['Date'],forecast['Mean Conductivity per Hour'],label='Actual',color='red')\n",
    "plt.scatter(forecast['Date'],forecast['Mean Conductivity Forecasted'],label='Forecasted',color='blue')\n",
    "plt.title(\"Electric Conductivity: Actual and Forecasted\")\n",
    "plt.xlabel(\"Date\")\n",
    "plt.ylabel(\"EC\")\n",
    "plt.legend()\n",
    "plt.show()"
   ]
  },
  {
   "cell_type": "code",
   "execution_count": null,
   "id": "f76736d3",
   "metadata": {},
   "outputs": [],
   "source": []
  },
  {
   "cell_type": "code",
   "execution_count": null,
   "id": "7099f0c4",
   "metadata": {},
   "outputs": [],
   "source": []
  },
  {
   "cell_type": "markdown",
   "id": "b202e74a",
   "metadata": {},
   "source": [
    "# Approach #2: Using a Multivariate LSTM ( RNN) model, which uses the values of the other 4 features to predict the Electrical Conductivity. "
   ]
  },
  {
   "cell_type": "code",
   "execution_count": 36,
   "id": "ace83d2b",
   "metadata": {},
   "outputs": [],
   "source": [
    "df2_date=data[['Date']] # Keep the dates for display purposes"
   ]
  },
  {
   "cell_type": "markdown",
   "id": "bd1db912",
   "metadata": {},
   "source": [
    "## Seperate Dataset to Training and Testing "
   ]
  },
  {
   "cell_type": "markdown",
   "id": "185ebdff",
   "metadata": {},
   "source": [
    "## Training "
   ]
  },
  {
   "cell_type": "code",
   "execution_count": 37,
   "id": "5b034ff6",
   "metadata": {},
   "outputs": [],
   "source": [
    "df2_train=data.iloc[0:6000,1:] #training\n",
    "df2_train_dates=df2_date.iloc[0:6000] #Testing Dates"
   ]
  },
  {
   "cell_type": "code",
   "execution_count": 38,
   "id": "c0aced45",
   "metadata": {},
   "outputs": [
    {
     "data": {
      "text/plain": [
       "(6000, 1)"
      ]
     },
     "execution_count": 38,
     "metadata": {},
     "output_type": "execute_result"
    }
   ],
   "source": [
    "df2_train_dates.shape"
   ]
  },
  {
   "cell_type": "markdown",
   "id": "d9a61431",
   "metadata": {},
   "source": [
    "## Testing "
   ]
  },
  {
   "cell_type": "code",
   "execution_count": 39,
   "id": "29f3f13b",
   "metadata": {},
   "outputs": [],
   "source": [
    "df2_test=data.iloc[6000:,1:]#training\n",
    "df2_test_dates=df2_date.iloc[6000:] #training dates\n",
    "df2_test.reset_index(inplace=True)"
   ]
  },
  {
   "cell_type": "code",
   "execution_count": 40,
   "id": "10df7412",
   "metadata": {},
   "outputs": [
    {
     "data": {
      "text/plain": [
       "(2665, 6)"
      ]
     },
     "execution_count": 40,
     "metadata": {},
     "output_type": "execute_result"
    }
   ],
   "source": [
    "df2_test.shape"
   ]
  },
  {
   "cell_type": "markdown",
   "id": "35a38e1b",
   "metadata": {},
   "source": [
    "### Standarization using Standard Scaler this time "
   ]
  },
  {
   "cell_type": "code",
   "execution_count": 41,
   "id": "7740d967",
   "metadata": {},
   "outputs": [],
   "source": [
    "sc=StandardScaler()\n",
    "df2_train_scaled=sc.fit_transform(df2_train[['Atm.Temperature','Mean Watertemperature per Hour','Mean Salinity per Hour','Mean Chlorofyl per Hour']])"
   ]
  },
  {
   "cell_type": "code",
   "execution_count": 42,
   "id": "a7b21428",
   "metadata": {},
   "outputs": [
    {
     "data": {
      "text/html": [
       "<div>\n",
       "<style scoped>\n",
       "    .dataframe tbody tr th:only-of-type {\n",
       "        vertical-align: middle;\n",
       "    }\n",
       "\n",
       "    .dataframe tbody tr th {\n",
       "        vertical-align: top;\n",
       "    }\n",
       "\n",
       "    .dataframe thead th {\n",
       "        text-align: right;\n",
       "    }\n",
       "</style>\n",
       "<table border=\"1\" class=\"dataframe\">\n",
       "  <thead>\n",
       "    <tr style=\"text-align: right;\">\n",
       "      <th></th>\n",
       "      <th>Date</th>\n",
       "      <th>Atm.Temperature</th>\n",
       "      <th>Mean Watertemperature per Hour</th>\n",
       "      <th>Mean Salinity per Hour</th>\n",
       "      <th>Mean Conductivity per Hour</th>\n",
       "      <th>Mean Chlorofyl per Hour</th>\n",
       "    </tr>\n",
       "  </thead>\n",
       "  <tbody>\n",
       "    <tr>\n",
       "      <th>0</th>\n",
       "      <td>2021-04-06 11:00:00</td>\n",
       "      <td>4.9</td>\n",
       "      <td>9.900000</td>\n",
       "      <td>0.473333</td>\n",
       "      <td>680.0</td>\n",
       "      <td>4.466667</td>\n",
       "    </tr>\n",
       "    <tr>\n",
       "      <th>1</th>\n",
       "      <td>2021-04-06 12:00:00</td>\n",
       "      <td>5.5</td>\n",
       "      <td>9.900000</td>\n",
       "      <td>0.470000</td>\n",
       "      <td>677.0</td>\n",
       "      <td>5.000000</td>\n",
       "    </tr>\n",
       "    <tr>\n",
       "      <th>2</th>\n",
       "      <td>2021-04-06 13:00:00</td>\n",
       "      <td>4.5</td>\n",
       "      <td>9.916667</td>\n",
       "      <td>0.475000</td>\n",
       "      <td>682.0</td>\n",
       "      <td>6.066667</td>\n",
       "    </tr>\n",
       "    <tr>\n",
       "      <th>3</th>\n",
       "      <td>2021-04-06 14:00:00</td>\n",
       "      <td>1.8</td>\n",
       "      <td>9.891667</td>\n",
       "      <td>0.475000</td>\n",
       "      <td>682.0</td>\n",
       "      <td>7.108333</td>\n",
       "    </tr>\n",
       "    <tr>\n",
       "      <th>4</th>\n",
       "      <td>2021-04-06 15:00:00</td>\n",
       "      <td>2.2</td>\n",
       "      <td>9.800000</td>\n",
       "      <td>0.477500</td>\n",
       "      <td>683.0</td>\n",
       "      <td>7.375000</td>\n",
       "    </tr>\n",
       "    <tr>\n",
       "      <th>...</th>\n",
       "      <td>...</td>\n",
       "      <td>...</td>\n",
       "      <td>...</td>\n",
       "      <td>...</td>\n",
       "      <td>...</td>\n",
       "      <td>...</td>\n",
       "    </tr>\n",
       "    <tr>\n",
       "      <th>8660</th>\n",
       "      <td>2022-04-02 20:00:00</td>\n",
       "      <td>1.4</td>\n",
       "      <td>10.200000</td>\n",
       "      <td>0.500000</td>\n",
       "      <td>723.0</td>\n",
       "      <td>10.233333</td>\n",
       "    </tr>\n",
       "    <tr>\n",
       "      <th>8661</th>\n",
       "      <td>2022-04-02 21:00:00</td>\n",
       "      <td>1.2</td>\n",
       "      <td>10.125000</td>\n",
       "      <td>0.498333</td>\n",
       "      <td>717.0</td>\n",
       "      <td>9.558333</td>\n",
       "    </tr>\n",
       "    <tr>\n",
       "      <th>8662</th>\n",
       "      <td>2022-04-02 22:00:00</td>\n",
       "      <td>0.9</td>\n",
       "      <td>10.100000</td>\n",
       "      <td>0.505833</td>\n",
       "      <td>727.0</td>\n",
       "      <td>9.908333</td>\n",
       "    </tr>\n",
       "    <tr>\n",
       "      <th>8663</th>\n",
       "      <td>2022-04-02 23:00:00</td>\n",
       "      <td>-0.2</td>\n",
       "      <td>10.075000</td>\n",
       "      <td>0.510000</td>\n",
       "      <td>735.0</td>\n",
       "      <td>9.791667</td>\n",
       "    </tr>\n",
       "    <tr>\n",
       "      <th>8664</th>\n",
       "      <td>2022-04-03 00:00:00</td>\n",
       "      <td>-0.4</td>\n",
       "      <td>9.975000</td>\n",
       "      <td>0.518333</td>\n",
       "      <td>741.0</td>\n",
       "      <td>9.483333</td>\n",
       "    </tr>\n",
       "  </tbody>\n",
       "</table>\n",
       "<p>8665 rows × 6 columns</p>\n",
       "</div>"
      ],
      "text/plain": [
       "                    Date  Atm.Temperature  Mean Watertemperature per Hour  \\\n",
       "0    2021-04-06 11:00:00              4.9                        9.900000   \n",
       "1    2021-04-06 12:00:00              5.5                        9.900000   \n",
       "2    2021-04-06 13:00:00              4.5                        9.916667   \n",
       "3    2021-04-06 14:00:00              1.8                        9.891667   \n",
       "4    2021-04-06 15:00:00              2.2                        9.800000   \n",
       "...                  ...              ...                             ...   \n",
       "8660 2022-04-02 20:00:00              1.4                       10.200000   \n",
       "8661 2022-04-02 21:00:00              1.2                       10.125000   \n",
       "8662 2022-04-02 22:00:00              0.9                       10.100000   \n",
       "8663 2022-04-02 23:00:00             -0.2                       10.075000   \n",
       "8664 2022-04-03 00:00:00             -0.4                        9.975000   \n",
       "\n",
       "      Mean Salinity per Hour  Mean Conductivity per Hour  \\\n",
       "0                   0.473333                       680.0   \n",
       "1                   0.470000                       677.0   \n",
       "2                   0.475000                       682.0   \n",
       "3                   0.475000                       682.0   \n",
       "4                   0.477500                       683.0   \n",
       "...                      ...                         ...   \n",
       "8660                0.500000                       723.0   \n",
       "8661                0.498333                       717.0   \n",
       "8662                0.505833                       727.0   \n",
       "8663                0.510000                       735.0   \n",
       "8664                0.518333                       741.0   \n",
       "\n",
       "      Mean Chlorofyl per Hour  \n",
       "0                    4.466667  \n",
       "1                    5.000000  \n",
       "2                    6.066667  \n",
       "3                    7.108333  \n",
       "4                    7.375000  \n",
       "...                       ...  \n",
       "8660                10.233333  \n",
       "8661                 9.558333  \n",
       "8662                 9.908333  \n",
       "8663                 9.791667  \n",
       "8664                 9.483333  \n",
       "\n",
       "[8665 rows x 6 columns]"
      ]
     },
     "execution_count": 42,
     "metadata": {},
     "output_type": "execute_result"
    }
   ],
   "source": [
    "data"
   ]
  },
  {
   "cell_type": "code",
   "execution_count": 43,
   "id": "c4dc27a5",
   "metadata": {},
   "outputs": [],
   "source": [
    "sc2=StandardScaler()\n",
    "df2_train_scaled_y=sc2.fit_transform(df2_train[['Mean Conductivity per Hour']])# Y is our targer which is Mean Conductivity (EC)"
   ]
  },
  {
   "cell_type": "code",
   "execution_count": 44,
   "id": "20201570",
   "metadata": {},
   "outputs": [
    {
     "data": {
      "text/plain": [
       "(6000, 1)"
      ]
     },
     "execution_count": 44,
     "metadata": {},
     "output_type": "execute_result"
    }
   ],
   "source": [
    "df2_train_scaled_y.shape"
   ]
  },
  {
   "cell_type": "markdown",
   "id": "fcafc5fa",
   "metadata": {},
   "source": [
    "## Reshape : Use previous 14teen to Predict the EC Value"
   ]
  },
  {
   "cell_type": "code",
   "execution_count": 45,
   "id": "cdc8ca61",
   "metadata": {},
   "outputs": [],
   "source": [
    "hops=14\n",
    "no_records=1000\n",
    "#no_cols=4\n",
    "X_train=[]\n",
    "y_train=[]\n",
    "for i in range(14,6000):\n",
    "    X_train.append(df2_train_scaled[i-14:i])\n",
    "    y_train.append(df2_train_scaled_y[i][0])\n",
    "X_train,y_train=np.array(X_train),np.array(y_train)"
   ]
  },
  {
   "cell_type": "code",
   "execution_count": 46,
   "id": "65d2b92f",
   "metadata": {},
   "outputs": [
    {
     "data": {
      "text/plain": [
       "(5986,)"
      ]
     },
     "execution_count": 46,
     "metadata": {},
     "output_type": "execute_result"
    }
   ],
   "source": [
    "y_train.shape"
   ]
  },
  {
   "cell_type": "code",
   "execution_count": 47,
   "id": "848e4c5e",
   "metadata": {},
   "outputs": [
    {
     "data": {
      "text/plain": [
       "(5986, 14, 4)"
      ]
     },
     "execution_count": 47,
     "metadata": {},
     "output_type": "execute_result"
    }
   ],
   "source": [
    "X_train_shape=np.reshape(X_train,(X_train.shape[0],X_train.shape[1],X_train.shape[2]))\n",
    "X_train_shape.shape"
   ]
  },
  {
   "cell_type": "markdown",
   "id": "4207f749",
   "metadata": {},
   "source": [
    "## Build the Model"
   ]
  },
  {
   "cell_type": "code",
   "execution_count": 48,
   "id": "74811c4e",
   "metadata": {},
   "outputs": [],
   "source": [
    "model4=Sequential()\n",
    "model4.add(LSTM(units=50,return_sequences=True,input_shape=(14,4)))\n",
    "model4.add(LSTM(units=50))\n",
    "model4.add(Dense(1))\n",
    "model4.compile(optimizer='adam',loss='mean_squared_error')"
   ]
  },
  {
   "cell_type": "markdown",
   "id": "bc18a418",
   "metadata": {},
   "source": [
    "## Training time "
   ]
  },
  {
   "cell_type": "code",
   "execution_count": 49,
   "id": "46b9dcf2",
   "metadata": {},
   "outputs": [
    {
     "name": "stdout",
     "output_type": "stream",
     "text": [
      "Epoch 1/100\n",
      "188/188 [==============================] - 1s 6ms/step - loss: 0.0780\n",
      "Epoch 2/100\n",
      "188/188 [==============================] - 1s 6ms/step - loss: 0.0348\n",
      "Epoch 3/100\n",
      "188/188 [==============================] - 1s 6ms/step - loss: 0.0305\n",
      "Epoch 4/100\n",
      "188/188 [==============================] - 1s 6ms/step - loss: 0.0266\n",
      "Epoch 5/100\n",
      "188/188 [==============================] - 1s 6ms/step - loss: 0.0225\n",
      "Epoch 6/100\n",
      "188/188 [==============================] - 1s 6ms/step - loss: 0.0174\n",
      "Epoch 7/100\n",
      "188/188 [==============================] - 1s 6ms/step - loss: 0.0147\n",
      "Epoch 8/100\n",
      "188/188 [==============================] - 1s 6ms/step - loss: 0.0129\n",
      "Epoch 9/100\n",
      "188/188 [==============================] - 1s 6ms/step - loss: 0.0123\n",
      "Epoch 10/100\n",
      "188/188 [==============================] - 1s 6ms/step - loss: 0.0139\n",
      "Epoch 11/100\n",
      "188/188 [==============================] - 1s 6ms/step - loss: 0.0121\n",
      "Epoch 12/100\n",
      "188/188 [==============================] - 1s 6ms/step - loss: 0.0117\n",
      "Epoch 13/100\n",
      "188/188 [==============================] - 1s 6ms/step - loss: 0.0115\n",
      "Epoch 14/100\n",
      "188/188 [==============================] - 1s 6ms/step - loss: 0.0113\n",
      "Epoch 15/100\n",
      "188/188 [==============================] - 1s 6ms/step - loss: 0.0116\n",
      "Epoch 16/100\n",
      "188/188 [==============================] - 1s 6ms/step - loss: 0.0115\n",
      "Epoch 17/100\n",
      "188/188 [==============================] - 1s 6ms/step - loss: 0.0111\n",
      "Epoch 18/100\n",
      "188/188 [==============================] - 1s 6ms/step - loss: 0.0114\n",
      "Epoch 19/100\n",
      "188/188 [==============================] - 1s 6ms/step - loss: 0.0114\n",
      "Epoch 20/100\n",
      "188/188 [==============================] - 1s 6ms/step - loss: 0.0107\n",
      "Epoch 21/100\n",
      "188/188 [==============================] - 1s 6ms/step - loss: 0.0108\n",
      "Epoch 22/100\n",
      "188/188 [==============================] - 1s 6ms/step - loss: 0.0107\n",
      "Epoch 23/100\n",
      "188/188 [==============================] - 1s 6ms/step - loss: 0.0115\n",
      "Epoch 24/100\n",
      "188/188 [==============================] - 1s 6ms/step - loss: 0.0108\n",
      "Epoch 25/100\n",
      "188/188 [==============================] - 1s 6ms/step - loss: 0.0106\n",
      "Epoch 26/100\n",
      "188/188 [==============================] - 1s 6ms/step - loss: 0.0103\n",
      "Epoch 27/100\n",
      "188/188 [==============================] - 1s 6ms/step - loss: 0.0104\n",
      "Epoch 28/100\n",
      "188/188 [==============================] - 1s 6ms/step - loss: 0.0100\n",
      "Epoch 29/100\n",
      "188/188 [==============================] - 1s 6ms/step - loss: 0.0107\n",
      "Epoch 30/100\n",
      "188/188 [==============================] - 1s 6ms/step - loss: 0.0111\n",
      "Epoch 31/100\n",
      "188/188 [==============================] - 1s 6ms/step - loss: 0.0118\n",
      "Epoch 32/100\n",
      "188/188 [==============================] - 1s 6ms/step - loss: 0.0101\n",
      "Epoch 33/100\n",
      "188/188 [==============================] - 1s 6ms/step - loss: 0.0097\n",
      "Epoch 34/100\n",
      "188/188 [==============================] - 1s 6ms/step - loss: 0.0098\n",
      "Epoch 35/100\n",
      "188/188 [==============================] - 1s 6ms/step - loss: 0.0095\n",
      "Epoch 36/100\n",
      "188/188 [==============================] - 1s 6ms/step - loss: 0.0096\n",
      "Epoch 37/100\n",
      "188/188 [==============================] - 1s 6ms/step - loss: 0.0094\n",
      "Epoch 38/100\n",
      "188/188 [==============================] - 1s 6ms/step - loss: 0.0096\n",
      "Epoch 39/100\n",
      "188/188 [==============================] - 1s 6ms/step - loss: 0.0091\n",
      "Epoch 40/100\n",
      "188/188 [==============================] - 1s 6ms/step - loss: 0.0089\n",
      "Epoch 41/100\n",
      "188/188 [==============================] - 1s 6ms/step - loss: 0.0092\n",
      "Epoch 42/100\n",
      "188/188 [==============================] - 1s 6ms/step - loss: 0.0090\n",
      "Epoch 43/100\n",
      "188/188 [==============================] - 1s 6ms/step - loss: 0.0093\n",
      "Epoch 44/100\n",
      "188/188 [==============================] - 1s 6ms/step - loss: 0.0095\n",
      "Epoch 45/100\n",
      "188/188 [==============================] - 1s 6ms/step - loss: 0.0091\n",
      "Epoch 46/100\n",
      "188/188 [==============================] - 1s 6ms/step - loss: 0.0087\n",
      "Epoch 47/100\n",
      "188/188 [==============================] - 1s 6ms/step - loss: 0.0087\n",
      "Epoch 48/100\n",
      "188/188 [==============================] - 1s 6ms/step - loss: 0.0088\n",
      "Epoch 49/100\n",
      "188/188 [==============================] - 1s 6ms/step - loss: 0.0088\n",
      "Epoch 50/100\n",
      "188/188 [==============================] - 1s 6ms/step - loss: 0.0088A: 0s - loss: 0.008\n",
      "Epoch 51/100\n",
      "188/188 [==============================] - 1s 6ms/step - loss: 0.0086A: 0s - l\n",
      "Epoch 52/100\n",
      "188/188 [==============================] - 1s 6ms/step - loss: 0.0087\n",
      "Epoch 53/100\n",
      "188/188 [==============================] - 1s 6ms/step - loss: 0.0090\n",
      "Epoch 54/100\n",
      "188/188 [==============================] - 1s 6ms/step - loss: 0.0085\n",
      "Epoch 55/100\n",
      "188/188 [==============================] - 1s 6ms/step - loss: 0.0090\n",
      "Epoch 56/100\n",
      "188/188 [==============================] - 1s 6ms/step - loss: 0.0084\n",
      "Epoch 57/100\n",
      "188/188 [==============================] - 1s 6ms/step - loss: 0.0091\n",
      "Epoch 58/100\n",
      "188/188 [==============================] - 1s 6ms/step - loss: 0.0083\n",
      "Epoch 59/100\n",
      "188/188 [==============================] - 1s 6ms/step - loss: 0.0084\n",
      "Epoch 60/100\n",
      "188/188 [==============================] - 1s 6ms/step - loss: 0.0084\n",
      "Epoch 61/100\n",
      "188/188 [==============================] - 1s 6ms/step - loss: 0.0086\n",
      "Epoch 62/100\n",
      "188/188 [==============================] - 1s 6ms/step - loss: 0.0080\n",
      "Epoch 63/100\n",
      "188/188 [==============================] - 1s 6ms/step - loss: 0.0082\n",
      "Epoch 64/100\n",
      "188/188 [==============================] - 1s 6ms/step - loss: 0.0085\n",
      "Epoch 65/100\n",
      "188/188 [==============================] - 1s 6ms/step - loss: 0.0081\n",
      "Epoch 66/100\n",
      "188/188 [==============================] - 1s 6ms/step - loss: 0.0078\n",
      "Epoch 67/100\n",
      "188/188 [==============================] - 1s 6ms/step - loss: 0.0078\n",
      "Epoch 68/100\n",
      "188/188 [==============================] - 1s 6ms/step - loss: 0.0082\n",
      "Epoch 69/100\n",
      "188/188 [==============================] - 1s 6ms/step - loss: 0.0081\n",
      "Epoch 70/100\n",
      "188/188 [==============================] - 1s 6ms/step - loss: 0.0079\n",
      "Epoch 71/100\n",
      "188/188 [==============================] - 1s 6ms/step - loss: 0.0080\n",
      "Epoch 72/100\n",
      "188/188 [==============================] - 1s 6ms/step - loss: 0.0081\n",
      "Epoch 73/100\n",
      "188/188 [==============================] - 1s 6ms/step - loss: 0.0079\n",
      "Epoch 74/100\n",
      "188/188 [==============================] - 1s 6ms/step - loss: 0.0076\n",
      "Epoch 75/100\n",
      "188/188 [==============================] - 1s 6ms/step - loss: 0.0076\n",
      "Epoch 76/100\n",
      "188/188 [==============================] - 1s 6ms/step - loss: 0.0076\n",
      "Epoch 77/100\n",
      "188/188 [==============================] - 1s 6ms/step - loss: 0.0077\n",
      "Epoch 78/100\n",
      "188/188 [==============================] - 1s 6ms/step - loss: 0.0076\n",
      "Epoch 79/100\n",
      "188/188 [==============================] - 1s 6ms/step - loss: 0.0076\n",
      "Epoch 80/100\n",
      "188/188 [==============================] - 1s 6ms/step - loss: 0.0076\n",
      "Epoch 81/100\n",
      "188/188 [==============================] - 1s 6ms/step - loss: 0.0076\n",
      "Epoch 82/100\n",
      "188/188 [==============================] - 1s 6ms/step - loss: 0.0076\n",
      "Epoch 83/100\n",
      "188/188 [==============================] - 1s 6ms/step - loss: 0.0073\n",
      "Epoch 84/100\n",
      "188/188 [==============================] - 1s 6ms/step - loss: 0.0074\n",
      "Epoch 85/100\n",
      "188/188 [==============================] - 1s 6ms/step - loss: 0.0074\n",
      "Epoch 86/100\n",
      "188/188 [==============================] - 1s 6ms/step - loss: 0.0071\n",
      "Epoch 87/100\n",
      "188/188 [==============================] - 1s 6ms/step - loss: 0.0073\n",
      "Epoch 88/100\n",
      "188/188 [==============================] - 1s 6ms/step - loss: 0.0072\n",
      "Epoch 89/100\n",
      "188/188 [==============================] - 1s 6ms/step - loss: 0.0071\n",
      "Epoch 90/100\n",
      "188/188 [==============================] - 1s 6ms/step - loss: 0.0070\n",
      "Epoch 91/100\n",
      "188/188 [==============================] - 1s 6ms/step - loss: 0.0071\n",
      "Epoch 92/100\n",
      "188/188 [==============================] - 1s 6ms/step - loss: 0.0071\n",
      "Epoch 93/100\n",
      "188/188 [==============================] - 1s 6ms/step - loss: 0.0070\n",
      "Epoch 94/100\n",
      "188/188 [==============================] - 1s 6ms/step - loss: 0.0069\n",
      "Epoch 95/100\n",
      "188/188 [==============================] - 1s 6ms/step - loss: 0.0069\n",
      "Epoch 96/100\n",
      "188/188 [==============================] - 1s 6ms/step - loss: 0.0067\n",
      "Epoch 97/100\n",
      "188/188 [==============================] - 1s 6ms/step - loss: 0.0067\n",
      "Epoch 98/100\n",
      "188/188 [==============================] - 1s 6ms/step - loss: 0.0070\n",
      "Epoch 99/100\n"
     ]
    },
    {
     "name": "stdout",
     "output_type": "stream",
     "text": [
      "188/188 [==============================] - 1s 6ms/step - loss: 0.0068\n",
      "Epoch 100/100\n",
      "188/188 [==============================] - 1s 6ms/step - loss: 0.0069\n"
     ]
    },
    {
     "data": {
      "text/plain": [
       "<tensorflow.python.keras.callbacks.History at 0x275224e7e20>"
      ]
     },
     "execution_count": 49,
     "metadata": {},
     "output_type": "execute_result"
    }
   ],
   "source": [
    "model4.fit(X_train_shape,y_train,epochs=100,batch_size=32)"
   ]
  },
  {
   "cell_type": "markdown",
   "id": "1a5bbc7a",
   "metadata": {},
   "source": [
    "###  Keep the last fourteen values from our training dataset and get rid of them when reshaping. Its for reshaping purposes"
   ]
  },
  {
   "cell_type": "code",
   "execution_count": 50,
   "id": "a290a76f",
   "metadata": {},
   "outputs": [
    {
     "data": {
      "text/plain": [
       "(2679, 5)"
      ]
     },
     "execution_count": 50,
     "metadata": {},
     "output_type": "execute_result"
    }
   ],
   "source": [
    "df_train_last14=df2_train.iloc[-14:]\n",
    "df_test_full=df2_test.drop(columns={'index'})\n",
    "full_df=pd.concat((df_train_last14,df_test_full),axis=0)\n",
    "full_df.shape"
   ]
  },
  {
   "cell_type": "code",
   "execution_count": 51,
   "id": "a7e25bc8",
   "metadata": {},
   "outputs": [],
   "source": [
    "full_df=full_df.drop(columns={'Mean Conductivity per Hour'})\n",
    "full_df=sc.transform(full_df)"
   ]
  },
  {
   "cell_type": "markdown",
   "id": "e45cedb4",
   "metadata": {},
   "source": [
    "## Reshaping "
   ]
  },
  {
   "cell_type": "code",
   "execution_count": 52,
   "id": "27c2fcc1",
   "metadata": {},
   "outputs": [],
   "source": [
    "hops=14\n",
    "no_records=1000\n",
    "no_cols=4\n",
    "X_train_shape_pred=[]\n",
    "\n",
    "for i in range(14,full_df.shape[0]):\n",
    "    X_train_shape_pred.append(full_df[i-14:i])\n",
    "X_train_shape_pred=np.array(X_train_shape_pred)"
   ]
  },
  {
   "cell_type": "markdown",
   "id": "194adfee",
   "metadata": {},
   "source": [
    "## Right shape "
   ]
  },
  {
   "cell_type": "code",
   "execution_count": 53,
   "id": "57392075",
   "metadata": {},
   "outputs": [
    {
     "data": {
      "text/plain": [
       "(2665, 14, 4)"
      ]
     },
     "execution_count": 53,
     "metadata": {},
     "output_type": "execute_result"
    }
   ],
   "source": [
    "X_train_shape_pred.shape"
   ]
  },
  {
   "cell_type": "markdown",
   "id": "de682c15",
   "metadata": {},
   "source": [
    "## Time for Testing "
   ]
  },
  {
   "cell_type": "code",
   "execution_count": 54,
   "id": "bc8df7d2",
   "metadata": {},
   "outputs": [],
   "source": [
    "ytest=model4.predict(X_train_shape_pred)"
   ]
  },
  {
   "cell_type": "markdown",
   "id": "754382ba",
   "metadata": {},
   "source": [
    "## Inverse in order to get true predictions "
   ]
  },
  {
   "cell_type": "code",
   "execution_count": 55,
   "id": "4347f3a2",
   "metadata": {},
   "outputs": [
    {
     "data": {
      "text/plain": [
       "array([[407.4639 ],\n",
       "       [409.31927],\n",
       "       [411.53998],\n",
       "       ...,\n",
       "       [717.60016],\n",
       "       [722.5242 ],\n",
       "       [724.8624 ]], dtype=float32)"
      ]
     },
     "execution_count": 55,
     "metadata": {},
     "output_type": "execute_result"
    }
   ],
   "source": [
    "y_final_pred=sc2.inverse_transform(ytest)\n",
    "y_final_pred"
   ]
  },
  {
   "cell_type": "markdown",
   "id": "86f46a90",
   "metadata": {},
   "source": [
    "## Preprocess "
   ]
  },
  {
   "cell_type": "code",
   "execution_count": 56,
   "id": "924df4ea",
   "metadata": {},
   "outputs": [
    {
     "data": {
      "text/html": [
       "<div>\n",
       "<style scoped>\n",
       "    .dataframe tbody tr th:only-of-type {\n",
       "        vertical-align: middle;\n",
       "    }\n",
       "\n",
       "    .dataframe tbody tr th {\n",
       "        vertical-align: top;\n",
       "    }\n",
       "\n",
       "    .dataframe thead th {\n",
       "        text-align: right;\n",
       "    }\n",
       "</style>\n",
       "<table border=\"1\" class=\"dataframe\">\n",
       "  <thead>\n",
       "    <tr style=\"text-align: right;\">\n",
       "      <th></th>\n",
       "      <th>final_ec_pred</th>\n",
       "    </tr>\n",
       "  </thead>\n",
       "  <tbody>\n",
       "    <tr>\n",
       "      <th>0</th>\n",
       "      <td>407.463898</td>\n",
       "    </tr>\n",
       "    <tr>\n",
       "      <th>1</th>\n",
       "      <td>409.319275</td>\n",
       "    </tr>\n",
       "    <tr>\n",
       "      <th>2</th>\n",
       "      <td>411.539978</td>\n",
       "    </tr>\n",
       "    <tr>\n",
       "      <th>3</th>\n",
       "      <td>415.130280</td>\n",
       "    </tr>\n",
       "    <tr>\n",
       "      <th>4</th>\n",
       "      <td>417.835938</td>\n",
       "    </tr>\n",
       "  </tbody>\n",
       "</table>\n",
       "</div>"
      ],
      "text/plain": [
       "   final_ec_pred\n",
       "0     407.463898\n",
       "1     409.319275\n",
       "2     411.539978\n",
       "3     415.130280\n",
       "4     417.835938"
      ]
     },
     "execution_count": 56,
     "metadata": {},
     "output_type": "execute_result"
    }
   ],
   "source": [
    "final_ec_pred=pd.DataFrame(y_final_pred)\n",
    "final_ec_pred.columns=['final_ec_pred']\n",
    "final_ec_pred.head()"
   ]
  },
  {
   "cell_type": "code",
   "execution_count": 57,
   "id": "b8912189",
   "metadata": {},
   "outputs": [],
   "source": [
    "fully_final=pd.concat((final_ec_pred,df2_test),axis=1)\n",
    "fully_final=fully_final.drop(columns={'index'})\n",
    "df2_test_dates=df2_test_dates.reset_index(drop=True)\n",
    "final=pd.concat(([fully_final,df2_test_dates]),axis=1)"
   ]
  },
  {
   "cell_type": "code",
   "execution_count": 58,
   "id": "b4603c76",
   "metadata": {},
   "outputs": [
    {
     "data": {
      "text/html": [
       "<div>\n",
       "<style scoped>\n",
       "    .dataframe tbody tr th:only-of-type {\n",
       "        vertical-align: middle;\n",
       "    }\n",
       "\n",
       "    .dataframe tbody tr th {\n",
       "        vertical-align: top;\n",
       "    }\n",
       "\n",
       "    .dataframe thead th {\n",
       "        text-align: right;\n",
       "    }\n",
       "</style>\n",
       "<table border=\"1\" class=\"dataframe\">\n",
       "  <thead>\n",
       "    <tr style=\"text-align: right;\">\n",
       "      <th></th>\n",
       "      <th>final_ec_pred</th>\n",
       "      <th>Atm.Temperature</th>\n",
       "      <th>Mean Watertemperature per Hour</th>\n",
       "      <th>Mean Salinity per Hour</th>\n",
       "      <th>Mean Conductivity per Hour</th>\n",
       "      <th>Mean Chlorofyl per Hour</th>\n",
       "      <th>Date</th>\n",
       "    </tr>\n",
       "  </thead>\n",
       "  <tbody>\n",
       "    <tr>\n",
       "      <th>0</th>\n",
       "      <td>407.463898</td>\n",
       "      <td>10.1</td>\n",
       "      <td>9.500</td>\n",
       "      <td>0.360000</td>\n",
       "      <td>403.0</td>\n",
       "      <td>7.450000</td>\n",
       "      <td>2021-12-12 23:00:00</td>\n",
       "    </tr>\n",
       "    <tr>\n",
       "      <th>1</th>\n",
       "      <td>409.319275</td>\n",
       "      <td>10.2</td>\n",
       "      <td>9.500</td>\n",
       "      <td>0.360000</td>\n",
       "      <td>404.0</td>\n",
       "      <td>7.725000</td>\n",
       "      <td>2021-12-13 00:00:00</td>\n",
       "    </tr>\n",
       "    <tr>\n",
       "      <th>2</th>\n",
       "      <td>411.539978</td>\n",
       "      <td>10.1</td>\n",
       "      <td>9.500</td>\n",
       "      <td>0.360000</td>\n",
       "      <td>406.0</td>\n",
       "      <td>7.575000</td>\n",
       "      <td>2021-12-13 01:00:00</td>\n",
       "    </tr>\n",
       "    <tr>\n",
       "      <th>3</th>\n",
       "      <td>415.130280</td>\n",
       "      <td>9.9</td>\n",
       "      <td>9.500</td>\n",
       "      <td>0.360000</td>\n",
       "      <td>403.0</td>\n",
       "      <td>8.108333</td>\n",
       "      <td>2021-12-13 02:00:00</td>\n",
       "    </tr>\n",
       "    <tr>\n",
       "      <th>4</th>\n",
       "      <td>417.835938</td>\n",
       "      <td>8.0</td>\n",
       "      <td>9.500</td>\n",
       "      <td>0.360000</td>\n",
       "      <td>403.0</td>\n",
       "      <td>8.116667</td>\n",
       "      <td>2021-12-13 03:00:00</td>\n",
       "    </tr>\n",
       "    <tr>\n",
       "      <th>...</th>\n",
       "      <td>...</td>\n",
       "      <td>...</td>\n",
       "      <td>...</td>\n",
       "      <td>...</td>\n",
       "      <td>...</td>\n",
       "      <td>...</td>\n",
       "      <td>...</td>\n",
       "    </tr>\n",
       "    <tr>\n",
       "      <th>2660</th>\n",
       "      <td>726.359680</td>\n",
       "      <td>1.4</td>\n",
       "      <td>10.200</td>\n",
       "      <td>0.500000</td>\n",
       "      <td>723.0</td>\n",
       "      <td>10.233333</td>\n",
       "      <td>2022-04-02 20:00:00</td>\n",
       "    </tr>\n",
       "    <tr>\n",
       "      <th>2661</th>\n",
       "      <td>720.555908</td>\n",
       "      <td>1.2</td>\n",
       "      <td>10.125</td>\n",
       "      <td>0.498333</td>\n",
       "      <td>717.0</td>\n",
       "      <td>9.558333</td>\n",
       "      <td>2022-04-02 21:00:00</td>\n",
       "    </tr>\n",
       "    <tr>\n",
       "      <th>2662</th>\n",
       "      <td>717.600159</td>\n",
       "      <td>0.9</td>\n",
       "      <td>10.100</td>\n",
       "      <td>0.505833</td>\n",
       "      <td>727.0</td>\n",
       "      <td>9.908333</td>\n",
       "      <td>2022-04-02 22:00:00</td>\n",
       "    </tr>\n",
       "    <tr>\n",
       "      <th>2663</th>\n",
       "      <td>722.524170</td>\n",
       "      <td>-0.2</td>\n",
       "      <td>10.075</td>\n",
       "      <td>0.510000</td>\n",
       "      <td>735.0</td>\n",
       "      <td>9.791667</td>\n",
       "      <td>2022-04-02 23:00:00</td>\n",
       "    </tr>\n",
       "    <tr>\n",
       "      <th>2664</th>\n",
       "      <td>724.862427</td>\n",
       "      <td>-0.4</td>\n",
       "      <td>9.975</td>\n",
       "      <td>0.518333</td>\n",
       "      <td>741.0</td>\n",
       "      <td>9.483333</td>\n",
       "      <td>2022-04-03 00:00:00</td>\n",
       "    </tr>\n",
       "  </tbody>\n",
       "</table>\n",
       "<p>2665 rows × 7 columns</p>\n",
       "</div>"
      ],
      "text/plain": [
       "      final_ec_pred  Atm.Temperature  Mean Watertemperature per Hour  \\\n",
       "0        407.463898             10.1                           9.500   \n",
       "1        409.319275             10.2                           9.500   \n",
       "2        411.539978             10.1                           9.500   \n",
       "3        415.130280              9.9                           9.500   \n",
       "4        417.835938              8.0                           9.500   \n",
       "...             ...              ...                             ...   \n",
       "2660     726.359680              1.4                          10.200   \n",
       "2661     720.555908              1.2                          10.125   \n",
       "2662     717.600159              0.9                          10.100   \n",
       "2663     722.524170             -0.2                          10.075   \n",
       "2664     724.862427             -0.4                           9.975   \n",
       "\n",
       "      Mean Salinity per Hour  Mean Conductivity per Hour  \\\n",
       "0                   0.360000                       403.0   \n",
       "1                   0.360000                       404.0   \n",
       "2                   0.360000                       406.0   \n",
       "3                   0.360000                       403.0   \n",
       "4                   0.360000                       403.0   \n",
       "...                      ...                         ...   \n",
       "2660                0.500000                       723.0   \n",
       "2661                0.498333                       717.0   \n",
       "2662                0.505833                       727.0   \n",
       "2663                0.510000                       735.0   \n",
       "2664                0.518333                       741.0   \n",
       "\n",
       "      Mean Chlorofyl per Hour                Date  \n",
       "0                    7.450000 2021-12-12 23:00:00  \n",
       "1                    7.725000 2021-12-13 00:00:00  \n",
       "2                    7.575000 2021-12-13 01:00:00  \n",
       "3                    8.108333 2021-12-13 02:00:00  \n",
       "4                    8.116667 2021-12-13 03:00:00  \n",
       "...                       ...                 ...  \n",
       "2660                10.233333 2022-04-02 20:00:00  \n",
       "2661                 9.558333 2022-04-02 21:00:00  \n",
       "2662                 9.908333 2022-04-02 22:00:00  \n",
       "2663                 9.791667 2022-04-02 23:00:00  \n",
       "2664                 9.483333 2022-04-03 00:00:00  \n",
       "\n",
       "[2665 rows x 7 columns]"
      ]
     },
     "execution_count": 58,
     "metadata": {},
     "output_type": "execute_result"
    }
   ],
   "source": [
    "final"
   ]
  },
  {
   "cell_type": "markdown",
   "id": "317c7b0b",
   "metadata": {},
   "source": [
    "## Evaluate using R2 "
   ]
  },
  {
   "cell_type": "code",
   "execution_count": 59,
   "id": "86b22357",
   "metadata": {},
   "outputs": [
    {
     "name": "stdout",
     "output_type": "stream",
     "text": [
      "Test R2:  0.8906357982305617\n"
     ]
    }
   ],
   "source": [
    "print(\"Test R2: \", r2_score(fully_final['Mean Conductivity per Hour'], fully_final['final_ec_pred']))"
   ]
  },
  {
   "cell_type": "code",
   "execution_count": 124,
   "id": "f00a6989",
   "metadata": {},
   "outputs": [
    {
     "name": "stdout",
     "output_type": "stream",
     "text": [
      "INFO:tensorflow:Assets written to: lstm\\assets\n"
     ]
    }
   ],
   "source": [
    "model4.save('lstm')"
   ]
  },
  {
   "cell_type": "markdown",
   "id": "de97f1de",
   "metadata": {},
   "source": [
    "## Plot Testing Phase "
   ]
  },
  {
   "cell_type": "code",
   "execution_count": 60,
   "id": "d69c4a37",
   "metadata": {},
   "outputs": [
    {
     "data": {
      "image/png": "[encoded data removed]",
      "text/plain": [
       "<Figure size 720x720 with 1 Axes>"
      ]
     },
     "metadata": {
      "needs_background": "light"
     },
     "output_type": "display_data"
    }
   ],
   "source": [
    "%matplotlib inline\n",
    "\n",
    "plt.figure(figsize=(10, 10))\n",
    "plt.plot(final['Date'],final['Mean Conductivity per Hour'],label='Actual',color='red')\n",
    "plt.plot(final['Date'],final['final_ec_pred'],label='Predicted',color='blue')\n",
    "\n",
    "\n",
    "plt.title(\"Electric Conductivity: Actual vs Predicted by LSTM\")\n",
    "plt.xlabel(\"Date\")\n",
    "plt.ylabel(\"EC\")\n",
    "\n",
    "\n",
    "plt.legend()\n",
    "plt.show()"
   ]
  },
  {
   "cell_type": "markdown",
   "id": "bca56328",
   "metadata": {},
   "source": [
    "## Forecasting. The model will predict the value of the Electrical Conductivity for the next unknown hour given the values of the other four features."
   ]
  },
  {
   "cell_type": "code",
   "execution_count": 61,
   "id": "cd76b98e",
   "metadata": {},
   "outputs": [],
   "source": [
    "dates =pd.to_datetime(df2_date['Date'].iloc[8664]) # get the final date"
   ]
  },
  {
   "cell_type": "code",
   "execution_count": 62,
   "id": "96eeb11c",
   "metadata": {},
   "outputs": [],
   "source": [
    "#Label the forecasted date\n",
    "n_past = 0\n",
    "n_days_for_prediction=2  #Predict the next 60 days using the previous 90\n",
    "\n",
    "predict_period_dates = pd.date_range(dates, periods=n_days_for_prediction, freq='h').tolist()"
   ]
  },
  {
   "cell_type": "code",
   "execution_count": 63,
   "id": "12a543c4",
   "metadata": {},
   "outputs": [],
   "source": [
    "predict_period_dates=pd.DataFrame(predict_period_dates)\n",
    "predict_period_dates=predict_period_dates[-1:]\n",
    "predict_period_dates.columns=['Date']\n",
    "predict_period_dates=predict_period_dates.reset_index(drop=True)"
   ]
  },
  {
   "cell_type": "code",
   "execution_count": 83,
   "id": "b90f8413",
   "metadata": {},
   "outputs": [],
   "source": [
    "for_forecast=df2_test[-14:]\n",
    "for_forecast=for_forecast.drop(columns={'index'})\n",
    "for_forecast=for_forecast.reset_index(drop=True)"
   ]
  },
  {
   "cell_type": "markdown",
   "id": "5c7e7d18",
   "metadata": {},
   "source": [
    "## Read the forecasted by MLPs Values of the other four Features"
   ]
  },
  {
   "cell_type": "code",
   "execution_count": 84,
   "id": "67b4c176",
   "metadata": {},
   "outputs": [],
   "source": [
    "new_values = pd.read_excel('forecasted_by_mlps.xlsx',header=0)"
   ]
  },
  {
   "cell_type": "code",
   "execution_count": 85,
   "id": "f483ae49",
   "metadata": {},
   "outputs": [],
   "source": [
    "#new_values=new_values.rename(columns={'Atm.Temperature Forecasted':'Atm.Temperature','Mean Watertemperature per Hour Forecasted':'Mean Watertemperature per Hour','Salinity Forecasted':'Mean Salinity per Hour','Chlorofyl Forecasted':'Mean Chlorofyl per Hour'})"
   ]
  },
  {
   "cell_type": "code",
   "execution_count": 86,
   "id": "428e09dd",
   "metadata": {},
   "outputs": [],
   "source": [
    "for_forecast=for_forecast.append(new_values,ignore_index=True)"
   ]
  },
  {
   "cell_type": "code",
   "execution_count": 102,
   "id": "045c128b",
   "metadata": {},
   "outputs": [],
   "source": [
    "for_forecast_dates=for_forecast[['Date']]\n",
    "for_forecast_dates=for_forecast_dates.iloc[-14:]"
   ]
  },
  {
   "cell_type": "code",
   "execution_count": 89,
   "id": "ba658e9e",
   "metadata": {},
   "outputs": [],
   "source": [
    "for_forecast_scaled=sc.fit_transform(for_forecast[['Atm.Temperature','Mean Watertemperature per Hour','Mean Salinity per Hour','Mean Chlorofyl per Hour']])"
   ]
  },
  {
   "cell_type": "code",
   "execution_count": 70,
   "id": "4765eb02",
   "metadata": {},
   "outputs": [
    {
     "data": {
      "text/plain": [
       "Atm.Temperature                              1.123779\n",
       "Mean Watertemperature per Hour              10.033001\n",
       "Mean Salinity per Hour                       0.502815\n",
       "Mean Conductivity per Hour                        NaN\n",
       "Mean Chlorofyl per Hour                     11.150275\n",
       "Date                              2022-04-03 01:00:00\n",
       "Name: 28, dtype: object"
      ]
     },
     "execution_count": 70,
     "metadata": {},
     "output_type": "execute_result"
    }
   ],
   "source": [
    "#for_forecast.loc[28]"
   ]
  },
  {
   "cell_type": "markdown",
   "id": "a9d78ee1",
   "metadata": {},
   "source": [
    "## Use the previous fourteen records and the new fourteen ones in order to keep the all the new ones after reshaping"
   ]
  },
  {
   "cell_type": "markdown",
   "id": "eb933b5f",
   "metadata": {},
   "source": [
    "### Reshaping "
   ]
  },
  {
   "cell_type": "code",
   "execution_count": 91,
   "id": "6c0fb8c8",
   "metadata": {},
   "outputs": [],
   "source": [
    "hops=14\n",
    "no_records=1000\n",
    "no_cols=4\n",
    "X_train_shape_pred=[]\n",
    "\n",
    "for i in range(14,28):\n",
    "    X_train_shape_pred.append(for_forecast_scaled[i-14:i])\n",
    "X_train_shape_for=np.array(X_train_shape_pred)"
   ]
  },
  {
   "cell_type": "code",
   "execution_count": 92,
   "id": "9250203b",
   "metadata": {},
   "outputs": [
    {
     "data": {
      "text/plain": [
       "(14, 14, 4)"
      ]
     },
     "execution_count": 92,
     "metadata": {},
     "output_type": "execute_result"
    }
   ],
   "source": [
    "X_train_shape_for.shape"
   ]
  },
  {
   "cell_type": "markdown",
   "id": "d75a9792",
   "metadata": {},
   "source": [
    "### Make the forecast "
   ]
  },
  {
   "cell_type": "code",
   "execution_count": 95,
   "id": "c77da888",
   "metadata": {},
   "outputs": [],
   "source": [
    "forecast=model4.predict(X_train_shape_for)"
   ]
  },
  {
   "cell_type": "code",
   "execution_count": 75,
   "id": "b13feabb",
   "metadata": {},
   "outputs": [],
   "source": [
    "#forecast=forecast[len(forecast) - 1]"
   ]
  },
  {
   "cell_type": "markdown",
   "id": "1d83c2b6",
   "metadata": {},
   "source": [
    "### Inverse Scaling "
   ]
  },
  {
   "cell_type": "code",
   "execution_count": 98,
   "id": "1a6c9a23",
   "metadata": {},
   "outputs": [],
   "source": [
    "forecast_final_pred=sc2.inverse_transform(forecast)\n"
   ]
  },
  {
   "cell_type": "markdown",
   "id": "48266d4f",
   "metadata": {},
   "source": [
    "## Preprocess for demonstration "
   ]
  },
  {
   "cell_type": "code",
   "execution_count": 134,
   "id": "50eac9f6",
   "metadata": {},
   "outputs": [],
   "source": [
    "forecast_final=pd.concat([for_forecast_dates.reset_index(drop=True),pd.DataFrame(forecast_final_pred)],axis=1)\n",
    "forecast_final=forecast_final.rename(columns={0:'EC Forecasted'})\n",
    "for_display=pd.concat((final.iloc[-50:],forecast_final))\n",
    "for_display=for_display.reset_index(drop=True)\n"
   ]
  },
  {
   "cell_type": "code",
   "execution_count": 135,
   "id": "a06861ec",
   "metadata": {},
   "outputs": [
    {
     "data": {
      "text/html": [
       "<div>\n",
       "<style scoped>\n",
       "    .dataframe tbody tr th:only-of-type {\n",
       "        vertical-align: middle;\n",
       "    }\n",
       "\n",
       "    .dataframe tbody tr th {\n",
       "        vertical-align: top;\n",
       "    }\n",
       "\n",
       "    .dataframe thead th {\n",
       "        text-align: right;\n",
       "    }\n",
       "</style>\n",
       "<table border=\"1\" class=\"dataframe\">\n",
       "  <thead>\n",
       "    <tr style=\"text-align: right;\">\n",
       "      <th></th>\n",
       "      <th>final_ec_pred</th>\n",
       "      <th>Atm.Temperature</th>\n",
       "      <th>Mean Watertemperature per Hour</th>\n",
       "      <th>Mean Salinity per Hour</th>\n",
       "      <th>Mean Conductivity per Hour</th>\n",
       "      <th>Mean Chlorofyl per Hour</th>\n",
       "      <th>Date</th>\n",
       "      <th>EC Forecasted</th>\n",
       "    </tr>\n",
       "  </thead>\n",
       "  <tbody>\n",
       "    <tr>\n",
       "      <th>0</th>\n",
       "      <td>738.862610</td>\n",
       "      <td>1.9</td>\n",
       "      <td>11.800000</td>\n",
       "      <td>0.490000</td>\n",
       "      <td>735.0</td>\n",
       "      <td>10.441667</td>\n",
       "      <td>2022-03-31 23:00:00</td>\n",
       "      <td>NaN</td>\n",
       "    </tr>\n",
       "    <tr>\n",
       "      <th>1</th>\n",
       "      <td>736.773438</td>\n",
       "      <td>1.7</td>\n",
       "      <td>11.741667</td>\n",
       "      <td>0.492500</td>\n",
       "      <td>741.0</td>\n",
       "      <td>8.358333</td>\n",
       "      <td>2022-04-01 00:00:00</td>\n",
       "      <td>NaN</td>\n",
       "    </tr>\n",
       "    <tr>\n",
       "      <th>2</th>\n",
       "      <td>737.010864</td>\n",
       "      <td>1.1</td>\n",
       "      <td>11.700000</td>\n",
       "      <td>0.498333</td>\n",
       "      <td>745.0</td>\n",
       "      <td>9.466667</td>\n",
       "      <td>2022-04-01 01:00:00</td>\n",
       "      <td>NaN</td>\n",
       "    </tr>\n",
       "    <tr>\n",
       "      <th>3</th>\n",
       "      <td>741.652100</td>\n",
       "      <td>0.9</td>\n",
       "      <td>11.625000</td>\n",
       "      <td>0.499167</td>\n",
       "      <td>746.0</td>\n",
       "      <td>9.200000</td>\n",
       "      <td>2022-04-01 02:00:00</td>\n",
       "      <td>NaN</td>\n",
       "    </tr>\n",
       "    <tr>\n",
       "      <th>4</th>\n",
       "      <td>740.742371</td>\n",
       "      <td>0.6</td>\n",
       "      <td>11.558333</td>\n",
       "      <td>0.498333</td>\n",
       "      <td>745.0</td>\n",
       "      <td>9.783333</td>\n",
       "      <td>2022-04-01 03:00:00</td>\n",
       "      <td>NaN</td>\n",
       "    </tr>\n",
       "  </tbody>\n",
       "</table>\n",
       "</div>"
      ],
      "text/plain": [
       "   final_ec_pred  Atm.Temperature  Mean Watertemperature per Hour  \\\n",
       "0     738.862610              1.9                       11.800000   \n",
       "1     736.773438              1.7                       11.741667   \n",
       "2     737.010864              1.1                       11.700000   \n",
       "3     741.652100              0.9                       11.625000   \n",
       "4     740.742371              0.6                       11.558333   \n",
       "\n",
       "   Mean Salinity per Hour  Mean Conductivity per Hour  \\\n",
       "0                0.490000                       735.0   \n",
       "1                0.492500                       741.0   \n",
       "2                0.498333                       745.0   \n",
       "3                0.499167                       746.0   \n",
       "4                0.498333                       745.0   \n",
       "\n",
       "   Mean Chlorofyl per Hour                Date  EC Forecasted  \n",
       "0                10.441667 2022-03-31 23:00:00            NaN  \n",
       "1                 8.358333 2022-04-01 00:00:00            NaN  \n",
       "2                 9.466667 2022-04-01 01:00:00            NaN  \n",
       "3                 9.200000 2022-04-01 02:00:00            NaN  \n",
       "4                 9.783333 2022-04-01 03:00:00            NaN  "
      ]
     },
     "execution_count": 135,
     "metadata": {},
     "output_type": "execute_result"
    }
   ],
   "source": [
    "for_display.head()"
   ]
  },
  {
   "cell_type": "markdown",
   "id": "a8782ba7",
   "metadata": {},
   "source": [
    "## Plot the forecasted EC Value"
   ]
  },
  {
   "cell_type": "code",
   "execution_count": 136,
   "id": "34e021be",
   "metadata": {},
   "outputs": [
    {
     "data": {
      "image/png": "[encoded data removed]",
      "text/plain": [
       "<Figure size 720x720 with 1 Axes>"
      ]
     },
     "metadata": {
      "needs_background": "light"
     },
     "output_type": "display_data"
    }
   ],
   "source": [
    "\n",
    "plt.figure(figsize=(10, 10))\n",
    "plt.plot(for_display['Date'],for_display['Mean Conductivity per Hour'],label='Actual',color='red')\n",
    "plt.plot(for_display['Date'],for_display['final_ec_pred'],label='Predicted',color='blue')\n",
    "plt.plot(for_display['Date'],for_display['EC Forecasted'],label='Forecasted',color='green')\n",
    "plt.title(\"Electric Conductivity: Actual vs Predicted & Next Hour Forecast by LSTM\")\n",
    "plt.xlabel(\"Date\")\n",
    "plt.ylabel(\"EC\")\n",
    "plt.legend()\n",
    "plt.show()"
   ]
  },
  {
   "cell_type": "code",
   "execution_count": null,
   "id": "f1fd5269",
   "metadata": {},
   "outputs": [],
   "source": []
  }
 ],
 "metadata": {
  "kernelspec": {
   "display_name": "Python 3",
   "language": "python",
   "name": "python3"
  },
  "language_info": {
   "codemirror_mode": {
    "name": "ipython",
    "version": 3
   },
   "file_extension": ".py",
   "mimetype": "text/x-python",
   "name": "python",
   "nbconvert_exporter": "python",
   "pygments_lexer": "ipython3",
   "version": "3.8.10"
  }
 },
 "nbformat": 4,
 "nbformat_minor": 5
}
