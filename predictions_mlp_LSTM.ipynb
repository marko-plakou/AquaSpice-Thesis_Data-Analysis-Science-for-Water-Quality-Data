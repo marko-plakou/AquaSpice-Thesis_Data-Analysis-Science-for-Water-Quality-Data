{
 "cells": [
  {
   "cell_type": "code",
   "execution_count": 126,
   "id": "f1681b5f",
   "metadata": {},
   "outputs": [],
   "source": [
    "import pandas as pd\n",
    "import numpy as np\n",
    "from sklearn.preprocessing import LabelEncoder\n",
    "import tensorflow as tf\n",
    "from keras.utils import np_utils\n",
    "from keras.models import Sequential\n",
    "#from keras.layers import Dense\n",
    "import matplotlib.pyplot as plt\n",
    "from sklearn.metrics import mean_squared_error, r2_score\n",
    "from sklearn.preprocessing import MinMaxScaler\n",
    "import seaborn as sns\n",
    "import openpyxl\n",
    "#from tensorflow.keras.models import Sequential\n",
    "from tensorflow.keras.layers import *\n",
    "from tensorflow.keras.callbacks import ModelCheckpoint\n",
    "from tensorflow.keras.losses import MeanSquaredError\n",
    "from tensorflow.keras.metrics import RootMeanSquaredError\n",
    "from tensorflow.keras.optimizers import Adam\n",
    "\n",
    "from sklearn.preprocessing import StandardScaler"
   ]
  },
  {
   "cell_type": "markdown",
   "id": "ef53b62c",
   "metadata": {},
   "source": [
    "## Read Data Set "
   ]
  },
  {
   "cell_type": "code",
   "execution_count": 127,
   "id": "73a45e05",
   "metadata": {},
   "outputs": [],
   "source": [
    "data=pd.read_excel('final_df.xlsx',header=0)"
   ]
  },
  {
   "cell_type": "code",
   "execution_count": 128,
   "id": "dc387b0e",
   "metadata": {},
   "outputs": [],
   "source": [
    "data=data.set_index('Date')"
   ]
  },
  {
   "cell_type": "code",
   "execution_count": 129,
   "id": "d270b549",
   "metadata": {},
   "outputs": [
    {
     "data": {
      "text/html": [
       "<div>\n",
       "<style scoped>\n",
       "    .dataframe tbody tr th:only-of-type {\n",
       "        vertical-align: middle;\n",
       "    }\n",
       "\n",
       "    .dataframe tbody tr th {\n",
       "        vertical-align: top;\n",
       "    }\n",
       "\n",
       "    .dataframe thead th {\n",
       "        text-align: right;\n",
       "    }\n",
       "</style>\n",
       "<table border=\"1\" class=\"dataframe\">\n",
       "  <thead>\n",
       "    <tr style=\"text-align: right;\">\n",
       "      <th></th>\n",
       "      <th>Average Temperature</th>\n",
       "      <th>Mean Watertemperature</th>\n",
       "      <th>Mean Salinity</th>\n",
       "      <th>Mean Conductivity</th>\n",
       "      <th>Mean Chlorofyl</th>\n",
       "    </tr>\n",
       "    <tr>\n",
       "      <th>Date</th>\n",
       "      <th></th>\n",
       "      <th></th>\n",
       "      <th></th>\n",
       "      <th></th>\n",
       "      <th></th>\n",
       "    </tr>\n",
       "  </thead>\n",
       "  <tbody>\n",
       "    <tr>\n",
       "      <th>2021-04-03</th>\n",
       "      <td>7.1</td>\n",
       "      <td>9.778000</td>\n",
       "      <td>0.473533</td>\n",
       "      <td>677.460000</td>\n",
       "      <td>6.628758</td>\n",
       "    </tr>\n",
       "    <tr>\n",
       "      <th>2021-04-04</th>\n",
       "      <td>6.1</td>\n",
       "      <td>9.778000</td>\n",
       "      <td>0.473533</td>\n",
       "      <td>677.460000</td>\n",
       "      <td>6.628758</td>\n",
       "    </tr>\n",
       "    <tr>\n",
       "      <th>2021-04-05</th>\n",
       "      <td>4.4</td>\n",
       "      <td>9.778000</td>\n",
       "      <td>0.473533</td>\n",
       "      <td>677.460000</td>\n",
       "      <td>6.628758</td>\n",
       "    </tr>\n",
       "    <tr>\n",
       "      <th>2021-04-06</th>\n",
       "      <td>1.9</td>\n",
       "      <td>9.778000</td>\n",
       "      <td>0.473533</td>\n",
       "      <td>677.460000</td>\n",
       "      <td>6.628758</td>\n",
       "    </tr>\n",
       "    <tr>\n",
       "      <th>2021-04-07</th>\n",
       "      <td>2.8</td>\n",
       "      <td>9.214583</td>\n",
       "      <td>0.464062</td>\n",
       "      <td>653.989583</td>\n",
       "      <td>6.435069</td>\n",
       "    </tr>\n",
       "  </tbody>\n",
       "</table>\n",
       "</div>"
      ],
      "text/plain": [
       "            Average Temperature  Mean Watertemperature  Mean Salinity  \\\n",
       "Date                                                                    \n",
       "2021-04-03                  7.1               9.778000       0.473533   \n",
       "2021-04-04                  6.1               9.778000       0.473533   \n",
       "2021-04-05                  4.4               9.778000       0.473533   \n",
       "2021-04-06                  1.9               9.778000       0.473533   \n",
       "2021-04-07                  2.8               9.214583       0.464062   \n",
       "\n",
       "            Mean Conductivity  Mean Chlorofyl  \n",
       "Date                                           \n",
       "2021-04-03         677.460000        6.628758  \n",
       "2021-04-04         677.460000        6.628758  \n",
       "2021-04-05         677.460000        6.628758  \n",
       "2021-04-06         677.460000        6.628758  \n",
       "2021-04-07         653.989583        6.435069  "
      ]
     },
     "execution_count": 129,
     "metadata": {},
     "output_type": "execute_result"
    }
   ],
   "source": [
    "data.head()"
   ]
  },
  {
   "cell_type": "markdown",
   "id": "a031058a",
   "metadata": {},
   "source": [
    "# First Regression Approach with an MultiLayerPerceptron (Requires Data Transformation in order to make the df supervised)"
   ]
  },
  {
   "cell_type": "markdown",
   "id": "4a655a0c",
   "metadata": {},
   "source": [
    "## Isolate Mean Conductivity Feature "
   ]
  },
  {
   "cell_type": "code",
   "execution_count": 130,
   "id": "44705e18",
   "metadata": {},
   "outputs": [],
   "source": [
    "only_mean_conductivity=data['Mean Conductivity'].to_frame(name='Mean Conductivity')"
   ]
  },
  {
   "cell_type": "code",
   "execution_count": 131,
   "id": "7977d744",
   "metadata": {},
   "outputs": [
    {
     "data": {
      "text/html": [
       "<div>\n",
       "<style scoped>\n",
       "    .dataframe tbody tr th:only-of-type {\n",
       "        vertical-align: middle;\n",
       "    }\n",
       "\n",
       "    .dataframe tbody tr th {\n",
       "        vertical-align: top;\n",
       "    }\n",
       "\n",
       "    .dataframe thead th {\n",
       "        text-align: right;\n",
       "    }\n",
       "</style>\n",
       "<table border=\"1\" class=\"dataframe\">\n",
       "  <thead>\n",
       "    <tr style=\"text-align: right;\">\n",
       "      <th></th>\n",
       "      <th>Mean Conductivity</th>\n",
       "    </tr>\n",
       "    <tr>\n",
       "      <th>Date</th>\n",
       "      <th></th>\n",
       "    </tr>\n",
       "  </thead>\n",
       "  <tbody>\n",
       "    <tr>\n",
       "      <th>2021-04-03</th>\n",
       "      <td>677.460000</td>\n",
       "    </tr>\n",
       "    <tr>\n",
       "      <th>2021-04-04</th>\n",
       "      <td>677.460000</td>\n",
       "    </tr>\n",
       "    <tr>\n",
       "      <th>2021-04-05</th>\n",
       "      <td>677.460000</td>\n",
       "    </tr>\n",
       "    <tr>\n",
       "      <th>2021-04-06</th>\n",
       "      <td>677.460000</td>\n",
       "    </tr>\n",
       "    <tr>\n",
       "      <th>2021-04-07</th>\n",
       "      <td>653.989583</td>\n",
       "    </tr>\n",
       "  </tbody>\n",
       "</table>\n",
       "</div>"
      ],
      "text/plain": [
       "            Mean Conductivity\n",
       "Date                         \n",
       "2021-04-03         677.460000\n",
       "2021-04-04         677.460000\n",
       "2021-04-05         677.460000\n",
       "2021-04-06         677.460000\n",
       "2021-04-07         653.989583"
      ]
     },
     "execution_count": 131,
     "metadata": {},
     "output_type": "execute_result"
    }
   ],
   "source": [
    "only_mean_conductivity.head()"
   ]
  },
  {
   "cell_type": "markdown",
   "id": "62486902",
   "metadata": {},
   "source": [
    "## Standarization Using Min Max Scaler "
   ]
  },
  {
   "cell_type": "code",
   "execution_count": 132,
   "id": "24e912bd",
   "metadata": {},
   "outputs": [],
   "source": [
    "df= only_mean_conductivity.copy()\n",
    "min_max_scaler = MinMaxScaler(feature_range=(0, 1))\n",
    "df_scaled  = min_max_scaler.fit_transform(np.reshape(df['Mean Conductivity'].values, (df.shape[0], 1)))\n",
    "df_scaled  = pd.DataFrame(data=df_scaled , columns=['Mean Conductivity'])"
   ]
  },
  {
   "cell_type": "code",
   "execution_count": 133,
   "id": "3a73d117",
   "metadata": {},
   "outputs": [
    {
     "data": {
      "text/html": [
       "<div>\n",
       "<style scoped>\n",
       "    .dataframe tbody tr th:only-of-type {\n",
       "        vertical-align: middle;\n",
       "    }\n",
       "\n",
       "    .dataframe tbody tr th {\n",
       "        vertical-align: top;\n",
       "    }\n",
       "\n",
       "    .dataframe thead th {\n",
       "        text-align: right;\n",
       "    }\n",
       "</style>\n",
       "<table border=\"1\" class=\"dataframe\">\n",
       "  <thead>\n",
       "    <tr style=\"text-align: right;\">\n",
       "      <th></th>\n",
       "      <th>Mean Conductivity</th>\n",
       "    </tr>\n",
       "  </thead>\n",
       "  <tbody>\n",
       "    <tr>\n",
       "      <th>0</th>\n",
       "      <td>0.569146</td>\n",
       "    </tr>\n",
       "    <tr>\n",
       "      <th>1</th>\n",
       "      <td>0.569146</td>\n",
       "    </tr>\n",
       "    <tr>\n",
       "      <th>2</th>\n",
       "      <td>0.569146</td>\n",
       "    </tr>\n",
       "    <tr>\n",
       "      <th>3</th>\n",
       "      <td>0.569146</td>\n",
       "    </tr>\n",
       "    <tr>\n",
       "      <th>4</th>\n",
       "      <td>0.523979</td>\n",
       "    </tr>\n",
       "  </tbody>\n",
       "</table>\n",
       "</div>"
      ],
      "text/plain": [
       "   Mean Conductivity\n",
       "0           0.569146\n",
       "1           0.569146\n",
       "2           0.569146\n",
       "3           0.569146\n",
       "4           0.523979"
      ]
     },
     "execution_count": 133,
     "metadata": {},
     "output_type": "execute_result"
    }
   ],
   "source": [
    "df_scaled.head()"
   ]
  },
  {
   "cell_type": "markdown",
   "id": "f59477bf",
   "metadata": {},
   "source": [
    "# Make data Supervised: Use past 90 registrations (days in our case) to predict the next one.\n",
    "\n",
    "## Make each input a set of the 90 previous registrations.\n",
    "## Make the target the next Mean conductibity Value. (Next Day's Value)"
   ]
  },
  {
   "cell_type": "code",
   "execution_count": 134,
   "id": "57ea8e37",
   "metadata": {},
   "outputs": [],
   "source": [
    "def timeseries_to_supervised(df, n_in, n_out):\n",
    "   agg = pd.DataFrame()\n",
    "\n",
    "   for i in range(n_in, 0, -1):\n",
    "      df_shifted = df.shift(i).copy()\n",
    "      df_shifted.rename(columns=lambda x: ('%s(t-%d)' % (x, i)), inplace=True)\n",
    "      agg = pd.concat([agg, df_shifted], axis=1)\n",
    "\n",
    "   for i in range(0, n_out):\n",
    "      df_shifted = df.shift(-i).copy()\n",
    "      if i == 0:\n",
    "         df_shifted.rename(columns=lambda x: ('%s(t)' % (x)), inplace=True)\n",
    "      else:\n",
    "         df_shifted.rename(columns=lambda x: ('%s(t+%d)' % (x, i)), inplace=True)\n",
    "      agg = pd.concat([agg, df_shifted], axis=1)\n",
    "   agg.dropna(inplace=True)\n",
    "   return agg"
   ]
  },
  {
   "cell_type": "code",
   "execution_count": 135,
   "id": "9d32f79a",
   "metadata": {},
   "outputs": [],
   "source": [
    "n_in = 90 #Timeseries consists of 90 input steps.\n",
    "n_out = 1\n",
    "sdf = timeseries_to_supervised(df_scaled, n_in, n_out)"
   ]
  },
  {
   "cell_type": "code",
   "execution_count": 136,
   "id": "fbf3cd1c",
   "metadata": {},
   "outputs": [
    {
     "data": {
      "text/html": [
       "<div>\n",
       "<style scoped>\n",
       "    .dataframe tbody tr th:only-of-type {\n",
       "        vertical-align: middle;\n",
       "    }\n",
       "\n",
       "    .dataframe tbody tr th {\n",
       "        vertical-align: top;\n",
       "    }\n",
       "\n",
       "    .dataframe thead th {\n",
       "        text-align: right;\n",
       "    }\n",
       "</style>\n",
       "<table border=\"1\" class=\"dataframe\">\n",
       "  <thead>\n",
       "    <tr style=\"text-align: right;\">\n",
       "      <th></th>\n",
       "      <th>Mean Conductivity(t-90)</th>\n",
       "      <th>Mean Conductivity(t-89)</th>\n",
       "      <th>Mean Conductivity(t-88)</th>\n",
       "      <th>Mean Conductivity(t-87)</th>\n",
       "      <th>Mean Conductivity(t-86)</th>\n",
       "      <th>Mean Conductivity(t-85)</th>\n",
       "      <th>Mean Conductivity(t-84)</th>\n",
       "      <th>Mean Conductivity(t-83)</th>\n",
       "      <th>Mean Conductivity(t-82)</th>\n",
       "      <th>Mean Conductivity(t-81)</th>\n",
       "      <th>...</th>\n",
       "      <th>Mean Conductivity(t-9)</th>\n",
       "      <th>Mean Conductivity(t-8)</th>\n",
       "      <th>Mean Conductivity(t-7)</th>\n",
       "      <th>Mean Conductivity(t-6)</th>\n",
       "      <th>Mean Conductivity(t-5)</th>\n",
       "      <th>Mean Conductivity(t-4)</th>\n",
       "      <th>Mean Conductivity(t-3)</th>\n",
       "      <th>Mean Conductivity(t-2)</th>\n",
       "      <th>Mean Conductivity(t-1)</th>\n",
       "      <th>Mean Conductivity(t)</th>\n",
       "    </tr>\n",
       "  </thead>\n",
       "  <tbody>\n",
       "    <tr>\n",
       "      <th>90</th>\n",
       "      <td>0.569146</td>\n",
       "      <td>0.569146</td>\n",
       "      <td>0.569146</td>\n",
       "      <td>0.569146</td>\n",
       "      <td>0.523979</td>\n",
       "      <td>0.515446</td>\n",
       "      <td>0.528569</td>\n",
       "      <td>0.560122</td>\n",
       "      <td>0.586737</td>\n",
       "      <td>0.581592</td>\n",
       "      <td>...</td>\n",
       "      <td>0.759818</td>\n",
       "      <td>0.718429</td>\n",
       "      <td>0.654093</td>\n",
       "      <td>0.592878</td>\n",
       "      <td>0.534055</td>\n",
       "      <td>0.511477</td>\n",
       "      <td>0.563824</td>\n",
       "      <td>0.553841</td>\n",
       "      <td>0.532605</td>\n",
       "      <td>0.544633</td>\n",
       "    </tr>\n",
       "    <tr>\n",
       "      <th>91</th>\n",
       "      <td>0.569146</td>\n",
       "      <td>0.569146</td>\n",
       "      <td>0.569146</td>\n",
       "      <td>0.523979</td>\n",
       "      <td>0.515446</td>\n",
       "      <td>0.528569</td>\n",
       "      <td>0.560122</td>\n",
       "      <td>0.586737</td>\n",
       "      <td>0.581592</td>\n",
       "      <td>0.536661</td>\n",
       "      <td>...</td>\n",
       "      <td>0.718429</td>\n",
       "      <td>0.654093</td>\n",
       "      <td>0.592878</td>\n",
       "      <td>0.534055</td>\n",
       "      <td>0.511477</td>\n",
       "      <td>0.563824</td>\n",
       "      <td>0.553841</td>\n",
       "      <td>0.532605</td>\n",
       "      <td>0.544633</td>\n",
       "      <td>0.608701</td>\n",
       "    </tr>\n",
       "    <tr>\n",
       "      <th>92</th>\n",
       "      <td>0.569146</td>\n",
       "      <td>0.569146</td>\n",
       "      <td>0.523979</td>\n",
       "      <td>0.515446</td>\n",
       "      <td>0.528569</td>\n",
       "      <td>0.560122</td>\n",
       "      <td>0.586737</td>\n",
       "      <td>0.581592</td>\n",
       "      <td>0.536661</td>\n",
       "      <td>0.581605</td>\n",
       "      <td>...</td>\n",
       "      <td>0.654093</td>\n",
       "      <td>0.592878</td>\n",
       "      <td>0.534055</td>\n",
       "      <td>0.511477</td>\n",
       "      <td>0.563824</td>\n",
       "      <td>0.553841</td>\n",
       "      <td>0.532605</td>\n",
       "      <td>0.544633</td>\n",
       "      <td>0.608701</td>\n",
       "      <td>0.615965</td>\n",
       "    </tr>\n",
       "    <tr>\n",
       "      <th>93</th>\n",
       "      <td>0.569146</td>\n",
       "      <td>0.523979</td>\n",
       "      <td>0.515446</td>\n",
       "      <td>0.528569</td>\n",
       "      <td>0.560122</td>\n",
       "      <td>0.586737</td>\n",
       "      <td>0.581592</td>\n",
       "      <td>0.536661</td>\n",
       "      <td>0.581605</td>\n",
       "      <td>0.587893</td>\n",
       "      <td>...</td>\n",
       "      <td>0.592878</td>\n",
       "      <td>0.534055</td>\n",
       "      <td>0.511477</td>\n",
       "      <td>0.563824</td>\n",
       "      <td>0.553841</td>\n",
       "      <td>0.532605</td>\n",
       "      <td>0.544633</td>\n",
       "      <td>0.608701</td>\n",
       "      <td>0.615965</td>\n",
       "      <td>0.534022</td>\n",
       "    </tr>\n",
       "    <tr>\n",
       "      <th>94</th>\n",
       "      <td>0.523979</td>\n",
       "      <td>0.515446</td>\n",
       "      <td>0.528569</td>\n",
       "      <td>0.560122</td>\n",
       "      <td>0.586737</td>\n",
       "      <td>0.581592</td>\n",
       "      <td>0.536661</td>\n",
       "      <td>0.581605</td>\n",
       "      <td>0.587893</td>\n",
       "      <td>0.542722</td>\n",
       "      <td>...</td>\n",
       "      <td>0.534055</td>\n",
       "      <td>0.511477</td>\n",
       "      <td>0.563824</td>\n",
       "      <td>0.553841</td>\n",
       "      <td>0.532605</td>\n",
       "      <td>0.544633</td>\n",
       "      <td>0.608701</td>\n",
       "      <td>0.615965</td>\n",
       "      <td>0.534022</td>\n",
       "      <td>0.440419</td>\n",
       "    </tr>\n",
       "  </tbody>\n",
       "</table>\n",
       "<p>5 rows × 91 columns</p>\n",
       "</div>"
      ],
      "text/plain": [
       "    Mean Conductivity(t-90)  Mean Conductivity(t-89)  Mean Conductivity(t-88)  \\\n",
       "90                 0.569146                 0.569146                 0.569146   \n",
       "91                 0.569146                 0.569146                 0.569146   \n",
       "92                 0.569146                 0.569146                 0.523979   \n",
       "93                 0.569146                 0.523979                 0.515446   \n",
       "94                 0.523979                 0.515446                 0.528569   \n",
       "\n",
       "    Mean Conductivity(t-87)  Mean Conductivity(t-86)  Mean Conductivity(t-85)  \\\n",
       "90                 0.569146                 0.523979                 0.515446   \n",
       "91                 0.523979                 0.515446                 0.528569   \n",
       "92                 0.515446                 0.528569                 0.560122   \n",
       "93                 0.528569                 0.560122                 0.586737   \n",
       "94                 0.560122                 0.586737                 0.581592   \n",
       "\n",
       "    Mean Conductivity(t-84)  Mean Conductivity(t-83)  Mean Conductivity(t-82)  \\\n",
       "90                 0.528569                 0.560122                 0.586737   \n",
       "91                 0.560122                 0.586737                 0.581592   \n",
       "92                 0.586737                 0.581592                 0.536661   \n",
       "93                 0.581592                 0.536661                 0.581605   \n",
       "94                 0.536661                 0.581605                 0.587893   \n",
       "\n",
       "    Mean Conductivity(t-81)  ...  Mean Conductivity(t-9)  \\\n",
       "90                 0.581592  ...                0.759818   \n",
       "91                 0.536661  ...                0.718429   \n",
       "92                 0.581605  ...                0.654093   \n",
       "93                 0.587893  ...                0.592878   \n",
       "94                 0.542722  ...                0.534055   \n",
       "\n",
       "    Mean Conductivity(t-8)  Mean Conductivity(t-7)  Mean Conductivity(t-6)  \\\n",
       "90                0.718429                0.654093                0.592878   \n",
       "91                0.654093                0.592878                0.534055   \n",
       "92                0.592878                0.534055                0.511477   \n",
       "93                0.534055                0.511477                0.563824   \n",
       "94                0.511477                0.563824                0.553841   \n",
       "\n",
       "    Mean Conductivity(t-5)  Mean Conductivity(t-4)  Mean Conductivity(t-3)  \\\n",
       "90                0.534055                0.511477                0.563824   \n",
       "91                0.511477                0.563824                0.553841   \n",
       "92                0.563824                0.553841                0.532605   \n",
       "93                0.553841                0.532605                0.544633   \n",
       "94                0.532605                0.544633                0.608701   \n",
       "\n",
       "    Mean Conductivity(t-2)  Mean Conductivity(t-1)  Mean Conductivity(t)  \n",
       "90                0.553841                0.532605              0.544633  \n",
       "91                0.532605                0.544633              0.608701  \n",
       "92                0.544633                0.608701              0.615965  \n",
       "93                0.608701                0.615965              0.534022  \n",
       "94                0.615965                0.534022              0.440419  \n",
       "\n",
       "[5 rows x 91 columns]"
      ]
     },
     "execution_count": 136,
     "metadata": {},
     "output_type": "execute_result"
    }
   ],
   "source": [
    "sdf.head()"
   ]
  },
  {
   "cell_type": "code",
   "execution_count": 137,
   "id": "9a6f12c4",
   "metadata": {},
   "outputs": [],
   "source": [
    "X, y = sdf[[('Mean Conductivity(t-%d)' % i) for i in range(90, 0, -1)]].values, sdf['Mean Conductivity(t)'].values #seperate X as the 90 steps of the timeseries and y as the predicted value(target)."
   ]
  },
  {
   "cell_type": "markdown",
   "id": "b977336b",
   "metadata": {},
   "source": [
    "## Seperate the dataset for Training and Testing"
   ]
  },
  {
   "cell_type": "code",
   "execution_count": 138,
   "id": "0f4d5d49",
   "metadata": {},
   "outputs": [
    {
     "name": "stdout",
     "output_type": "stream",
     "text": [
      "Data size: 276\n",
      "Train  data size: 193\n",
      "Test data size: 83\n",
      "(193, 90) (193,)\n",
      "(83, 90) (83,)\n"
     ]
    }
   ],
   "source": [
    "len_data = X.shape[0]\n",
    "print(\"Data size: %d\" % len_data)\n",
    "train_size = int(len_data * .7)# 70% for training and 30% for testing\n",
    "print (\"Train  data size: %d\" % train_size)\n",
    "print (\"Test data size: %d\" % (len_data - train_size))\n",
    "\n",
    "xtr, ytr = X[:train_size, :], y[:train_size]\n",
    "xte, yte = X[train_size:, :], y[train_size:]\n",
    "print(xtr.shape, ytr.shape)\n",
    "print(xte.shape, yte.shape)"
   ]
  },
  {
   "cell_type": "markdown",
   "id": "d3db4739",
   "metadata": {},
   "source": [
    "## Set up the model"
   ]
  },
  {
   "cell_type": "code",
   "execution_count": 139,
   "id": "160810b7",
   "metadata": {},
   "outputs": [
    {
     "name": "stdout",
     "output_type": "stream",
     "text": [
      "Model: \"sequential_5\"\n",
      "_________________________________________________________________\n",
      "Layer (type)                 Output Shape              Param #   \n",
      "=================================================================\n",
      "dense_11 (Dense)             (None, 50)                4550      \n",
      "_________________________________________________________________\n",
      "dense_12 (Dense)             (None, 50)                2550      \n",
      "_________________________________________________________________\n",
      "dense_13 (Dense)             (None, 1)                 51        \n",
      "=================================================================\n",
      "Total params: 7,151\n",
      "Trainable params: 7,151\n",
      "Non-trainable params: 0\n",
      "_________________________________________________________________\n"
     ]
    }
   ],
   "source": [
    "batch_size = 1 #1\n",
    "model = Sequential()\n",
    "\n",
    "model.add(Dense(units=50, input_dim=xtr.shape[1], activation=\"relu\"))#input dim is 4 as the timeseries steps.\n",
    "model.add(Dense(50, activation=\"relu\"))# linear activation functios was used as well\n",
    "model.add(Dense(1))\n",
    "model.compile(loss='mean_squared_error', optimizer='adam')\n",
    "model.summary()"
   ]
  },
  {
   "cell_type": "markdown",
   "id": "1220147e",
   "metadata": {},
   "source": [
    "## Training the MLP "
   ]
  },
  {
   "cell_type": "code",
   "execution_count": 140,
   "id": "1a5b1732",
   "metadata": {},
   "outputs": [
    {
     "name": "stdout",
     "output_type": "stream",
     "text": [
      "Epoch 1/50\n",
      "193/193 - 0s - loss: 0.0442\n",
      "Epoch 2/50\n",
      "193/193 - 0s - loss: 0.0165\n",
      "Epoch 3/50\n",
      "193/193 - 0s - loss: 0.0147\n",
      "Epoch 4/50\n",
      "193/193 - 0s - loss: 0.0119\n",
      "Epoch 5/50\n",
      "193/193 - 0s - loss: 0.0107\n",
      "Epoch 6/50\n",
      "193/193 - 0s - loss: 0.0115\n",
      "Epoch 7/50\n",
      "193/193 - 0s - loss: 0.0090\n",
      "Epoch 8/50\n",
      "193/193 - 0s - loss: 0.0077\n",
      "Epoch 9/50\n",
      "193/193 - 0s - loss: 0.0105\n",
      "Epoch 10/50\n",
      "193/193 - 0s - loss: 0.0072\n",
      "Epoch 11/50\n",
      "193/193 - 0s - loss: 0.0070\n",
      "Epoch 12/50\n",
      "193/193 - 0s - loss: 0.0073\n",
      "Epoch 13/50\n",
      "193/193 - 0s - loss: 0.0056\n",
      "Epoch 14/50\n",
      "193/193 - 0s - loss: 0.0057\n",
      "Epoch 15/50\n",
      "193/193 - 0s - loss: 0.0077\n",
      "Epoch 16/50\n",
      "193/193 - 0s - loss: 0.0063\n",
      "Epoch 17/50\n",
      "193/193 - 0s - loss: 0.0049\n",
      "Epoch 18/50\n",
      "193/193 - 0s - loss: 0.0048\n",
      "Epoch 19/50\n",
      "193/193 - 0s - loss: 0.0063\n",
      "Epoch 20/50\n",
      "193/193 - 0s - loss: 0.0049\n",
      "Epoch 21/50\n",
      "193/193 - 0s - loss: 0.0057\n",
      "Epoch 22/50\n",
      "193/193 - 0s - loss: 0.0057\n",
      "Epoch 23/50\n",
      "193/193 - 0s - loss: 0.0048\n",
      "Epoch 24/50\n",
      "193/193 - 0s - loss: 0.0062\n",
      "Epoch 25/50\n",
      "193/193 - 0s - loss: 0.0046\n",
      "Epoch 26/50\n",
      "193/193 - 0s - loss: 0.0047\n",
      "Epoch 27/50\n",
      "193/193 - 0s - loss: 0.0049\n",
      "Epoch 28/50\n",
      "193/193 - 0s - loss: 0.0052\n",
      "Epoch 29/50\n",
      "193/193 - 0s - loss: 0.0039\n",
      "Epoch 30/50\n",
      "193/193 - 0s - loss: 0.0044\n",
      "Epoch 31/50\n",
      "193/193 - 0s - loss: 0.0040\n",
      "Epoch 32/50\n",
      "193/193 - 0s - loss: 0.0049\n",
      "Epoch 33/50\n",
      "193/193 - 0s - loss: 0.0037\n",
      "Epoch 34/50\n",
      "193/193 - 0s - loss: 0.0050\n",
      "Epoch 35/50\n",
      "193/193 - 0s - loss: 0.0048\n",
      "Epoch 36/50\n",
      "193/193 - 0s - loss: 0.0030\n",
      "Epoch 37/50\n",
      "193/193 - 0s - loss: 0.0043\n",
      "Epoch 38/50\n",
      "193/193 - 0s - loss: 0.0038\n",
      "Epoch 39/50\n",
      "193/193 - 0s - loss: 0.0043\n",
      "Epoch 40/50\n",
      "193/193 - 0s - loss: 0.0037\n",
      "Epoch 41/50\n",
      "193/193 - 0s - loss: 0.0046\n",
      "Epoch 42/50\n",
      "193/193 - 0s - loss: 0.0039\n",
      "Epoch 43/50\n",
      "193/193 - 0s - loss: 0.0042\n",
      "Epoch 44/50\n",
      "193/193 - 0s - loss: 0.0030\n",
      "Epoch 45/50\n",
      "193/193 - 0s - loss: 0.0039\n",
      "Epoch 46/50\n",
      "193/193 - 0s - loss: 0.0051\n",
      "Epoch 47/50\n",
      "193/193 - 0s - loss: 0.0036\n",
      "Epoch 48/50\n",
      "193/193 - 0s - loss: 0.0027\n",
      "Epoch 49/50\n",
      "193/193 - 0s - loss: 0.0036\n",
      "Epoch 50/50\n",
      "193/193 - 0s - loss: 0.0033\n"
     ]
    },
    {
     "data": {
      "text/plain": [
       "<tensorflow.python.keras.callbacks.History at 0x1e309852f40>"
      ]
     },
     "execution_count": 140,
     "metadata": {},
     "output_type": "execute_result"
    }
   ],
   "source": [
    "model.fit(xtr,ytr, epochs=50, batch_size=batch_size, verbose=2)"
   ]
  },
  {
   "cell_type": "markdown",
   "id": "cb2d8ddb",
   "metadata": {},
   "source": [
    "## Time for Testing "
   ]
  },
  {
   "cell_type": "code",
   "execution_count": 141,
   "id": "1d9d2fa5",
   "metadata": {},
   "outputs": [],
   "source": [
    "trainPredict = model.predict(xtr, batch_size=batch_size)\n",
    "testPredict = model.predict(xte, batch_size=batch_size)"
   ]
  },
  {
   "cell_type": "code",
   "execution_count": 142,
   "id": "54300995",
   "metadata": {},
   "outputs": [],
   "source": [
    "ytr2d = np.reshape(ytr, (ytr.shape[0], 1))\n",
    "yte2d = np.reshape(yte, (yte.shape[0], 1))"
   ]
  },
  {
   "cell_type": "markdown",
   "id": "2cb5b24d",
   "metadata": {},
   "source": [
    "## Inverse Standarization in order to get true predictions "
   ]
  },
  {
   "cell_type": "code",
   "execution_count": 143,
   "id": "79e16d61",
   "metadata": {},
   "outputs": [],
   "source": [
    "trainPredict = min_max_scaler.inverse_transform(trainPredict)\n",
    "trainY = min_max_scaler.inverse_transform(ytr2d)\n",
    "testPredict = min_max_scaler.inverse_transform(testPredict)\n",
    "testY = min_max_scaler.inverse_transform(yte2d)"
   ]
  },
  {
   "cell_type": "markdown",
   "id": "cd69a62e",
   "metadata": {},
   "source": [
    "## Evaluate Regression Performance "
   ]
  },
  {
   "cell_type": "code",
   "execution_count": 144,
   "id": "658ec805",
   "metadata": {},
   "outputs": [
    {
     "name": "stdout",
     "output_type": "stream",
     "text": [
      "Test MSE:  3985.5162827312956\n",
      "Test MAE:  [55.68362051]\n",
      "Test R2:  0.5243689732924559\n"
     ]
    }
   ],
   "source": [
    "print(\"Test MSE: \", mean_squared_error(testY, testPredict))\n",
    "print(\"Test MAE: \", sum(abs(testY-testPredict))/testY.shape[0])\n",
    "print(\"Test R2: \", r2_score(testY, testPredict))"
   ]
  },
  {
   "cell_type": "markdown",
   "id": "aa2bcdb1",
   "metadata": {},
   "source": [
    "## Display the performance during testing. "
   ]
  },
  {
   "cell_type": "code",
   "execution_count": 148,
   "id": "a7d550d1",
   "metadata": {},
   "outputs": [
    {
     "data": {
      "image/png": "[encoded data removed]",
      "text/plain": [
       "<Figure size 432x288 with 1 Axes>"
      ]
     },
     "metadata": {
      "needs_background": "light"
     },
     "output_type": "display_data"
    }
   ],
   "source": [
    "original = testY\n",
    "predicted = testPredict\n",
    "index = range(0, original.shape[0])\n",
    "plt.plot(index,original, 'g',label='Original (Testing)')\n",
    "plt.plot(index,predicted, 'r',label='Predicted')\n",
    "plt.legend()\n",
    "plt.show()"
   ]
  },
  {
   "cell_type": "markdown",
   "id": "0ece166e",
   "metadata": {},
   "source": [
    "## Forecast Future Mean Conductivity Values"
   ]
  },
  {
   "cell_type": "code",
   "execution_count": 152,
   "id": "689788cf",
   "metadata": {},
   "outputs": [],
   "source": [
    "dates=data.reset_index().Date"
   ]
  },
  {
   "cell_type": "code",
   "execution_count": 153,
   "id": "fcced3da",
   "metadata": {},
   "outputs": [],
   "source": [
    "#Label the Dates\n",
    "n_past = 90\n",
    "n_days_for_testing_prediction=150  #predict the next 60 days (150 total dates - 90 first known days)\n",
    "predict_period_dates = pd.date_range(list(dates)[-n_past], periods=n_days_for_testing_prediction,freq='D').tolist()\n"
   ]
  },
  {
   "cell_type": "code",
   "execution_count": 154,
   "id": "1aac7f0f",
   "metadata": {},
   "outputs": [],
   "source": [
    "forecast = model.predict(X[-n_days_for_testing_prediction:], batch_size=batch_size)#predict"
   ]
  },
  {
   "cell_type": "code",
   "execution_count": 155,
   "id": "5311d535",
   "metadata": {},
   "outputs": [],
   "source": [
    "forecasts = min_max_scaler.inverse_transform(forecast)#inverse"
   ]
  },
  {
   "cell_type": "code",
   "execution_count": 156,
   "id": "9b99b2eb",
   "metadata": {},
   "outputs": [],
   "source": [
    "forecasts=np.squeeze(forecasts)#reshape"
   ]
  },
  {
   "cell_type": "code",
   "execution_count": 157,
   "id": "c03cae59",
   "metadata": {},
   "outputs": [],
   "source": [
    "#give the right Date labels\n",
    "forecast_dates = []\n",
    "for time_i in predict_period_dates:\n",
    "    forecast_dates.append(time_i.date())\n",
    "    \n",
    "df_forecast = pd.DataFrame({'Date':np.array(forecast_dates), 'Mean Conductivity Predicted':forecasts})"
   ]
  },
  {
   "cell_type": "code",
   "execution_count": 158,
   "id": "305a3482",
   "metadata": {},
   "outputs": [],
   "source": [
    "df_forecast=df_forecast.iloc[90:]"
   ]
  },
  {
   "cell_type": "code",
   "execution_count": 159,
   "id": "bd9fd75b",
   "metadata": {},
   "outputs": [
    {
     "data": {
      "text/plain": [
       "60"
      ]
     },
     "execution_count": 159,
     "metadata": {},
     "output_type": "execute_result"
    }
   ],
   "source": [
    "len(df_forecast)"
   ]
  },
  {
   "cell_type": "code",
   "execution_count": 48,
   "id": "4e4bd118",
   "metadata": {},
   "outputs": [],
   "source": [
    "forecasts=pd.concat([data.reset_index(),df_forecast])"
   ]
  },
  {
   "cell_type": "code",
   "execution_count": 49,
   "id": "6df35a1e",
   "metadata": {},
   "outputs": [],
   "source": [
    "forecasts['Date']=pd.to_datetime(forecasts['Date'])"
   ]
  },
  {
   "cell_type": "markdown",
   "id": "286afde7",
   "metadata": {},
   "source": [
    "## Display the Forecasts "
   ]
  },
  {
   "cell_type": "code",
   "execution_count": 50,
   "id": "694fd4f3",
   "metadata": {},
   "outputs": [
    {
     "data": {
      "image/png": "[encoded data removed]",
      "text/plain": [
       "<Figure size 432x288 with 1 Axes>"
      ]
     },
     "metadata": {
      "needs_background": "light"
     },
     "output_type": "display_data"
    }
   ],
   "source": [
    "%matplotlib inline\n",
    "forecasts.plot( 'Date' , ['Mean Conductivity','Mean Conductivity Predicted'] )\n",
    "plt.show()"
   ]
  },
  {
   "cell_type": "code",
   "execution_count": null,
   "id": "6fd80d10",
   "metadata": {},
   "outputs": [],
   "source": []
  },
  {
   "cell_type": "code",
   "execution_count": null,
   "id": "fb710acc",
   "metadata": {},
   "outputs": [],
   "source": []
  },
  {
   "cell_type": "code",
   "execution_count": null,
   "id": "c28ecd30",
   "metadata": {},
   "outputs": [],
   "source": []
  },
  {
   "cell_type": "code",
   "execution_count": null,
   "id": "2f3c390d",
   "metadata": {},
   "outputs": [],
   "source": []
  },
  {
   "cell_type": "markdown",
   "id": "7e45c74e",
   "metadata": {},
   "source": [
    "## Approach 2: Using  a LSTM (RNN) ,Splitting the Data for Training and Testing "
   ]
  },
  {
   "cell_type": "code",
   "execution_count": 160,
   "id": "224f9f92",
   "metadata": {},
   "outputs": [],
   "source": [
    "data=data.reset_index()"
   ]
  },
  {
   "cell_type": "code",
   "execution_count": 161,
   "id": "f8926882",
   "metadata": {},
   "outputs": [],
   "source": [
    "df=data.iloc[:, [1,2,3,4,5]] #Get rid of the Date"
   ]
  },
  {
   "cell_type": "code",
   "execution_count": 162,
   "id": "59e55907",
   "metadata": {},
   "outputs": [],
   "source": [
    "len_data = df.shape[0]\n",
    "train_size = int(len_data * .7)# 70% for training and 30% for testing"
   ]
  },
  {
   "cell_type": "code",
   "execution_count": 163,
   "id": "3b0e7799",
   "metadata": {},
   "outputs": [
    {
     "data": {
      "text/plain": [
       "256"
      ]
     },
     "execution_count": 163,
     "metadata": {},
     "output_type": "execute_result"
    }
   ],
   "source": [
    "train_size"
   ]
  },
  {
   "cell_type": "code",
   "execution_count": 174,
   "id": "595f9d92",
   "metadata": {},
   "outputs": [],
   "source": [
    "xtr= df[:train_size]\n",
    "xte= df[train_size:]"
   ]
  },
  {
   "cell_type": "code",
   "execution_count": 175,
   "id": "8eb7fcc5",
   "metadata": {},
   "outputs": [],
   "source": [
    "dates=pd.DataFrame(data['Date']) #keep the dates for Display and Evaluation Purposes\n",
    "dates=data['Date']\n",
    "train_dates = dates[:train_size]\n",
    "test_dates = dates[train_size:]"
   ]
  },
  {
   "cell_type": "markdown",
   "id": "d4b30b64",
   "metadata": {},
   "source": [
    "# Standarization Using Standard Scaler "
   ]
  },
  {
   "cell_type": "code",
   "execution_count": 177,
   "id": "59d6f3ae",
   "metadata": {},
   "outputs": [],
   "source": [
    "standard_scaler = StandardScaler()\n",
    "standard_scaler  = standard_scaler .fit(xtr)\n",
    "df_for_training_scaled = standard_scaler.transform(xtr)\n",
    "df_for_testing_scaled = standard_scaler.transform(xte)\n",
    "data_scaled=standard_scaler.transform(data.drop(columns={'Date'}))"
   ]
  },
  {
   "cell_type": "markdown",
   "id": "29ac9eb4",
   "metadata": {},
   "source": [
    "## Use past 30 Values to Predict the Next One"
   ]
  },
  {
   "cell_type": "code",
   "execution_count": 181,
   "id": "09541355",
   "metadata": {},
   "outputs": [
    {
     "name": "stdout",
     "output_type": "stream",
     "text": [
      "trainX shape == (226, 30, 5).\n",
      "trainY shape == (226, 1).\n"
     ]
    }
   ],
   "source": [
    "trainX = []\n",
    "trainY = []\n",
    "\n",
    "n_future = 1   # Number of days we want to look into the future based on the past days.\n",
    "n_past = 30  # Number of past days we want to use to predict the future.\n",
    "\n",
    "#Reformat input data into a shape: (n_samples x timesteps x n_features)\n",
    "for i in range(n_past, len(df_for_training_scaled) - n_future +1):\n",
    "    trainX.append(df_for_training_scaled[i - n_past:i, 0:xtr.shape[1]])\n",
    "    trainY.append(df_for_training_scaled[i + n_future - 1:i + n_future, 0])\n",
    "\n",
    "trainX, trainY = np.array(trainX), np.array(trainY)\n",
    "\n",
    "print('trainX shape == {}.'.format(trainX.shape))\n",
    "print('trainY shape == {}.'.format(trainY.shape))"
   ]
  },
  {
   "cell_type": "markdown",
   "id": "65c59003",
   "metadata": {},
   "source": [
    "## Build The model "
   ]
  },
  {
   "cell_type": "code",
   "execution_count": 186,
   "id": "921d8842",
   "metadata": {},
   "outputs": [
    {
     "name": "stdout",
     "output_type": "stream",
     "text": [
      "Model: \"sequential_9\"\n",
      "_________________________________________________________________\n",
      "Layer (type)                 Output Shape              Param #   \n",
      "=================================================================\n",
      "lstm_10 (LSTM)               (None, 30, 32)            4864      \n",
      "_________________________________________________________________\n",
      "lstm_11 (LSTM)               (None, 10)                1720      \n",
      "_________________________________________________________________\n",
      "dense_17 (Dense)             (None, 1)                 11        \n",
      "=================================================================\n",
      "Total params: 6,595\n",
      "Trainable params: 6,595\n",
      "Non-trainable params: 0\n",
      "_________________________________________________________________\n",
      "Epoch 1/45\n",
      "29/29 [==============================] - 0s 8ms/step - loss: 0.6066\n",
      "Epoch 2/45\n",
      "29/29 [==============================] - 0s 8ms/step - loss: 0.2656\n",
      "Epoch 3/45\n",
      "29/29 [==============================] - 0s 7ms/step - loss: 0.2018\n",
      "Epoch 4/45\n",
      "29/29 [==============================] - 0s 8ms/step - loss: 0.1854\n",
      "Epoch 5/45\n",
      "29/29 [==============================] - 0s 7ms/step - loss: 0.1615\n",
      "Epoch 6/45\n",
      "29/29 [==============================] - 0s 7ms/step - loss: 0.1559\n",
      "Epoch 7/45\n",
      "29/29 [==============================] - 0s 7ms/step - loss: 0.1574\n",
      "Epoch 8/45\n",
      "29/29 [==============================] - 0s 7ms/step - loss: 0.1493\n",
      "Epoch 9/45\n",
      "29/29 [==============================] - 0s 8ms/step - loss: 0.1506\n",
      "Epoch 10/45\n",
      "29/29 [==============================] - 0s 8ms/step - loss: 0.1472\n",
      "Epoch 11/45\n",
      "29/29 [==============================] - 0s 7ms/step - loss: 0.1405\n",
      "Epoch 12/45\n",
      "29/29 [==============================] - 0s 7ms/step - loss: 0.1524\n",
      "Epoch 13/45\n",
      "29/29 [==============================] - 0s 7ms/step - loss: 0.1482\n",
      "Epoch 14/45\n",
      "29/29 [==============================] - 0s 7ms/step - loss: 0.1305\n",
      "Epoch 15/45\n",
      "29/29 [==============================] - 0s 7ms/step - loss: 0.1332\n",
      "Epoch 16/45\n",
      "29/29 [==============================] - 0s 7ms/step - loss: 0.1319\n",
      "Epoch 17/45\n",
      "29/29 [==============================] - 0s 7ms/step - loss: 0.1437\n",
      "Epoch 18/45\n",
      "29/29 [==============================] - 0s 8ms/step - loss: 0.1279\n",
      "Epoch 19/45\n",
      "29/29 [==============================] - 0s 7ms/step - loss: 0.1234\n",
      "Epoch 20/45\n",
      "29/29 [==============================] - 0s 7ms/step - loss: 0.1310\n",
      "Epoch 21/45\n",
      "29/29 [==============================] - 0s 8ms/step - loss: 0.1184\n",
      "Epoch 22/45\n",
      "29/29 [==============================] - 0s 8ms/step - loss: 0.1129\n",
      "Epoch 23/45\n",
      "29/29 [==============================] - 0s 7ms/step - loss: 0.1108\n",
      "Epoch 24/45\n",
      "29/29 [==============================] - 0s 8ms/step - loss: 0.1133\n",
      "Epoch 25/45\n",
      "29/29 [==============================] - 0s 7ms/step - loss: 0.1118\n",
      "Epoch 26/45\n",
      "29/29 [==============================] - 0s 7ms/step - loss: 0.1113\n",
      "Epoch 27/45\n",
      "29/29 [==============================] - 0s 7ms/step - loss: 0.1049\n",
      "Epoch 28/45\n",
      "29/29 [==============================] - 0s 7ms/step - loss: 0.1043\n",
      "Epoch 29/45\n",
      "29/29 [==============================] - 0s 7ms/step - loss: 0.1018\n",
      "Epoch 30/45\n",
      "29/29 [==============================] - 0s 7ms/step - loss: 0.1021\n",
      "Epoch 31/45\n",
      "29/29 [==============================] - 0s 7ms/step - loss: 0.0998\n",
      "Epoch 32/45\n",
      "29/29 [==============================] - 0s 7ms/step - loss: 0.1027\n",
      "Epoch 33/45\n",
      "29/29 [==============================] - 0s 8ms/step - loss: 0.1032\n",
      "Epoch 34/45\n",
      "29/29 [==============================] - 0s 7ms/step - loss: 0.0966\n",
      "Epoch 35/45\n",
      "29/29 [==============================] - 0s 7ms/step - loss: 0.0979\n",
      "Epoch 36/45\n",
      "29/29 [==============================] - 0s 8ms/step - loss: 0.0919\n",
      "Epoch 37/45\n",
      "29/29 [==============================] - 0s 7ms/step - loss: 0.0956\n",
      "Epoch 38/45\n",
      "29/29 [==============================] - 0s 7ms/step - loss: 0.0943\n",
      "Epoch 39/45\n",
      "29/29 [==============================] - 0s 7ms/step - loss: 0.0873\n",
      "Epoch 40/45\n",
      "29/29 [==============================] - 0s 7ms/step - loss: 0.0942\n",
      "Epoch 41/45\n",
      "29/29 [==============================] - 0s 7ms/step - loss: 0.0918\n",
      "Epoch 42/45\n",
      "29/29 [==============================] - 0s 7ms/step - loss: 0.0905\n",
      "Epoch 43/45\n",
      "29/29 [==============================] - 0s 7ms/step - loss: 0.0864\n",
      "Epoch 44/45\n",
      "29/29 [==============================] - 0s 7ms/step - loss: 0.0823\n",
      "Epoch 45/45\n",
      "29/29 [==============================] - 0s 7ms/step - loss: 0.0820\n"
     ]
    }
   ],
   "source": [
    "model2 = Sequential()\n",
    "model2.add(LSTM(32, activation='relu', input_shape=(trainX.shape[1], trainX.shape[2]), return_sequences=True))\n",
    "model2.add(LSTM(10, activation='relu', return_sequences=False))\n",
    "model2.add(Dense(trainY.shape[1]))\n",
    "\n",
    "model2.compile(optimizer='adam', loss='mse')\n",
    "model2.summary()\n",
    "\n",
    "\n",
    "# fit the model\n",
    "history = model2.fit(trainX, trainY, epochs=45, batch_size=8,verbose=1)\n"
   ]
  },
  {
   "cell_type": "markdown",
   "id": "94bfff14",
   "metadata": {},
   "source": [
    "## Time For Testing "
   ]
  },
  {
   "cell_type": "code",
   "execution_count": 202,
   "id": "7959de98",
   "metadata": {},
   "outputs": [
    {
     "name": "stdout",
     "output_type": "stream",
     "text": [
      "testX shape == (80, 30, 5).\n",
      "testY shape == (80, 1).\n"
     ]
    }
   ],
   "source": [
    "testX = []\n",
    "testY = []\n",
    "\n",
    "n_future = 1   # Number of days we want to look into the future based on the past days.\n",
    "n_past = 30  # Using the past 15 days to predict the next one.\n",
    "\n",
    "#Reformat input data into a shape: (n_samples x timesteps x n_features)\n",
    "#In my example, my df_for_training_scaled has a shape (12823, 5)\n",
    "#12823 refers to the number of data points and 5 refers to the columns (multi-variables).\n",
    "for i in range(n_past, len(df_for_testing_scaled) - n_future +1):\n",
    "    testX.append(df_for_testing_scaled[i - n_past:i, 0:df_for_testing_scaled.shape[1]])\n",
    "    testY.append(df_for_testing_scaled[i + n_future - 1:i + n_future, 0])\n",
    "\n",
    "testX, testY = np.array(testX), np.array(testY)\n",
    "\n",
    "print('testX shape == {}.'.format(testX.shape))\n",
    "print('testY shape == {}.'.format(testY.shape))"
   ]
  },
  {
   "cell_type": "code",
   "execution_count": 207,
   "id": "450ff254",
   "metadata": {},
   "outputs": [],
   "source": [
    "#labeling\n",
    "n_past = 110\n",
    "n_days_for_testing_prediction=110  #Predict the same dates as our testing sample in order to compare (80 days in the testing sample +30 that we need for very first predictions =110 dates we need)\n",
    "predict_period_dates = pd.date_range(list(test_dates)[-n_past], periods=n_days_for_testing_prediction,freq='D').tolist()\n",
    "\n"
   ]
  },
  {
   "cell_type": "code",
   "execution_count": 209,
   "id": "c5404cbf",
   "metadata": {},
   "outputs": [],
   "source": [
    "prediction = model2.predict(testX[-n_days_for_testing_prediction:]) #shape = (n, 1) where n is the n_days_for_prediction"
   ]
  },
  {
   "cell_type": "code",
   "execution_count": 211,
   "id": "a1a0518a",
   "metadata": {},
   "outputs": [],
   "source": [
    "prediction_copies = np.repeat(prediction, xte.shape[1], axis=-1) #for reshape puroposes (copye and delete)\n",
    "y_pred_future = standard_scaler.inverse_transform(prediction_copies)[:,3] #3 refers to the Mean Conductivity"
   ]
  },
  {
   "cell_type": "code",
   "execution_count": 219,
   "id": "11ea26c0",
   "metadata": {},
   "outputs": [],
   "source": [
    "forecast_dates_for_testing = []\n",
    "for time_i in predict_period_dates:\n",
    "    forecast_dates_for_testing.append(time_i.date())\n",
    "forecast_dates=pd.DataFrame({'Date':np.array(forecast_dates_for_testing)})\n",
    "forecast_dates=forecast_dates.iloc[30:]#delete first 30 dates as they are the 30 previoues needed for the prediction\n",
    "df_forecast_testing = pd.DataFrame({'Date':np.array(forecast_dates['Date']), 'Mean Conductivity Predicted':y_pred_future})\n",
    "df_forecast_testing['Date']=pd.to_datetime(df_forecast_testing['Date'])\n",
    "df_xte_testing = pd.DataFrame({'Date':np.array(forecast_dates['Date']), 'Mean Conductivity':xte['Mean Conductivity'].iloc[30:]})\n",
    "df_xte_testing['Date']=pd.to_datetime(df_xte_testing['Date'])"
   ]
  },
  {
   "cell_type": "code",
   "execution_count": 221,
   "id": "0f14db72",
   "metadata": {},
   "outputs": [],
   "source": [
    "testing_results=pd.merge(df_forecast_testing,df_xte_testing,left_on=['Date'],right_on=['Date'],how='left',indicator=True)"
   ]
  },
  {
   "cell_type": "markdown",
   "id": "dccf7443",
   "metadata": {},
   "source": [
    "##  Evaluate Regression performance using R2 "
   ]
  },
  {
   "cell_type": "code",
   "execution_count": 222,
   "id": "82afe8fc",
   "metadata": {},
   "outputs": [
    {
     "name": "stdout",
     "output_type": "stream",
     "text": [
      "Test R2:  0.09747049726493662\n"
     ]
    }
   ],
   "source": [
    "print(\"Test R2: \", r2_score(testing_results['Mean Conductivity'], testing_results['Mean Conductivity Predicted']))"
   ]
  },
  {
   "cell_type": "markdown",
   "id": "065ca971",
   "metadata": {},
   "source": [
    "## Display Results "
   ]
  },
  {
   "cell_type": "code",
   "execution_count": 223,
   "id": "d5d3d6d1",
   "metadata": {},
   "outputs": [
    {
     "data": {
      "image/png": "[encoded data removed]",
      "text/plain": [
       "<Figure size 432x288 with 1 Axes>"
      ]
     },
     "metadata": {
      "needs_background": "light"
     },
     "output_type": "display_data"
    }
   ],
   "source": [
    "%matplotlib inline\n",
    "testing_results.plot( 'Date' , ['Mean Conductivity','Mean Conductivity Predicted'] )\n",
    "plt.show()"
   ]
  },
  {
   "cell_type": "code",
   "execution_count": null,
   "id": "6e4a545f",
   "metadata": {},
   "outputs": [],
   "source": []
  },
  {
   "cell_type": "markdown",
   "id": "4687300c",
   "metadata": {},
   "source": [
    "## Approach 3: Using an LSTM (RNN) with the difference that we use the whole df for the testing "
   ]
  },
  {
   "cell_type": "code",
   "execution_count": 224,
   "id": "9b0594aa",
   "metadata": {},
   "outputs": [],
   "source": [
    "dates = pd.to_datetime(data['Date'])"
   ]
  },
  {
   "cell_type": "code",
   "execution_count": 225,
   "id": "80f6d0ee",
   "metadata": {},
   "outputs": [],
   "source": [
    "df_for_training =data.iloc[:, [1,2,3,4,5]]"
   ]
  },
  {
   "cell_type": "code",
   "execution_count": 226,
   "id": "0316e23e",
   "metadata": {},
   "outputs": [
    {
     "data": {
      "text/html": [
       "<div>\n",
       "<style scoped>\n",
       "    .dataframe tbody tr th:only-of-type {\n",
       "        vertical-align: middle;\n",
       "    }\n",
       "\n",
       "    .dataframe tbody tr th {\n",
       "        vertical-align: top;\n",
       "    }\n",
       "\n",
       "    .dataframe thead th {\n",
       "        text-align: right;\n",
       "    }\n",
       "</style>\n",
       "<table border=\"1\" class=\"dataframe\">\n",
       "  <thead>\n",
       "    <tr style=\"text-align: right;\">\n",
       "      <th></th>\n",
       "      <th>Average Temperature</th>\n",
       "      <th>Mean Watertemperature</th>\n",
       "      <th>Mean Salinity</th>\n",
       "      <th>Mean Conductivity</th>\n",
       "      <th>Mean Chlorofyl</th>\n",
       "    </tr>\n",
       "  </thead>\n",
       "  <tbody>\n",
       "    <tr>\n",
       "      <th>0</th>\n",
       "      <td>7.1</td>\n",
       "      <td>9.778000</td>\n",
       "      <td>0.473533</td>\n",
       "      <td>677.460000</td>\n",
       "      <td>6.628758</td>\n",
       "    </tr>\n",
       "    <tr>\n",
       "      <th>1</th>\n",
       "      <td>6.1</td>\n",
       "      <td>9.778000</td>\n",
       "      <td>0.473533</td>\n",
       "      <td>677.460000</td>\n",
       "      <td>6.628758</td>\n",
       "    </tr>\n",
       "    <tr>\n",
       "      <th>2</th>\n",
       "      <td>4.4</td>\n",
       "      <td>9.778000</td>\n",
       "      <td>0.473533</td>\n",
       "      <td>677.460000</td>\n",
       "      <td>6.628758</td>\n",
       "    </tr>\n",
       "    <tr>\n",
       "      <th>3</th>\n",
       "      <td>1.9</td>\n",
       "      <td>9.778000</td>\n",
       "      <td>0.473533</td>\n",
       "      <td>677.460000</td>\n",
       "      <td>6.628758</td>\n",
       "    </tr>\n",
       "    <tr>\n",
       "      <th>4</th>\n",
       "      <td>2.8</td>\n",
       "      <td>9.214583</td>\n",
       "      <td>0.464062</td>\n",
       "      <td>653.989583</td>\n",
       "      <td>6.435069</td>\n",
       "    </tr>\n",
       "    <tr>\n",
       "      <th>...</th>\n",
       "      <td>...</td>\n",
       "      <td>...</td>\n",
       "      <td>...</td>\n",
       "      <td>...</td>\n",
       "      <td>...</td>\n",
       "    </tr>\n",
       "    <tr>\n",
       "      <th>361</th>\n",
       "      <td>8.7</td>\n",
       "      <td>12.210069</td>\n",
       "      <td>0.496944</td>\n",
       "      <td>754.850694</td>\n",
       "      <td>10.620833</td>\n",
       "    </tr>\n",
       "    <tr>\n",
       "      <th>362</th>\n",
       "      <td>5.0</td>\n",
       "      <td>11.976736</td>\n",
       "      <td>0.497882</td>\n",
       "      <td>751.381944</td>\n",
       "      <td>10.678819</td>\n",
       "    </tr>\n",
       "    <tr>\n",
       "      <th>363</th>\n",
       "      <td>2.3</td>\n",
       "      <td>11.142708</td>\n",
       "      <td>0.492986</td>\n",
       "      <td>729.250000</td>\n",
       "      <td>9.947222</td>\n",
       "    </tr>\n",
       "    <tr>\n",
       "      <th>364</th>\n",
       "      <td>3.0</td>\n",
       "      <td>10.216319</td>\n",
       "      <td>0.503681</td>\n",
       "      <td>727.534722</td>\n",
       "      <td>9.950347</td>\n",
       "    </tr>\n",
       "    <tr>\n",
       "      <th>365</th>\n",
       "      <td>2.6</td>\n",
       "      <td>9.817007</td>\n",
       "      <td>0.510544</td>\n",
       "      <td>729.109589</td>\n",
       "      <td>10.110274</td>\n",
       "    </tr>\n",
       "  </tbody>\n",
       "</table>\n",
       "<p>366 rows × 5 columns</p>\n",
       "</div>"
      ],
      "text/plain": [
       "     Average Temperature  Mean Watertemperature  Mean Salinity  \\\n",
       "0                    7.1               9.778000       0.473533   \n",
       "1                    6.1               9.778000       0.473533   \n",
       "2                    4.4               9.778000       0.473533   \n",
       "3                    1.9               9.778000       0.473533   \n",
       "4                    2.8               9.214583       0.464062   \n",
       "..                   ...                    ...            ...   \n",
       "361                  8.7              12.210069       0.496944   \n",
       "362                  5.0              11.976736       0.497882   \n",
       "363                  2.3              11.142708       0.492986   \n",
       "364                  3.0              10.216319       0.503681   \n",
       "365                  2.6               9.817007       0.510544   \n",
       "\n",
       "     Mean Conductivity  Mean Chlorofyl  \n",
       "0           677.460000        6.628758  \n",
       "1           677.460000        6.628758  \n",
       "2           677.460000        6.628758  \n",
       "3           677.460000        6.628758  \n",
       "4           653.989583        6.435069  \n",
       "..                 ...             ...  \n",
       "361         754.850694       10.620833  \n",
       "362         751.381944       10.678819  \n",
       "363         729.250000        9.947222  \n",
       "364         727.534722        9.950347  \n",
       "365         729.109589       10.110274  \n",
       "\n",
       "[366 rows x 5 columns]"
      ]
     },
     "execution_count": 226,
     "metadata": {},
     "output_type": "execute_result"
    }
   ],
   "source": [
    "df_for_training"
   ]
  },
  {
   "cell_type": "markdown",
   "id": "f2a4aa11",
   "metadata": {},
   "source": [
    "# Standarization again"
   ]
  },
  {
   "cell_type": "code",
   "execution_count": 85,
   "id": "62c81b3e",
   "metadata": {},
   "outputs": [],
   "source": [
    "scaler = standard_scaler.fit(df_for_training)\n",
    "df_for_training_scaled = standard_scaler.transform(df_for_training)"
   ]
  },
  {
   "cell_type": "code",
   "execution_count": 229,
   "id": "89771d2f",
   "metadata": {},
   "outputs": [
    {
     "name": "stdout",
     "output_type": "stream",
     "text": [
      "trainX shape == (166, 90, 5).\n",
      "trainY shape == (166, 1).\n"
     ]
    }
   ],
   "source": [
    "trainX = []\n",
    "trainY = []\n",
    "\n",
    "n_future = 1   # Number of days we want to look into the future based on the past days.\n",
    "n_past = 90  # Number of past days we want to use to predict the future.\n",
    "\n",
    "for i in range(n_past, len(df_for_training_scaled) - n_future +1):\n",
    "    trainX.append(df_for_training_scaled[i - n_past:i, 0:df_for_training.shape[1]])\n",
    "    trainY.append(df_for_training_scaled[i + n_future - 1:i + n_future, 0])\n",
    "\n",
    "trainX, trainY = np.array(trainX), np.array(trainY)\n",
    "\n",
    "print('trainX shape == {}.'.format(trainX.shape))\n",
    "print('trainY shape == {}.'.format(trainY.shape))"
   ]
  },
  {
   "cell_type": "markdown",
   "id": "6ff6afc3",
   "metadata": {},
   "source": [
    "## Build the model"
   ]
  },
  {
   "cell_type": "code",
   "execution_count": 230,
   "id": "241541fa",
   "metadata": {},
   "outputs": [
    {
     "name": "stdout",
     "output_type": "stream",
     "text": [
      "Model: \"sequential_11\"\n",
      "_________________________________________________________________\n",
      "Layer (type)                 Output Shape              Param #   \n",
      "=================================================================\n",
      "lstm_14 (LSTM)               (None, 90, 64)            17920     \n",
      "_________________________________________________________________\n",
      "lstm_15 (LSTM)               (None, 32)                12416     \n",
      "_________________________________________________________________\n",
      "dense_19 (Dense)             (None, 1)                 33        \n",
      "=================================================================\n",
      "Total params: 30,369\n",
      "Trainable params: 30,369\n",
      "Non-trainable params: 0\n",
      "_________________________________________________________________\n",
      "Epoch 1/65\n",
      "21/21 [==============================] - 1s 26ms/step - loss: 0.5578\n",
      "Epoch 2/65\n",
      "21/21 [==============================] - 1s 25ms/step - loss: 0.2105\n",
      "Epoch 3/65\n",
      "21/21 [==============================] - 1s 25ms/step - loss: 0.1703\n",
      "Epoch 4/65\n",
      "21/21 [==============================] - 1s 25ms/step - loss: 0.1343\n",
      "Epoch 5/65\n",
      "21/21 [==============================] - 1s 25ms/step - loss: 0.1234\n",
      "Epoch 6/65\n",
      "21/21 [==============================] - 1s 25ms/step - loss: 0.1262\n",
      "Epoch 7/65\n",
      "21/21 [==============================] - 1s 25ms/step - loss: 0.1258\n",
      "Epoch 8/65\n",
      "21/21 [==============================] - 1s 26ms/step - loss: 0.1213\n",
      "Epoch 9/65\n",
      "21/21 [==============================] - 1s 25ms/step - loss: 0.1167\n",
      "Epoch 10/65\n",
      "21/21 [==============================] - 1s 25ms/step - loss: 0.1183\n",
      "Epoch 11/65\n",
      "21/21 [==============================] - 1s 25ms/step - loss: 0.1162\n",
      "Epoch 12/65\n",
      "21/21 [==============================] - 1s 25ms/step - loss: 0.1174\n",
      "Epoch 13/65\n",
      "21/21 [==============================] - 1s 25ms/step - loss: 0.1221\n",
      "Epoch 14/65\n",
      "21/21 [==============================] - 1s 25ms/step - loss: 0.1206\n",
      "Epoch 15/65\n",
      "21/21 [==============================] - 1s 28ms/step - loss: 0.1180\n",
      "Epoch 16/65\n",
      "21/21 [==============================] - 1s 24ms/step - loss: 0.1161\n",
      "Epoch 17/65\n",
      "21/21 [==============================] - 1s 24ms/step - loss: 0.1131\n",
      "Epoch 18/65\n",
      "21/21 [==============================] - 1s 26ms/step - loss: 0.1134\n",
      "Epoch 19/65\n",
      "21/21 [==============================] - 1s 25ms/step - loss: 0.1165\n",
      "Epoch 20/65\n",
      "21/21 [==============================] - 1s 24ms/step - loss: 0.1104\n",
      "Epoch 21/65\n",
      "21/21 [==============================] - 1s 24ms/step - loss: 0.1091\n",
      "Epoch 22/65\n",
      "21/21 [==============================] - 1s 25ms/step - loss: 0.1157\n",
      "Epoch 23/65\n",
      "21/21 [==============================] - 1s 25ms/step - loss: 0.1090\n",
      "Epoch 24/65\n",
      "21/21 [==============================] - 1s 25ms/step - loss: 0.1201\n",
      "Epoch 25/65\n",
      "21/21 [==============================] - 1s 24ms/step - loss: 0.1085\n",
      "Epoch 26/65\n",
      "21/21 [==============================] - 1s 25ms/step - loss: 0.1047\n",
      "Epoch 27/65\n",
      "21/21 [==============================] - 1s 25ms/step - loss: 0.1041\n",
      "Epoch 28/65\n",
      "21/21 [==============================] - 1s 25ms/step - loss: 0.1049\n",
      "Epoch 29/65\n",
      "21/21 [==============================] - 1s 25ms/step - loss: 0.1041\n",
      "Epoch 30/65\n",
      "21/21 [==============================] - 1s 25ms/step - loss: 0.1035\n",
      "Epoch 31/65\n",
      "21/21 [==============================] - 1s 25ms/step - loss: 0.1057\n",
      "Epoch 32/65\n",
      "21/21 [==============================] - 1s 26ms/step - loss: 0.1081\n",
      "Epoch 33/65\n",
      "21/21 [==============================] - 1s 26ms/step - loss: 0.0989\n",
      "Epoch 34/65\n",
      "21/21 [==============================] - 1s 24ms/step - loss: 0.1012\n",
      "Epoch 35/65\n",
      "21/21 [==============================] - 1s 25ms/step - loss: 0.1038\n",
      "Epoch 36/65\n",
      "21/21 [==============================] - 1s 25ms/step - loss: 0.1026\n",
      "Epoch 37/65\n",
      "21/21 [==============================] - 1s 25ms/step - loss: 0.0996\n",
      "Epoch 38/65\n",
      "21/21 [==============================] - 1s 25ms/step - loss: 0.0969\n",
      "Epoch 39/65\n",
      "21/21 [==============================] - 1s 27ms/step - loss: 0.0954\n",
      "Epoch 40/65\n",
      "21/21 [==============================] - 1s 25ms/step - loss: 0.1008\n",
      "Epoch 41/65\n",
      "21/21 [==============================] - 1s 25ms/step - loss: 0.0933\n",
      "Epoch 42/65\n",
      "21/21 [==============================] - 1s 25ms/step - loss: 0.1058\n",
      "Epoch 43/65\n",
      "21/21 [==============================] - 1s 26ms/step - loss: 0.0953\n",
      "Epoch 44/65\n",
      "21/21 [==============================] - 1s 27ms/step - loss: 0.0935\n",
      "Epoch 45/65\n",
      "21/21 [==============================] - 1s 25ms/step - loss: 0.0930\n",
      "Epoch 46/65\n",
      "21/21 [==============================] - 1s 25ms/step - loss: 0.0936\n",
      "Epoch 47/65\n",
      "21/21 [==============================] - 1s 25ms/step - loss: 0.0903\n",
      "Epoch 48/65\n",
      "21/21 [==============================] - 1s 25ms/step - loss: 0.0918\n",
      "Epoch 49/65\n",
      "21/21 [==============================] - 1s 27ms/step - loss: 0.0849\n",
      "Epoch 50/65\n",
      "21/21 [==============================] - 1s 25ms/step - loss: 0.0938\n",
      "Epoch 51/65\n",
      "21/21 [==============================] - 1s 26ms/step - loss: 0.0897\n",
      "Epoch 52/65\n",
      "21/21 [==============================] - 1s 26ms/step - loss: 0.0865\n",
      "Epoch 53/65\n",
      "21/21 [==============================] - 1s 25ms/step - loss: 0.0857\n",
      "Epoch 54/65\n",
      "21/21 [==============================] - 1s 24ms/step - loss: 0.0882\n",
      "Epoch 55/65\n",
      "21/21 [==============================] - 1s 25ms/step - loss: 0.0974\n",
      "Epoch 56/65\n",
      "21/21 [==============================] - 1s 26ms/step - loss: 0.0862\n",
      "Epoch 57/65\n",
      "21/21 [==============================] - 1s 25ms/step - loss: 0.0785\n",
      "Epoch 58/65\n",
      "21/21 [==============================] - 1s 25ms/step - loss: 0.0781\n",
      "Epoch 59/65\n",
      "21/21 [==============================] - 1s 24ms/step - loss: 0.0884\n",
      "Epoch 60/65\n",
      "21/21 [==============================] - 1s 26ms/step - loss: 0.0883\n",
      "Epoch 61/65\n",
      "21/21 [==============================] - 1s 25ms/step - loss: 0.0751\n",
      "Epoch 62/65\n",
      "21/21 [==============================] - 1s 25ms/step - loss: 0.0738\n",
      "Epoch 63/65\n",
      "21/21 [==============================] - 1s 26ms/step - loss: 0.0741\n",
      "Epoch 64/65\n",
      "21/21 [==============================] - 1s 25ms/step - loss: 0.0756\n",
      "Epoch 65/65\n",
      "21/21 [==============================] - 1s 26ms/step - loss: 0.0822\n"
     ]
    }
   ],
   "source": [
    "model3 = Sequential()\n",
    "model3.add(LSTM(64, activation='relu', input_shape=(trainX.shape[1], trainX.shape[2]), return_sequences=True))\n",
    "model3.add(LSTM(32, activation='relu', return_sequences=False))\n",
    "model3.add(Dense(trainY.shape[1]))\n",
    "\n",
    "model3.compile(optimizer='adam', loss='mse')\n",
    "model3.summary()\n",
    "\n",
    "\n",
    "# fit the model\n",
    "history = model3.fit(trainX, trainY, epochs=65, batch_size=8, verbose=1)\n"
   ]
  },
  {
   "cell_type": "code",
   "execution_count": 231,
   "id": "418d8048",
   "metadata": {},
   "outputs": [],
   "source": [
    "n_past = 90\n",
    "n_days_for_prediction=150  #Predict the next 60 days using the previous 90\n",
    "\n",
    "predict_period_dates = pd.date_range(list(dates)[-n_past], periods=n_days_for_prediction, freq='D').tolist()"
   ]
  },
  {
   "cell_type": "code",
   "execution_count": 234,
   "id": "5815172b",
   "metadata": {},
   "outputs": [
    {
     "data": {
      "text/plain": [
       "(150, 90, 5)"
      ]
     },
     "execution_count": 234,
     "metadata": {},
     "output_type": "execute_result"
    }
   ],
   "source": [
    "trainX[-n_days_for_prediction:].shape"
   ]
  },
  {
   "cell_type": "code",
   "execution_count": 233,
   "id": "3f86431e",
   "metadata": {},
   "outputs": [],
   "source": [
    "prediction = model3.predict(trainX[-n_days_for_prediction:]) #shape = (n, 1) where n is the n_days_for_prediction"
   ]
  },
  {
   "cell_type": "code",
   "execution_count": 235,
   "id": "f80b4367",
   "metadata": {},
   "outputs": [],
   "source": [
    "prediction_copies = np.repeat(prediction, df_for_training.shape[1], axis=-1)#reshape\n",
    "y_pred_future = scaler.inverse_transform(prediction_copies)[:,3]# inverse standarization"
   ]
  },
  {
   "cell_type": "code",
   "execution_count": 253,
   "id": "2075dff4",
   "metadata": {},
   "outputs": [],
   "source": [
    "forecast_dates = []\n",
    "for time_i in predict_period_dates:\n",
    "    forecast_dates.append(time_i.date())\n",
    "df_forecast = pd.DataFrame({'Date':np.array(forecast_dates), 'Mean Conductivity Predicted':y_pred_future})\n",
    "df_forecast['Date']=pd.to_datetime(df_forecast['Date'])"
   ]
  },
  {
   "cell_type": "code",
   "execution_count": 254,
   "id": "c2a193e2",
   "metadata": {},
   "outputs": [
    {
     "data": {
      "text/plain": [
       "150"
      ]
     },
     "execution_count": 254,
     "metadata": {},
     "output_type": "execute_result"
    }
   ],
   "source": [
    "len(df_forecast)"
   ]
  },
  {
   "cell_type": "markdown",
   "id": "2ac2e449",
   "metadata": {},
   "source": [
    "## Keep only the days tha was used for the prediction, in order to test and compare"
   ]
  },
  {
   "cell_type": "code",
   "execution_count": 258,
   "id": "d4eee925",
   "metadata": {},
   "outputs": [],
   "source": [
    "testing_results=pd.merge(df_forecast,data,left_on=['Date'],right_on=['Date'],how='left',indicator=True)"
   ]
  },
  {
   "cell_type": "code",
   "execution_count": 259,
   "id": "7a3f30a7",
   "metadata": {},
   "outputs": [],
   "source": [
    "testing=testing_results.dropna()"
   ]
  },
  {
   "cell_type": "code",
   "execution_count": 260,
   "id": "6c293a1b",
   "metadata": {},
   "outputs": [
    {
     "data": {
      "text/html": [
       "<div>\n",
       "<style scoped>\n",
       "    .dataframe tbody tr th:only-of-type {\n",
       "        vertical-align: middle;\n",
       "    }\n",
       "\n",
       "    .dataframe tbody tr th {\n",
       "        vertical-align: top;\n",
       "    }\n",
       "\n",
       "    .dataframe thead th {\n",
       "        text-align: right;\n",
       "    }\n",
       "</style>\n",
       "<table border=\"1\" class=\"dataframe\">\n",
       "  <thead>\n",
       "    <tr style=\"text-align: right;\">\n",
       "      <th></th>\n",
       "      <th>Date</th>\n",
       "      <th>Mean Conductivity Predicted</th>\n",
       "      <th>Average Temperature</th>\n",
       "      <th>Mean Watertemperature</th>\n",
       "      <th>Mean Salinity</th>\n",
       "      <th>Mean Conductivity</th>\n",
       "      <th>Mean Chlorofyl</th>\n",
       "      <th>_merge</th>\n",
       "    </tr>\n",
       "  </thead>\n",
       "  <tbody>\n",
       "    <tr>\n",
       "      <th>0</th>\n",
       "      <td>2022-01-04</td>\n",
       "      <td>813.081482</td>\n",
       "      <td>7.0</td>\n",
       "      <td>9.620486</td>\n",
       "      <td>0.371042</td>\n",
       "      <td>533.336806</td>\n",
       "      <td>6.863889</td>\n",
       "      <td>both</td>\n",
       "    </tr>\n",
       "    <tr>\n",
       "      <th>1</th>\n",
       "      <td>2022-01-05</td>\n",
       "      <td>825.382751</td>\n",
       "      <td>4.2</td>\n",
       "      <td>8.960417</td>\n",
       "      <td>0.327431</td>\n",
       "      <td>464.388889</td>\n",
       "      <td>8.951736</td>\n",
       "      <td>both</td>\n",
       "    </tr>\n",
       "    <tr>\n",
       "      <th>2</th>\n",
       "      <td>2022-01-06</td>\n",
       "      <td>830.854553</td>\n",
       "      <td>3.8</td>\n",
       "      <td>8.195486</td>\n",
       "      <td>0.327222</td>\n",
       "      <td>455.434028</td>\n",
       "      <td>8.392014</td>\n",
       "      <td>both</td>\n",
       "    </tr>\n",
       "    <tr>\n",
       "      <th>3</th>\n",
       "      <td>2022-01-07</td>\n",
       "      <td>832.175110</td>\n",
       "      <td>4.4</td>\n",
       "      <td>7.551042</td>\n",
       "      <td>0.325694</td>\n",
       "      <td>445.194444</td>\n",
       "      <td>7.130208</td>\n",
       "      <td>both</td>\n",
       "    </tr>\n",
       "    <tr>\n",
       "      <th>4</th>\n",
       "      <td>2022-01-08</td>\n",
       "      <td>829.350708</td>\n",
       "      <td>4.2</td>\n",
       "      <td>6.944444</td>\n",
       "      <td>0.328437</td>\n",
       "      <td>442.017361</td>\n",
       "      <td>6.804861</td>\n",
       "      <td>both</td>\n",
       "    </tr>\n",
       "    <tr>\n",
       "      <th>...</th>\n",
       "      <td>...</td>\n",
       "      <td>...</td>\n",
       "      <td>...</td>\n",
       "      <td>...</td>\n",
       "      <td>...</td>\n",
       "      <td>...</td>\n",
       "      <td>...</td>\n",
       "      <td>...</td>\n",
       "    </tr>\n",
       "    <tr>\n",
       "      <th>85</th>\n",
       "      <td>2022-03-30</td>\n",
       "      <td>608.356995</td>\n",
       "      <td>8.7</td>\n",
       "      <td>12.210069</td>\n",
       "      <td>0.496944</td>\n",
       "      <td>754.850694</td>\n",
       "      <td>10.620833</td>\n",
       "      <td>both</td>\n",
       "    </tr>\n",
       "    <tr>\n",
       "      <th>86</th>\n",
       "      <td>2022-03-31</td>\n",
       "      <td>613.942566</td>\n",
       "      <td>5.0</td>\n",
       "      <td>11.976736</td>\n",
       "      <td>0.497882</td>\n",
       "      <td>751.381944</td>\n",
       "      <td>10.678819</td>\n",
       "      <td>both</td>\n",
       "    </tr>\n",
       "    <tr>\n",
       "      <th>87</th>\n",
       "      <td>2022-04-01</td>\n",
       "      <td>619.469666</td>\n",
       "      <td>2.3</td>\n",
       "      <td>11.142708</td>\n",
       "      <td>0.492986</td>\n",
       "      <td>729.250000</td>\n",
       "      <td>9.947222</td>\n",
       "      <td>both</td>\n",
       "    </tr>\n",
       "    <tr>\n",
       "      <th>88</th>\n",
       "      <td>2022-04-02</td>\n",
       "      <td>624.263977</td>\n",
       "      <td>3.0</td>\n",
       "      <td>10.216319</td>\n",
       "      <td>0.503681</td>\n",
       "      <td>727.534722</td>\n",
       "      <td>9.950347</td>\n",
       "      <td>both</td>\n",
       "    </tr>\n",
       "    <tr>\n",
       "      <th>89</th>\n",
       "      <td>2022-04-03</td>\n",
       "      <td>629.028992</td>\n",
       "      <td>2.6</td>\n",
       "      <td>9.817007</td>\n",
       "      <td>0.510544</td>\n",
       "      <td>729.109589</td>\n",
       "      <td>10.110274</td>\n",
       "      <td>both</td>\n",
       "    </tr>\n",
       "  </tbody>\n",
       "</table>\n",
       "<p>90 rows × 8 columns</p>\n",
       "</div>"
      ],
      "text/plain": [
       "         Date  Mean Conductivity Predicted  Average Temperature  \\\n",
       "0  2022-01-04                   813.081482                  7.0   \n",
       "1  2022-01-05                   825.382751                  4.2   \n",
       "2  2022-01-06                   830.854553                  3.8   \n",
       "3  2022-01-07                   832.175110                  4.4   \n",
       "4  2022-01-08                   829.350708                  4.2   \n",
       "..        ...                          ...                  ...   \n",
       "85 2022-03-30                   608.356995                  8.7   \n",
       "86 2022-03-31                   613.942566                  5.0   \n",
       "87 2022-04-01                   619.469666                  2.3   \n",
       "88 2022-04-02                   624.263977                  3.0   \n",
       "89 2022-04-03                   629.028992                  2.6   \n",
       "\n",
       "    Mean Watertemperature  Mean Salinity  Mean Conductivity  Mean Chlorofyl  \\\n",
       "0                9.620486       0.371042         533.336806        6.863889   \n",
       "1                8.960417       0.327431         464.388889        8.951736   \n",
       "2                8.195486       0.327222         455.434028        8.392014   \n",
       "3                7.551042       0.325694         445.194444        7.130208   \n",
       "4                6.944444       0.328437         442.017361        6.804861   \n",
       "..                    ...            ...                ...             ...   \n",
       "85              12.210069       0.496944         754.850694       10.620833   \n",
       "86              11.976736       0.497882         751.381944       10.678819   \n",
       "87              11.142708       0.492986         729.250000        9.947222   \n",
       "88              10.216319       0.503681         727.534722        9.950347   \n",
       "89               9.817007       0.510544         729.109589       10.110274   \n",
       "\n",
       "   _merge  \n",
       "0    both  \n",
       "1    both  \n",
       "2    both  \n",
       "3    both  \n",
       "4    both  \n",
       "..    ...  \n",
       "85   both  \n",
       "86   both  \n",
       "87   both  \n",
       "88   both  \n",
       "89   both  \n",
       "\n",
       "[90 rows x 8 columns]"
      ]
     },
     "execution_count": 260,
     "metadata": {},
     "output_type": "execute_result"
    }
   ],
   "source": [
    "testing"
   ]
  },
  {
   "cell_type": "code",
   "execution_count": 261,
   "id": "69c47e9c",
   "metadata": {},
   "outputs": [
    {
     "name": "stdout",
     "output_type": "stream",
     "text": [
      "Test R2:  -4.4041145954259004\n"
     ]
    }
   ],
   "source": [
    "print(\"Test R2: \", r2_score(testing['Mean Conductivity'], testing['Mean Conductivity Predicted']))"
   ]
  },
  {
   "cell_type": "markdown",
   "id": "22f6418d",
   "metadata": {},
   "source": [
    "## Display both Testing values (where the lines coexist) and the forecasted values (only orange line)"
   ]
  },
  {
   "cell_type": "code",
   "execution_count": 262,
   "id": "26acee59",
   "metadata": {},
   "outputs": [
    {
     "data": {
      "image/png": "[encoded data removed]",
      "text/plain": [
       "<Figure size 432x288 with 1 Axes>"
      ]
     },
     "metadata": {
      "needs_background": "light"
     },
     "output_type": "display_data"
    }
   ],
   "source": [
    "%matplotlib inline\n",
    "testing_results.plot( 'Date' , ['Mean Conductivity','Mean Conductivity Predicted'] )\n",
    "plt.show()"
   ]
  },
  {
   "cell_type": "code",
   "execution_count": null,
   "id": "02135972",
   "metadata": {},
   "outputs": [],
   "source": []
  }
 ],
 "metadata": {
  "kernelspec": {
   "display_name": "Python 3",
   "language": "python",
   "name": "python3"
  },
  "language_info": {
   "codemirror_mode": {
    "name": "ipython",
    "version": 3
   },
   "file_extension": ".py",
   "mimetype": "text/x-python",
   "name": "python",
   "nbconvert_exporter": "python",
   "pygments_lexer": "ipython3",
   "version": "3.8.10"
  }
 },
 "nbformat": 4,
 "nbformat_minor": 5
}
